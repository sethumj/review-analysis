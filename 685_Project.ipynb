{
  "cells": [
    {
      "cell_type": "markdown",
      "metadata": {
        "id": "view-in-github",
        "colab_type": "text"
      },
      "source": [
        "<a href=\"https://colab.research.google.com/github/sethumj/review-analysis/blob/main/685_Project.ipynb\" target=\"_parent\"><img src=\"https://colab.research.google.com/assets/colab-badge.svg\" alt=\"Open In Colab\"/></a>"
      ]
    },
    {
      "cell_type": "markdown",
      "source": [
        "Team Members = [Sethu Mettukulam Jagadeesan, Jayasri Duggina, Jashwanth Jampala]"
      ],
      "metadata": {
        "id": "7FLU9Kq9J2wd"
      }
    },
    {
      "cell_type": "code",
      "execution_count": null,
      "metadata": {
        "colab": {
          "base_uri": "https://localhost:8080/"
        },
        "id": "N3BV8MiqiKN4",
        "outputId": "d629e77c-db3d-4081-d89b-d2273e177f05"
      },
      "outputs": [
        {
          "output_type": "stream",
          "name": "stdout",
          "text": [
            "Looking in indexes: https://pypi.org/simple, https://us-python.pkg.dev/colab-wheels/public/simple/\n",
            "Requirement already satisfied: transformers in /usr/local/lib/python3.10/dist-packages (4.30.2)\n",
            "Requirement already satisfied: filelock in /usr/local/lib/python3.10/dist-packages (from transformers) (3.12.0)\n",
            "Requirement already satisfied: huggingface-hub<1.0,>=0.14.1 in /usr/local/lib/python3.10/dist-packages (from transformers) (0.15.1)\n",
            "Requirement already satisfied: numpy>=1.17 in /usr/local/lib/python3.10/dist-packages (from transformers) (1.22.4)\n",
            "Requirement already satisfied: packaging>=20.0 in /usr/local/lib/python3.10/dist-packages (from transformers) (23.1)\n",
            "Requirement already satisfied: pyyaml>=5.1 in /usr/local/lib/python3.10/dist-packages (from transformers) (6.0)\n",
            "Requirement already satisfied: regex!=2019.12.17 in /usr/local/lib/python3.10/dist-packages (from transformers) (2022.10.31)\n",
            "Requirement already satisfied: requests in /usr/local/lib/python3.10/dist-packages (from transformers) (2.27.1)\n",
            "Requirement already satisfied: tokenizers!=0.11.3,<0.14,>=0.11.1 in /usr/local/lib/python3.10/dist-packages (from transformers) (0.13.3)\n",
            "Requirement already satisfied: safetensors>=0.3.1 in /usr/local/lib/python3.10/dist-packages (from transformers) (0.3.1)\n",
            "Requirement already satisfied: tqdm>=4.27 in /usr/local/lib/python3.10/dist-packages (from transformers) (4.65.0)\n",
            "Requirement already satisfied: fsspec in /usr/local/lib/python3.10/dist-packages (from huggingface-hub<1.0,>=0.14.1->transformers) (2023.4.0)\n",
            "Requirement already satisfied: typing-extensions>=3.7.4.3 in /usr/local/lib/python3.10/dist-packages (from huggingface-hub<1.0,>=0.14.1->transformers) (4.5.0)\n",
            "Requirement already satisfied: urllib3<1.27,>=1.21.1 in /usr/local/lib/python3.10/dist-packages (from requests->transformers) (1.26.15)\n",
            "Requirement already satisfied: certifi>=2017.4.17 in /usr/local/lib/python3.10/dist-packages (from requests->transformers) (2022.12.7)\n",
            "Requirement already satisfied: charset-normalizer~=2.0.0 in /usr/local/lib/python3.10/dist-packages (from requests->transformers) (2.0.12)\n",
            "Requirement already satisfied: idna<4,>=2.5 in /usr/local/lib/python3.10/dist-packages (from requests->transformers) (3.4)\n"
          ]
        },
        {
          "output_type": "stream",
          "name": "stderr",
          "text": [
            "[nltk_data] Downloading package stopwords to /root/nltk_data...\n",
            "[nltk_data]   Package stopwords is already up-to-date!\n",
            "[nltk_data] Downloading package wordnet to /root/nltk_data...\n",
            "[nltk_data]   Package wordnet is already up-to-date!\n"
          ]
        },
        {
          "output_type": "execute_result",
          "data": {
            "text/plain": [
              "True"
            ]
          },
          "metadata": {},
          "execution_count": 95
        }
      ],
      "source": [
        "!pip install transformers\n",
        "import re\n",
        "import nltk\n",
        "import nltk.corpus\n",
        "import pandas as pd\n",
        "import numpy as np\n",
        "from nltk.corpus import stopwords\n",
        "from nltk.stem.porter import PorterStemmer\n",
        "from nltk.stem import WordNetLemmatizer\n",
        "from sklearn import tree\n",
        "from sklearn.feature_extraction.text import TfidfVectorizer\n",
        "from sklearn.metrics import classification_report\n",
        "from transformers import BertTokenizer, BertModel\n",
        "from sklearn.model_selection import train_test_split\n",
        "from sklearn.tree import DecisionTreeClassifier\n",
        "from sklearn.metrics import classification_report\n",
        "from sklearn.feature_extraction.text import CountVectorizer\n",
        "from sklearn.linear_model import LogisticRegression\n",
        "from sklearn import metrics\n",
        "nltk.download('stopwords')\n",
        "nltk.download('wordnet')"
      ]
    },
    {
      "cell_type": "markdown",
      "source": [
        "Final_Data -- This csv file contains three targets (Positive, Negative, Bugs)\n",
        "\n",
        "Final_Data_PN -- This csv file contains two targets (Positive, Negative)\n",
        "\n",
        "The code written is generic to support both the files this is done to reduce the code redundancy. For testing replace the file you want to train upon.\n",
        "\n",
        "Make sure to upload these files before executing."
      ],
      "metadata": {
        "id": "iJ05ZyfOKC9L"
      }
    },
    {
      "cell_type": "code",
      "execution_count": null,
      "metadata": {
        "id": "npm3oL2G3hqz"
      },
      "outputs": [],
      "source": [
        "labelled_data = pd.read_csv(\"Final_data_PN.csv\")\n",
        "labelled_data = labelled_data.dropna()\n",
        "comments = labelled_data['comment']\n",
        "filtered_comments = []"
      ]
    },
    {
      "cell_type": "code",
      "execution_count": null,
      "metadata": {
        "id": "Kdspx-Ki4QlE"
      },
      "outputs": [],
      "source": [
        "def preprocess(data):\n",
        "  processed_text=[]\n",
        "  for text in data:\n",
        "    text = str(text)\n",
        "    #to lowercase\n",
        "    text = text.lower()\n",
        "    #eliminate the punctuation, URL, and @\n",
        "    text = re.sub(r\"(@\\[A-Za-z0-9]+)|([^0-9A-Za-z \\t])|(\\w+:\\/\\/\\S+)|^rt|http.+?\", \"\", text)\n",
        "    #remove the stop words\n",
        "    stop = stopwords.words('english')\n",
        "    text = \" \".join([word for word in text.split() if word not in (stop)])\n",
        "    #lemmatization\n",
        "    lemmatizer = WordNetLemmatizer()\n",
        "    l_text =\"\"\n",
        "    for word in text.split():\n",
        "      l_text+=\" \"+lemmatizer.lemmatize(word)\n",
        "    #print(l_text)\n",
        "    processed_text.append(l_text)\n",
        "  return processed_text"
      ]
    },
    {
      "cell_type": "markdown",
      "metadata": {
        "id": "g8JQxlKu4KIK"
      },
      "source": [
        "Decision Tree using Bag of words approach"
      ]
    },
    {
      "cell_type": "code",
      "execution_count": null,
      "metadata": {
        "colab": {
          "base_uri": "https://localhost:8080/"
        },
        "id": "cTfz0CAZ4SrK",
        "outputId": "02affda8-7890-49e3-8285-956faf9c9ca9"
      },
      "outputs": [
        {
          "output_type": "stream",
          "name": "stdout",
          "text": [
            "['001jpg' '00am' '01011970' ... 'zooming' 'zoomtext' 'zwelethu']\n",
            "{'wow': 8273, 'infuriating': 3867, 'experience': 2779, 'trying': 7614, 'reset': 6177, 'linkedin': 4313, 'password': 5275, 'took': 7485, 'whopping': 8186, '50': 244, 'minute': 4657, 'valuable': 7938, 'time': 7426, 'end': 2588, 'emptyhanded': 2572, 'without': 8223, 'complete': 1698, 'waste': 8098, 'mean': 4549, 'seriously': 6573, 'hard': 3479, 'provide': 5727, 'straightforward': 7047, 'efficient': 2521, 'recovery': 5941, 'process': 5668, 'instead': 3916, 'forced': 3088, 'jump': 4095, 'countless': 1889, 'hoop': 3619, 'navigate': 4827, 'maze': 4545, 'confusing': 1752, 'option': 5124, 'deal': 2039, 'endless': 2593, 'redirects': 5965, 'absolute': 358, 'nightmare': 4903, 'many': 4497, 'cant': 1342, 'tap': 7250, 'show': 6662, 'comment': 1650, 'doesnt': 2354, 'anything': 671, 'didnt': 2213, 'load': 4348, 'full': 3199, 'text': 7326, 'especially': 2675, 'prevalent': 5622, 'low': 4423, 'connectivity': 1764, 'area': 757, 'messaging': 4598, 'weird': 8142, 'reply': 6131, 'direct': 2244, 'message': 4595, 'notification': 4966, 'tray': 7559, 'opening': 5096, 'app': 688, 'swipe': 7208, 'away': 911, 'notify': 4972, 'second': 6503, 'new': 4879, 'sent': 6556, 'lol': 4383, 'inconvenience': 3808, 'give': 3301, 'impression': 3769, 'quality': 5776, 'used': 7896, 'love': 4417, 'recent': 5899, 'update': 7851, 'theyve': 7365, 'removed': 6090, 'save': 6421, 'picture': 5404, 'download': 2388, 'really': 5869, 'frustrating': 3190, 'feature': 2914, 'share': 6613, 'image': 3729, 'relevant': 6051, 'work': 8242, 'additionally': 448, 'since': 6719, 'ive': 4056, 'noticed': 4963, 'always': 599, 'old': 5054, 'feed': 2927, 'dont': 2368, 'get': 3275, 'post': 5540, 'disappointing': 2268, 'see': 6514, 'great': 3384, 'take': 7241, 'step': 7012, 'backwards': 935, 'like': 4291, 'hope': 3620, 'team': 7276, 'fix': 3014, 'issue': 4029, 'soon': 6862, 'basic': 978, 'function': 3206, 'example': 2725, 'reading': 5852, 'want': 8077, 'click': 1559, 'read': 5847, 'nothing': 4956, 'happens': 3470, 'expand': 2770, 'fully': 3203, 'following': 3073, 'link': 4310, 'also': 590, 'saving': 6424, 'photo': 5389, 'neither': 4859, 'bad': 937, 'edit': 2504, 'may': 4542, 'clicking': 1563, 'private': 5651, 'still': 7023, 'page': 5228, 'found': 3130, 'error': 2666, 'within': 8222, 'userfriendly': 7905, 'go': 3323, 'back': 920, 'main': 4454, 'search': 6493, 'something': 6849, 'different': 2219, 'filter': 2971, 'close': 1572, 'reopen': 6107, 'often': 5047, 'occurred': 5019, 'even': 2694, 'enable': 2575, 'premium': 5594, 'recommend': 5925, 'poor': 5513, 'service': 6577, 'contact': 1789, 'support': 7170, 'unreal': 7801, 'via': 7987, 'excellent': 2731, 'one': 5067, 'please': 5472, 'add': 437, 'hide': 3560, 'specific': 6905, 'connection': 1762, 'people': 5323, 'network': 4874, 'either': 2529, 'constantly': 1779, 'respond': 6196, 'randomly': 5825, 'every': 2705, 'context': 1801, 'aimed': 535, 'personal': 5356, 'added': 439, 'use': 7894, 'facebook': 2847, 'stay': 7001, 'touch': 7505, 'personally': 5362, 'usually': 7916, 'intentionally': 3938, 'joined': 4078, 'keep': 4118, 'playing': 5459, 'audio': 853, 'background': 927, 'havent': 3503, 'touched': 7507, 'quite': 5794, 'indication': 3830, 'stop': 7033, 'till': 7425, 'apps': 741, 'screen': 6471, 'way': 8111, 'user': 7902, 'feedback': 2928, 'whatsoever': 8164, 'searched': 6494, 'help': 3537, 'section': 6508, 'endlessly': 2594, 'enjoy': 2615, 'wellearned': 8152, 'star': 6980, 'rating': 5836, 'pointless': 5500, 'better': 1048, 'searching': 6495, 'google': 3352, 'easyapply': 2485, 'refill': 5987, 'form': 3111, 'mobile': 4690, 'upload': 7868, 'resume': 6232, 'thats': 7347, 'laptop': 4197, 'bother': 1169, 'listing': 4326, 'job': 4076, 'apply': 719, 'make': 4463, 'profile': 5684, 'site': 6731, 'fill': 2965, 'application': 712, 'scratch': 6469, 'anyway': 673, 'point': 5499, 'downloaded': 2390, 'year': 8307, 'resulted': 6230, 'spam': 6885, 'phone': 5382, 'call': 1317, 'fake': 2872, 'started': 6986, 'making': 4470, 'strange': 7050, 'noise': 4914, 'drove': 2433, 'mad': 4443, 'realised': 5860, 'apparently': 694, 'decided': 2058, 'okay': 5051, 'change': 1429, 'setting': 6585, 'already': 588, 'getting': 3277, 'fed': 2925, 'huge': 3659, 'number': 4984, 'unsolicited': 7819, 'bye': 1291, 'im': 3728, 'company': 1671, 'try': 7613, 'control': 1816, 'tell': 7294, 'tablet': 7232, 'ui': 7663, 'basically': 979, 'narrowed': 4817, 'version': 7975, 'interface': 3950, 'lot': 4410, 'wasted': 8099, 'space': 6883, 'return': 6244, 'dark': 2010, 'mode': 4693, 'consider': 1767, 'putting': 5764, 'though': 7383, 'extremely': 2838, 'resource': 6192, 'terrible': 7316, 'placeholder': 5436, 'viewing': 8011, 'watch': 8104, 'video': 7994, 'top': 7490, 'find': 2982, 'originally': 5159, 'absolutely': 359, 'worst': 8266, 'far': 2885, 'first': 3007, 'opened': 5095, 'account': 394, 'never': 4876, 'confirmation': 1744, 'mail': 4450, 'waited': 8059, 'hour': 3646, 'taped': 7252, 'resend': 6172, 'response': 6200, 'finally': 2979, 'got': 3355, 'creat': 1917, 'another': 653, 'clearly': 1555, 'remember': 6075, 'properly': 5715, 'visible': 8026, 'others': 5164, 'almost': 579, 'day': 2027, 'solution': 6838, 'online': 5079, 'lackluster': 4177, 'landscape': 4191, 'impossible': 3764, 'set': 6584, 'defaulting': 2080, 'light': 4285, 'leave': 4248, 'reinstall': 6029, 'accidentally': 385, 'deleted': 2100, 'using': 7911, 'linked': 4312, 'decade': 2052, 'smartphone': 6796, 'glitch': 3312, 'couldnt': 1882, 'email': 2550, 'recall': 5893, 'ever': 2700, 'activity': 423, 'original': 5158, 'remains': 6070, 'locked': 4363, 'need': 4844, 'merged': 4589, 'facilitatate': 2852, 'ux': 7925, 'annoying': 648, 'select': 6528, 'single': 6722, 'type': 7652, 'multiple': 4773, 'location': 4360, 'ill': 3724, 'waiting': 8060, 'input': 3880, 'typing': 7656, 'thing': 7368, 'result': 6229, 'tab': 7230, 'broken': 1217, 'requiring': 6159, 'reenter': 5979, 'query': 5780, 'completely': 1701, 'left': 4252, 'right': 6297, 'edge': 2502, 'pixel': 5433, 'certain': 1414, 'medium': 4564, 'best': 1042, 'paywalled': 5302, 'insanely': 3885, 'expensive': 2778, 'month': 4723, 'free': 3149, 'sometimes': 6852, 'doubly': 2379, 'sad': 6387, 'mediocrebelow': 4563, 'average': 900, 'recently': 5902, 'noticing': 4964, 'alert': 554, 'particular': 5264, 'toggle': 7468, 'button': 1280, 'working': 8248, 'expected': 2775, 'receiving': 5898, 'useful': 7897, 'could': 1880, 'look': 4393, 'algorithm': 559, 'fixed': 3017, 'disappointed': 2267, 'put': 5763, 'home': 3607, 'order': 5136, 'past': 5277, 'someone': 6848, 'liked': 4292, 'week': 8138, 'ago': 525, 'clicked': 1562, 'suggestion': 7141, 'functionality': 3208, 'sheer': 6623, 'quantity': 5777, 'default': 2078, 'insane': 3884, 'experienced': 2781, 'worse': 8265, 'forgetting': 3106, 'preference': 5585, 'supposed': 7175, 'busy': 1276, 'professional': 5681, 'harrassed': 3488, 'related': 6038, 'customer': 1976, 'unable': 7673, 'access': 379, 'security': 6512, 'verification': 7965, 'facing': 2854, 'uploading': 7870, 'doc': 2342, 'supported': 7171, 'format': 3113, 'youre': 8325, 'trouble': 7595, 'logging': 4372, 'amazing': 601, 'science': 6459, 'login': 4376, 'center': 1410, 'log': 4369, 'overall': 5188, 'unsatisfied': 7812, 'sooo': 6863, 'slowly': 6783, 'scroll': 6481, 'run': 6371, 'heavy': 3527, 'demanding': 2117, 'sort': 6872, 'webview': 8133, 'listener': 4323, 'attached': 832, 'event': 2696, 'literally': 4332, 'expect': 2773, 'list': 4318, 'slow': 6776, 'instance': 3911, 'intrusive': 3985, 'meeting': 4566, 'today': 7462, 'push': 5759, 'subscribed': 7111, 'interested': 3947, 'tried': 7579, 'dismiss': 2298, 'double': 2377, 'cheched': 1465, 'big': 1054, 'mess': 4594, 'oneplus': 5073, 'device': 2191, 'become': 1002, 'lag': 4178, 'hang': 3464, 'crash': 1912, 'open': 5093, 'pathetic': 5285, 'horrendously': 3630, 'aside': 794, 'couple': 1892, 'guy': 3440, 'done': 2363, 'earliest': 2471, 'intuitive': 3987, 'coming': 1647, 'little': 4335, 'except': 2733, 'useless': 7901, 'view': 8007, 'tutorial': 7628, 'ultimately': 7668, 'fail': 2863, 'sadly': 6389, 'hi': 3555, 'git': 3295, 'temporarily': 7302, 'restricted': 6219, 'asking': 797, 'verify': 7968, 'identity': 3708, 'document': 2345, 'png': 5491, 'unexpected': 7718, 'occur': 5016, 'requested': 6151, 'information': 3861, 'good': 3343, 'thanka': 7337, 'unless': 7766, 'pay': 5293, 'exorbitant': 2768, 'amount': 612, 'money': 4714, 'helped': 3539, 'career': 1359, 'made': 4444, 'life': 4281, 'easier': 2477, 'equally': 2653, 'wont': 8237, 'let': 4267, 'uninstalling': 7750, 'blocking': 1113, '23rd': 128, 'baked': 949, 'seems': 6524, 'deficiency': 2086, 'developer': 2186, 'probably': 5660, 'know': 4153, 'perhaps': 5339, 'problematic': 5663, 'android': 630, 'picker': 5400, 'looking': 4395, 'halfway': 3454, 'article': 781, 'roll': 6332, 'dice': 2208, 'maybe': 4544, 'going': 3337, 'refresh': 5993, 'needing': 4848, 'horrible': 3631, 'posting': 5546, 'stuck': 7083, 'preparing': 5601, 'draft': 2402, 'practically': 5564, 'locate': 4358, 'proper': 5714, 'revamp': 6255, 'updating': 7860, 'previous': 5628, 'review': 6265, 'eg': 2525, 'person': 5354, 'cannot': 1341, 'cancel': 1331, 'subscription': 7116, 'simply': 6716, 'whats': 8162, 'desktop': 2161, 'everything': 2711, 'writing': 8281, 'denied': 2121, '20': 96, 'due': 2441, 'inefficiency': 3842, 'completing': 1702, 'constant': 1778, 'follow': 3070, 'resumption': 6233, 'charged': 1443, 'meantime': 4553, 'total': 7501, 'apathy': 683, 'towards': 7515, 'seem': 6519, 'submit': 7106, 'ticket': 7413, 'method': 4606, 'last': 4204, 'destroyed': 2172, 'ability': 348, 'anytime': 672, 'lock': 4361, 'uninstalled': 7746, 'reinstalled': 6030, 'installed': 3908, 'hunt': 3677, 'biggest': 1056, 'drawback': 2413, 'based': 976, 'senior': 6549, 'level': 4270, 'fresher': 3164, 'le': 4232, 'showing': 6665, 'seniorlead': 6550, 'etc': 2684, 'technology': 7286, 'date': 2021, 'posted': 5543, 'updated': 7854, 'latest': 4212, 'galaxy': 3230, 'fold': 3065, 'fails': 2866, 'folder': 3066, 'currently': 1970, 'several': 6594, 'saved': 6422, 'browser': 1222, 'upgrade': 7864, 'well': 8147, 'complaint': 1696, 'group': 3408, 'press': 5611, 'member': 4573, 'scrolled': 6483, 'hundred': 3674, 'much': 4765, 'dowm': 2383, 'behavior': 1021, 'web': 8125, 'skill': 6745, 'unusable': 7833, 'visual': 8033, 'component': 1711, 'plain': 5439, 'html': 3657, 'april': 750, '2023': 113, 'two': 7644, 'frequently': 3162, 'come': 1639, 'refreshing': 5996, 'super': 7155, 'content': 1800, 'creation': 1924, 'failed': 2864, 'lost': 4409, 'managing': 4485, 'mark': 4505, 'unread': 7799, 'inserted': 3887, 'clickable': 1560, 'inconvenient': 3809, 'pop': 5515, 'went': 8156, 'wrong': 8283, 'longer': 4386, 'el': 2530, 'paper': 5245, 'airplane': 543, 'icon': 3700, 'nearing': 4835, 'switching': 7214, 'iphone': 4013, 'fact': 2855, 'family': 2880, 'news': 4885, 'kept': 4120, 'garbage': 3240, 'ruining': 6369, 'whenever': 8168, 'creates': 1922, 'unnecessary': 7780, 'say': 6430, 'createdwhich': 1920, 'sends': 6548, 'daily': 2001, 'irrelevant': 4020, 'recommendation': 5926, 'actually': 429, 'refreshes': 5995, 'requesting': 6152, 'develop': 2184, 'given': 3302, 'prompt': 5707, 'edited': 2509, 'structure': 7076, 'business': 1270, 'platform': 5447, 'treat': 7560, 'highest': 3565, '1kb': 87, 'terra': 7315, 'byte': 1294, 'data': 2018, 'important': 3760, 'stability': 6958, 'problem': 5661, 'changing': 1433, 'choose': 1491, 'current': 1969, 'quits': 5795, 'common': 1659, 'stated': 6993, 'becomes': 1003, 'bug': 1240, 'ridden': 6290, 'forever': 3102, 'schedule': 6453, 'disappeared': 2261, 'shame': 6610, 'beginning': 1016, 'unsave': 7813, 'item': 4043, 'choosing': 1494, 'computer': 1718, 'able': 349, 'unsaved': 7814, 'unintuitive': 7754, 'entrylevel': 2643, 'employee': 2567, 'college': 1618, 'student': 7085, 'qualification': 5773, 'position': 5532, 'specifically': 6906, 'keywords': 4128, 'hello': 3536, 'checking': 1473, 'empty': 2571, 'hv': 3687, 'applied': 717, 'later': 4211, 'morning': 4732, 'persist': 5350, 'would': 8270, 'kindly': 4145, 'patch': 5281, 'hindered': 3581, 'submission': 7105, 'human': 3668, 'matter': 4537, 'puzzle': 5765, 'saying': 6431, 'missing': 4669, 'invalid': 3991, 'captcha': 1349, 'clear': 1548, 'cache': 1300, 'cooky': 1840, 'worthless': 8268, 'pick': 5398, 'fromthats': 3180, 'otherwise': 5165, 'send': 6541, 'pasted': 5279, 'clipboard': 1569, 'explicitly': 2801, 'conclude': 1728, 'theyre': 7364, 'collecting': 1616, 'permission': 5348, 'active': 421, 'buffering': 1238, 'attempt': 837, 'checked': 1469, 'yes': 8311, 'happened': 3468, 'scrolling': 6484, 'severely': 6596, 'lagging': 4180, 'choppy': 1495, 'frame': 3139, 'rate': 5833, 'preview': 5626, 'request': 6150, 'whole': 8181, '8t': 320, 'replied': 6128, 'cherry': 1481, 'inbox': 3783, 'overrun': 5206, 'turn': 7622, 'segment': 6526, 'around': 766, '60': 274, 'flag': 3020, 'confused': 1751, 'usingi': 7912, 'thought': 7384, 'yet': 8313, 'thanks': 7340, 'anymore': 668, 'title': 7451, 'giving': 3304, 'according': 392, 'research': 6169, 'guess': 3422, 'write': 8279, 'however': 3650, 'began': 1012, 'filtering': 2973, 'arose': 765, 'nonintuitive': 4924, 'cumbersome': 1965, 'navigation': 4830, 'industry': 3841, 'required': 6156, 'loop': 4397, 'sign': 6693, 'regularly': 6022, 'leaving': 4249, 'queued': 5784, 'delete': 2099, 'exact': 2721, 'reentered': 5980, 'timing': 7442, 'accepts': 377, 'successfully': 7130, 'system': 7228, 'rigid': 6300, 'pushy': 5762, 'drop': 2428, 'conveniently': 1823, 'buttonfunction': 1281, 'moving': 4752, 'incredibly': 3818, 'irritating': 4024, 'archive': 755, 'design': 2149, 'combined': 1637, 'mentioned': 4583, 'reminder': 6081, 'anointing': 652, 'taken': 7242, 'three': 7391, 'authorize': 871, 'samsung': 6407, 'a70': 338, 'solid': 6836, 'none': 4920, 'addressed': 454, 'massive': 4522, 'gone': 3341, 'detail': 2173, 'idpassportdrivinglicense': 3714, 'unconvenient': 7694, 'part': 5258, 'correct': 1862, 'ie': 3715, 'teaching': 7275, 'guest': 3424, '10': 12, 'span': 6887, 'worked': 8244, 'institution': 3919, '10th': 34, 'must': 4791, 'impress': 3767, 'abt': 364, 'shown': 6668, 'next': 4888, 'possible': 5537, 'resolve': 6188, 'accountbut': 397, 'solve': 6839, 'frustrated': 3187, 'mostly': 4735, '99': 330, 'definitely': 2089, 'cheating': 1464, 'asked': 796, '200': 97, 'responding': 6198, 'froud': 3183, 'available': 897, 'report': 6137, 'anyone': 669, 'else': 2547, 'linkdin': 4311, 'advertising': 488, 'promotion': 5706, 'seeker': 6517, 'bro': 1214, 'ridiculous': 6293, 'answer': 656, '4th': 241, '5th': 273, 'wth': 8287, 'deleting': 2104, 'care': 1357, 'promise': 5698, '30': 165, 'trump': 7605, 'switch': 7212, 'li': 4273, 'appears': 704, 'finding': 2984, 'difficult': 2227, 'applying': 720, 'submitting': 7108, 'identification': 3705, 'reactivate': 5845, 'received': 5897, 'occured': 5017, 'submitted': 7107, 'driver': 2422, 'license': 4278, 'passport': 5274, 'national': 4820, 'id': 3701, 'pending': 5319, 'bummed': 1258, 'came': 1325, 'tolerable': 7475, 'website': 8131, 'reason': 5876, 'remain': 6067, 'long': 4385, 'legal': 4256, 'privacy': 5650, 'feel': 2932, 'comfortable': 1643, 'sharing': 6616, 'glitchy': 3316, 'unreliable': 7805, 'permanently': 5347, 'alternative': 595, 'sure': 7177, 'awful': 914, 'utterly': 7922, 'register': 6013, 'sits': 6736, 'thinking': 7370, 'chocolate': 1489, 'fire': 3001, 'guard': 3420, 'allows': 576, 'receive': 5896, 'inconsiderate': 3805, 'lazy': 4230, 'thus': 7406, 'timezone': 7441, 'middle': 4617, 'night': 4901, 'cancelling': 1338, 'ahead': 531, 'billing': 1062, 'cycle': 1995, 'trial': 7572, '06may2023': 10, 'cancelled': 1337, '31may2023': 180, 'rs1900': 6359, 'debited': 2048, 'funny': 3213, 'nonpremium': 4928, 'hat': 3497, 'address': 453, 'grievance': 3399, 'build': 1245, 'somehow': 6847, 'hacked': 3444, 'anywhere': 675, 'reaching': 5842, 'duolingo': 2451, '100': 13, 'category': 1387, 'disable': 2255, 'reach': 5839, 'connect': 1758, 'blocked': 1110, 'despite': 2169, 'eta': 2683, 'provided': 5728, 'diligently': 2235, '8k': 317, 'peer': 5313, 'colleague': 1613, 'mentor': 4585, 'whome': 8182, 'official': 5041, 'study': 7086, 'chat': 1451, 'accessible': 382, 'allow': 573, 'agentfor': 518, 'resolution': 6186, 'possibly': 5539, 'sun': 7152, 'oddly': 5028, 'complicated': 1708, 'changed': 1430, 'bot': 1168, 'resolved': 6189, 'unknown': 7763, 'recover': 5938, 'block': 1108, 'sending': 6544, 'code': 1594, 'country': 1890, 'deactivate': 2035, 'closed': 1573, 'violated': 8017, 'term': 7311, 'recieved': 5907, 'temporary': 7303, 'ban': 954, 'reporting': 6139, 'shutdown': 6676, 'everytime': 2713, 'itempostarticle': 4044, 'unbotton': 7683, 'restsarts': 6226, 'experiencing': 2789, 'ok': 5050, 'occasional': 5012, 'offermostly': 5037, 'stuff': 7088, 'clip': 1568, 'preaching': 5570, 'cause': 1392, 'hear': 3516, 'period': 5342, 'built': 1247, 'suddenly': 7134, 'consideration': 1769, 'behaviour': 1022, 'violation': 8019, 'restriction': 6221, 'regain': 6006, 'dissaponiting': 2315, 'wasting': 8102, 'effort': 2523, 'dev': 2183, 'appear': 700, 'broke': 1216, 'weve': 8159, 'exit': 2764, 'happening': 3469, 'road': 6317, 'worth': 8267, 'penny': 5320, 'wanting': 8080, 'hired': 3587, 'steer': 7011, 'regretful': 6019, 'dear': 2043, 'name': 4808, 'abhishek': 346, 'unfortunately': 7730, 'allowed': 574, 'inclusion': 3796, 'diversity': 2332, 'inclusive': 3797, 'awaiting': 907, 'language': 4194, 'europe': 2693, 'globally': 3318, 'requires': 6158, 'enabling': 2580, 'require': 6155, 'juniorassociate': 4103, 'field': 2950, 'inaccurate': 3777, 'marketing': 4511, 'hr': 3654, 'sale': 6402, 'visit': 8029, 'isnt': 4025, 'allowing': 575, 'bc': 987, 'recognizing': 5922, 'lately': 4209, 'turned': 7624, 'bell': 1027, 'notified': 4969, 'paused': 5290, 'persists': 5353, 'bein': 1024, 'board': 1129, 'social': 6826, 'connected': 1759, 'present': 5604, 'coworkers': 1905, 'reference': 5983, 'insight': 3890, 'market': 4509, 'class': 1535, 'offered': 5034, 'necessary': 4840, 'employer': 2568, 'certification': 1418, 'deciding': 2060, 'factor': 2856, 'employment': 2569, 'check': 1466, 'topic': 7491, 'functioning': 3211, 'verified': 7966, 'sended': 6542, 'rise': 6310, 'anger': 636, 'difficulty': 2228, 'reached': 5841, 'assistance': 811, 'rebecca': 5883, 'humphries': 3673, 'director': 2247, 'uae': 7658, 'regarding': 6008, 'although': 596, 'seen': 6525, 'lack': 4174, 'communication': 1664, 'leading': 4235, 'canceling': 1334, 'unfollowing': 7727, 'mute': 4793, 'repeatedly': 6119, 'addition': 446, 'appearing': 703, 'remove': 6089, 'prevent': 5623, 'taking': 7243, 'swiping': 7211, 'leaf': 4236, 'automatically': 879, 'think': 7369, 'scenario': 6450, 'redmi': 5966, 'note': 4948, '8pro': 319, 'logged': 4370, 'said': 6397, 'happen': 3467, 'reserve': 6175, 'easy': 2484, 'enough': 2622, 'poster': 5544, 'differentiate': 2220, 'hybrid': 3688, 'remote': 6086, 'weeding': 8137, 'struggling': 7080, 'nocaptcha': 4913, 'bypass': 1293, 'stage': 6964, 'roleresponsibilities': 6331, 'dot': 2376, 'role': 6330, 'knowing': 4154, 'devs': 2195, 'parsing': 5257, 'fixing': 3018, 'tester': 7324, 'successful': 7128, 'integration': 3931, 'test': 7322, 'flaky': 3023, 'linkedins': 4314, 'matching': 4530, 'biased': 1052, 'rely': 6065, 'outdated': 5173, 'inadequate': 3779, 'machine': 4442, 'learning': 4244, 'overreliance': 5203, 'frustration': 3193, 'candidate': 1339, 'recruiter': 5943, 'furthermore': 3216, 'perpetuate': 5349, 'systemic': 7229, 'inequality': 3844, 'reduce': 5971, 'transparency': 7542, 'mechanism': 4558, 'continually': 1803, 'improve': 3771, 'technique': 7284, 'redu': 5970, 'incorrect': 3813, 'uninstall': 7744, 'install': 3907, 'play': 5454, 'store': 7040, 'raise': 5814, 'live': 4337, 'agent': 517, 'distracting': 2325, 'wish': 8214, 'trap': 7546, 'force': 3087, 'quit': 5793, 'friendly': 3171, 'including': 3795, 'individual': 3836, 'might': 4619, 'embeded': 2558, 'compromised': 1716, 'combo': 1638, 'instruction': 3922, 'vague': 7931, 'contacting': 1792, 'newly': 4883, 'craeted': 1908, 'promptly': 5710, 'responded': 6197, 'solved': 6840, 'fotgetting': 3129, 'nonworking': 4938, 'indicated': 3827, 'fine': 2987, 'sudden': 7133, 'directly': 2246, 'actualization': 427, 'itll': 4050, 'description': 2141, 'black': 1086, 'font': 3077, 'overridden': 5204, 'create': 1918, 'individually': 3838, 'ring': 6301, 'increase': 3814, 'engagement': 2603, 'actual': 425, 'qlink': 5770, 'specter': 6913, 'cable': 1299, 'modemmedicalwifi': 4697, 'demand': 2116, 'interference': 3953, 'surrounding': 7187, 'downloading': 2394, 'running': 6372, 'ing': 3869, 'tech': 7279, 'crisscross': 1940, '11': 37, 'supper': 7165, 'storm': 7043, 'bump': 1259, 'non': 4916, 'walking': 8068, 'medical': 4560, 'book': 1144, 'hire': 3586, 'world': 8256, 'general': 3258, 'five': 3012, 'stopped': 7034, 'letting': 4269, 'thread': 7389, 'thisive': 7376, 'restricting': 6220, 'accountive': 398, 'ask': 795, 'copy': 1852, 'government': 3360, 'issued': 4031, 'itthe': 4052, 'nin': 4905, 'rejecting': 6034, 'itpls': 4051, 'regular': 6021, 'generally': 3259, 'unhappy': 7736, 'heard': 3517, 'fault': 2900, 'promote': 5702, 'client': 1565, 'coverage': 1901, 'twitter': 7641, 'musk': 4789, 'douche': 2382, 'offer': 5033, 'met': 4603, 'genuine': 3270, 'intrested': 3975, 'recruiting': 5944, 'hoping': 3624, 'somebody': 6845, 'chance': 1427, 'interview': 3972, 'atleast': 827, 'newsfeed': 4886, 'wonderfully': 8234, 'cleare': 1549, 'switched': 7213, 'missed': 4668, 'hitting': 3595, 'queue': 5783, 'yesterday': 8312, 'cleared': 1551, 'reviewed': 6266, 'viewed': 8009, '90': 322, 'cutting': 1993, 'totally': 7504, 'unfair': 7719, 'saw': 6428, 'limited': 4303, 'doest': 2355, 'uploaded': 7869, 'card': 1355, 'created': 1919, 'functional': 3207, 'seeing': 6515, 'public': 5740, 'therea': 7355, 'confirming': 1746, 'internet': 3962, 'greeting': 3393, 'idin': 3709, 'bangladesh': 960, 'region': 6011, 'somthing': 6856, 'happensplease': 3471, 'letter': 4268, 'permanent': 5346, 'spamming': 6886, 'timeline': 7429, 'clearing': 1554, 'cash': 1374, 'reinstalling': 6031, 'rarely': 5831, 'connects': 1765, 'perfect': 5329, 'storage': 7039, 'dns': 2339, 'busted': 1274, 'acces': 378, 'aftr': 511, 'starting': 6987, 'verifying': 7969, 'cleaning': 1546, 'deemed': 2073, 'suspicious': 7195, 'entering': 2629, 'otp': 5166, 'deserve': 2146, 'worldwide': 8259, 'entry': 2642, 'condition': 1733, 'accurate': 405, 'banned': 964, 'false': 2877, 'substitute': 7118, 'faced': 2849, 'suspended': 7192, 'messier': 4601, 'valid': 7934, 'providing': 5731, 'side': 6686, 'crazy': 1916, 'neat': 4837, 'lasted': 4205, 'battery': 985, 'introduction': 3983, 'automaticly': 881, 'overpriced': 5201, '3999month': 198, 'hiring': 3588, 'price': 5632, 'rest': 6208, 'explaining': 2798, 'half': 3451, 'reflect': 5988, 'galore': 3232, 'primary': 5639, 'focus': 3063, 'placement': 5437, '42': 222, 'sorry': 6871, 'recieving': 5909, 'question': 5781, 'continue': 1804, 'angellist': 635, 'fewer': 2944, 'telling': 7295, 'limiting': 4304, 'rule': 6370, '16': 70, 'ticketbut': 7414, 'policy': 5503, 'bloody': 1116, 'volume': 8044, 'ad': 431, 'serious': 6572, 'redirecting': 5963, 'cover': 1900, 'mac': 4441, 'disappoints': 2270, 'purpose': 5755, 'internship': 3965, 'asks': 798, 'wrote': 8286, 'display': 2305, 'installing': 3910, 'inactive': 3778, '15': 64, 'stating': 6996, 'violating': 8018, 'surfed': 7181, 'early': 2472, 'fickles': 2947, 'instant': 3912, 'speak': 6893, 'uninstalland': 7745, '29th': 149, '00am': 1, 'thank': 7336, 'least': 4247, 'provisionally': 5734, 'raiccsing': 5808, 'wll': 8228, 'mine': 4641, 'soooo': 6864, 'endorsed': 2596, 'advice': 490, 'marketer': 4510, 'watching': 8107, 'attractive': 847, 'subtle': 7122, 'previously': 5629, 'shouldnt': 6655, 'sensitive': 6552, 'onto': 5086, 'arent': 758, 'swiped': 7209, 'rightuse': 6299, '23': 124, 'tough': 7510, 'prospecting': 5717, 'referring': 5985, 'invasive': 3995, 'misleading': 4666, 'popup': 5522, 'backstreet': 931, 'piracy': 5428, 'battle': 986, 'invade': 3990, 'hopefully': 3622, 'microsoft': 4613, 'shady': 6605, 'datamining': 2020, 'reaaly': 5838, 'hate': 3498, 'vacancy': 7928, 'match': 4526, 'thousand': 7386, 'removing': 6092, 'status': 7000, 'indicating': 3829, 'driving': 2424, 'nut': 4991, 'sync': 7218, 'strong': 7072, 'break': 1196, 'crashing': 1914, 'firstly': 3008, 'selecting': 6531, 'tiktok': 7421, 'file': 2957, 'moment': 4707, 'pdf': 5304, 'reloads': 6063, 'signing': 6700, 'advise': 491, 'thx': 7407, 'hanging': 3465, 'accessing': 383, 'inboxmsg': 3784, 'rectify': 5948, 'gboard': 3249, 'keyboard': 4124, 'vivo': 8039, 'v23': 7926, 'pro': 5655, 'bar': 966, 'enter': 2627, 'insert': 3886, 'line': 4305, 'twice': 7638, 'understand': 7697, 'saddens': 6388, 'loses': 4406, 'immediately': 3738, 'demographic': 2118, 'monitoring': 4722, 'visibility': 8025, 'asap': 790, 'earlier': 2470, 'everyone': 2708, 'freaking': 3147, 'joke': 4081, 'sometimesalso': 6853, 'massagei': 4521, 'premiumno': 5595, 'recommendvery': 5929, 'apptrying': 748, '1st': 92, 'codeeither': 1596, 'sm': 6786, 'callits': 1322, 'claim': 1528, 'trash': 7547, 'rather': 5835, 'clean': 1542, 'selection': 6532, '1520': 68, 'mainstream': 4456, 'facebookgmail': 2848, 'backup': 933, 'fb': 2910, 'keeping': 4119, 'interesting': 3949, 'ten': 7306, 'mb': 4546, '510': 250, 'word': 8240, 'sentence': 6557, 'sth': 7018, 'unedited': 7713, 'directs': 2249, 'playstore': 5467, 'ended': 2591, 'correcting': 1864, 'ia': 3694, 'kind': 4142, 'distasteful': 2320, 'upto': 7881, 'harsh': 3489, 'recruitment': 5945, 'project': 5695, 'url': 7888, 'idea': 3702, 'dropped': 2431, 'grow': 3411, 'considering': 1771, 'dropping': 2432, 'per': 5326, 'guideline': 3431, 'validating': 7936, 'history': 3592, 'entirely': 2637, 'indeed': 3819, 'invested': 3999, 'deactivated': 2036, 'replying': 6133, 'rudely': 6366, 'maili': 4453, 'various': 7947, 'whitespace': 8178, 'unappealing': 7677, 'advertisement': 486, 'separate': 6559, 'linkedln': 4315, 'deserves': 2147, 'god': 3328, 'editing': 2510, 'place': 5434, 'smooth': 6805, 'responsivness': 6207, 'laggy': 4182, 'stutter': 7095, 'thrown': 7399, 'face': 2846, 'highlight': 3566, 'suggest': 7139, 'excessive': 2737, 'dial': 2198, 'loading': 4350, 'join': 4077, 'couldntim': 1883, 'passkey': 5273, 'entire': 2636, 'layout': 4226, 'command': 1649, 'smart': 6793, 'screwing': 6479, 'whomever': 8183, 'action': 416, 'misunderstanding': 4674, 'pull': 5742, 'returned': 6245, 'foreground': 3096, 'consistently': 1774, 'lacking': 4176, 'wrap': 8275, 'horizontally': 3628, 'nice': 4895, 'pc': 5303, 'genuinely': 3271, 'obvious': 5009, 'flat': 3029, 'fellow': 2936, 'deletes': 2103, 'obliterates': 5003, 'loss': 4408, 'alone': 580, 'alien': 561, 'compared': 1675, 'github': 3296, 'contain': 1796, 'alll': 570, 'creating': 1923, 'material': 4532, 'dumped': 2447, 'youd': 8320, 'gesture': 3274, 'foot': 3082, 'repository': 6142, 'cmon': 1590, 'folk': 3069, 'repos': 6141, 'dick': 2209, 'minimum': 4653, 'repo': 6135, 'upper': 7872, 'hand': 3457, 'corner': 1859, 'rough': 6344, 'label': 4170, 'milestone': 4628, 'branch': 1188, 'convenient': 1822, 'twofactor': 7645, 'authentication': 864, 'launch': 4218, 'yall': 8303, 'suck': 7131, 'existing': 2761, 'java': 4070, 'variable': 7943, 'inside': 3888, 'usage': 7892, 'vaiable': 7932, 'screenshots': 6475, 'pr': 5561, 'gallery': 3231, 'screenshot': 6474, '2fa': 153, 'contribution': 1814, 'apart': 681, 'essential': 2678, 'adding': 445, 'traveling': 7553, 'exactly': 2722, 'authenticate': 860, 'logins': 4378, 'authenticator': 865, 'pin': 5417, 'implement': 3752, 'fork': 3110, 'hurt': 3683, 'burden': 1267, 'aid': 533, 'recommended': 5927, 'unlike': 7767, 'implementation': 3753, '49': 232, 'binary': 1065, 'comparison': 1677, 'commit': 1654, 'diffs': 2229, 'commits': 1656, 'accept': 373, 'invite': 4003, 'inspiration': 3898, 'itd': 4042, 'forth': 3121, 'mainly': 4455, 'quick': 5786, 'mistake': 4671, 'grand': 3373, 'raising': 5816, 'honestly': 3613, 'notice': 4960, 'annoyingly': 649, 'io': 4010, 'equivalent': 2656, 'registration': 6016, 'applicationregistration': 715, 'mandatoryduh': 4489, 'da': 1998, 'dummy': 2445, 'easily': 2479, 'tool': 7486, 'wishing': 8216, 'third': 7371, 'party': 5268, 'credential': 1928, 'syore': 7227, 'clarify': 1532, '20min': 115, 'info': 3857, 'technical': 7282, 'documentation': 2347, 'trolled': 7593, 'overnight': 5200, 'near': 4833, 'blatantly': 1095, 'justified': 4107, 'arrogant': 777, 'decision': 2062, 'knowitall': 4155, 'usable': 7891, 'simple': 6709, 'flash': 3026, 'mind': 4635, 'eye': 2841, 'needed': 4845, 'quickly': 5789, 'browse': 1221, 'representation': 6144, 'clone': 1571, 'familiar': 2878, 'maintain': 4457, 'consistency': 1772, 'chrome': 1505, 'deeplink': 2075, 'oftentimes': 5048, 'automatic': 878, 'capturing': 1353, 'escape': 2672, 'situation': 6738, 'opensource': 5099, 'task': 7257, '13': 58, 'idk': 3712, 'otger': 5163, 'glass': 3309, 'cry': 1957, 'slooow': 6774, 'graphic': 3377, 'indicate': 3826, 'probable': 5659, 'ect': 2500, 'md': 4547, 'start': 6985, 'wanted': 8078, 'impressive': 3770, 'learn': 4241, 'pain': 5232, 'pretty': 5621, 'critical': 1942, 'source': 6882, 'discussion': 2290, 'reload': 6060, 'loaded': 4349, 'believe': 1026, 'withe': 8220, 'explore': 2806, 'gist': 3294, 'builtin': 1248, 'editor': 2511, 'dashboard': 2015, 'favourite': 2907, 'bookmark': 1152, 'opinion': 5109, 'mermaid': 4592, 'reffering': 5986, 'curious': 1967, 'sitei': 6732, 'stumbled': 7090, 'matrix': 4536, 'pill': 5415, 'awesome': 913, 'timethe': 7439, 'along': 581, 'pondered': 5511, 'daunting': 2026, 'laypersonmeif': 4228, 'desired': 2157, 'effect': 2516, 'spot': 6943, 'bit': 1078, 'behaving': 1020, 'badly': 939, 'tormentsbut': 7497, 'digresssite': 2234, 'rox': 6356, 'hasnt': 3493, 'approve': 734, 'unclear': 7686, 'alienated': 562, 'jarring': 4069, 'certainly': 1415, 'native': 4821, 'menu': 4586, 'buggy': 1244, 'unloaded': 7770, 'expecting': 2776, 'wiki': 8199, 'bland': 1091, 'unfriendly': 7734, 'approvedeny': 736, 'entered': 2628, 'plan': 5440, 'indentation': 3821, 'comb': 1635, 'paste': 5278, 'replit': 6130, 'copying': 1853, 'formatting': 3116, 'red': 5953, 'character': 1440, 'flaw': 3031, 'rotate': 6340, 'portrait': 5529, 'vice': 7992, 'versa': 7972, 'offline': 5043, 'transparent': 7543, 'odd': 5027, 'customizable': 1984, 'glance': 3307, 'readme': 5854, 'hiding': 3562, 'cli': 1557, 'optmzd4s': 5130, 'future': 3220, 'introduce': 3979, 'coding': 1599, 'beautiful': 997, 'vscode': 8048, 'optimized': 5121, 'surprised': 7185, 'drastically': 2411, 'meaning': 4550, 'spending': 6920, 'preferable': 5582, 'course': 1896, 'accident': 384, 'associated': 814, 'undone': 7707, 'therefore': 7357, 'historyblame': 3593, '20220421': 112, 'limitation': 4302, 'tired': 7450, 'kick': 4132, 'signed': 6696, 'fresh': 3163, 'cuz': 1994, 'wanna': 8075, 'caught': 1391, 'fraud': 3143, '2017': 106, 'nother': 4955, 'happykat': 3476, 'octomom': 5026, 'negative': 4854, 'ungrateful': 7735, 'helping': 3543, 'complaining': 1694, 'duh': 2442, 'uiux': 7664, 'forcibly': 3092, 'capture': 1351, 'offering': 5036, 'challenge': 1424, 'token': 7473, 'provides': 5730, 'webpage': 8130, 'obviously': 5010, 'imagine': 3732, 'state': 6992, 'regardless': 6009, 'confusion': 1753, 'package': 5222, 'flattened': 3030, 'glad': 3305, 'explain': 2795, 'dislike': 2295, 'readmemd': 5855, 'zoom': 8340, 'overwhelmed': 5213, 'cool': 1841, 'diff': 2216, 'viewer': 8010, 'perform': 5332, 'handy': 3462, 'developpment': 2189, 'large': 4198, 'defauly': 2081, 'edged': 2503, 'configured': 1741, 'potential': 5550, 'scaling': 6436, 'octodroid': 5025, 'case': 1373, 'development': 2188, 'realize': 5865, 'shrink': 6673, 'hit': 3594, 'redirected': 5962, 'underwhelming': 7703, 'release': 6048, '3rd': 205, 'companion': 1670, 'minimal': 4645, 'subset': 7117, 'commonly': 1660, 'geared': 3254, 'lose': 4405, 'standard': 6976, 'issuepr': 4033, 'unsent': 7817, 'toast': 7460, 'noti': 4957, 'bubble': 1229, 'pool': 5512, 'bottom': 1173, 'panel': 5243, 'additional': 447, 'continuous': 1808, 'pane': 5242, 'assumed': 816, 'surprise': 7184, 'authorization': 870, 'resends': 6173, 'copied': 1849, 'rethink': 6238, 'operation': 5106, 'extend': 2821, 'figure': 2955, 'grab': 3366, 'usability': 7890, 'significant': 6697, 'house': 3648, 'splitting': 6929, 'todo': 7463, 'exist': 2756, 'fantastic': 2884, 'core': 1858, 'forward': 3123, 'sense': 6551, 'gitting': 3300, 'editreply': 2512, 'wouldnt': 8271, 'committing': 1658, 'render': 6096, 'staging': 6967, 'webapp': 8126, 'speaker': 6894, 'subscribing': 7114, 'unsubscribing': 7824, 'tapped': 7254, 'loud': 4412, 'subscribingunsubscribing': 7115, 'youve': 8329, 'written': 8282, 'damn': 2003, 'window': 8206, 'causing': 1394, 'forgot': 3107, '14': 60, 'inspite': 3901, 'solving': 6842, 'correctly': 1865, 'obsidian': 5008, 'vault': 7952, 'move': 4748, 'renaming': 6095, 'drive': 2419, 'reasonable': 5877, 'prefer': 5581, '1000': 14, 'assignee': 808, 'unofficial': 7785, 'painful': 5233, 'organization': 5150, 'stucks': 7084, 'fan': 2882, 'githubs': 3298, 'screaming': 6470, 'departure': 2126, 'ickiness': 3698, 'eminantly': 2561, 'gotten': 3359, 'fast': 2894, 'piece': 5411, 'software': 6832, 'kudos': 4166, 'real': 5858, 'afield': 504, 'disparate': 2302, 'distinct': 2321, 'doingreading': 2358, 'converges': 1824, 'languageim': 4196, 'beyond': 1050, 'pwa': 5766, 'okayish': 5052, 'commenting': 1651, 'browsing': 1225, 'reportingraising': 6140, 'textbox': 7327, 'signin': 6699, 'drag': 2403, 'diagonally': 2197, 'vertically': 7981, 'bizarre': 1083, 'incomplete': 3803, 'avoids': 905, 'programming': 5691, 'simplicity': 6712, 'cost': 1873, 'collection': 1617, 'stared': 6981, 'watched': 8106, 'luck': 4430, 'pinch': 5418, 'scrollview': 6485, 'width': 8195, 'wide': 8191, 'scrollbar': 6482, 'somewhere': 6855, 'compact': 1669, 'miss': 4667, 'auto': 872, 'rendering': 6098, 'ipynb': 4015, 'capable': 1344, 'specifuc': 6908, 'operating': 5105, 'helpful': 3540, 'barely': 970, 'acceptable': 374, 'appreciate': 725, 'track': 7520, 'lying': 4439, 'bed': 1006, 'realized': 5866, 'remembered': 6076, 'disbelief': 2272, 'webmobile': 8129, 'wrapper': 8277, 'reader': 5851, 'harder': 3480, 'bring': 1211, 'gripe': 3401, 'react': 5843, 'blow': 1118, 'vote': 8045, 'oversimplified': 5208, 'existence': 2758, 'questionable': 5782, 'improvement': 3773, 'explorer': 2808, 'percentage': 5328, 'downloader': 2392, 'visuals': 8036, 'stupid': 7094, '45': 225, 'landing': 4189, 'pressing': 5613, 'explained': 2797, 'requirement': 6157, 'tracker': 7522, 'erroneous': 2665, 'cachestorage': 1306, 'reauthorized': 5882, 'gh': 3279, 'script': 6480, 'kinda': 4143, 'regard': 6007, 'direction': 2245, 'reviewing': 6268, 'defeat': 2082, 'production': 5676, 'gmail': 3319, 'key': 4123, 'polite': 5506, 'incredible': 3817, 'ultratech': 7671, 'ornament': 5160, 'wallpaper': 8072, 'manage': 4480, 'fell': 2935, 'everyday': 2707, 'frequent': 3161, 'occuring': 5018, 'choice': 1490, 'reliable': 6053, 'malfunctioning': 4474, 'trigger': 7580, 'listed': 4320, 'enclosed': 2581, 'frozen': 3184, 'loved': 4418, 'chromebook': 1506, 'screw': 6477, 'fallen': 2875, 'shove': 6659, 'joint': 4080, 'charm': 1447, 'buydownload': 1285, 'newest': 4882, 'netflix': 4868, 'amazon': 603, 'warned': 8086, 'splurged': 6930, 'hbo': 3506, 'max': 4538, 'afford': 500, 'dozen': 2399, 'freeze': 3155, 'antivirus': 662, 'whatever': 8161, 'preinstalled': 5590, 'restarting': 6211, 'apk': 685, 'gplay': 3362, 'firefox': 3004, 'visited': 8030, 'straight': 7046, 'exited': 2765, 'estate': 2681, 'bigger': 1055, 'summation': 7150, 'gap': 3238, 'erupts': 2668, 'filler': 2967, 'cluster': 1586, 'zoomed': 8341, 'wonky': 8236, 'grid': 3397, 'thru': 7400, 'small': 6788, 'disabling': 2257, 'mixed': 4679, 'relative': 6042, 'consuming': 1787, 'million': 4631, 'freezing': 3157, 'failure': 2867, 'harvest': 3490, 'hex': 3553, 'colorscogenerate': 1627, 'relaunch': 6044, 'cachehistory': 1305, 'major': 4460, '80': 308, 'searchurl': 6496, 'en': 2574, 'route': 6350, 'random': 5824, 'incognito': 3799, 'aboutblankblocked': 351, 'secure': 6509, 'wifi': 8198, 'cellular': 1407, 'perfectly': 5331, 'exiting': 2766, 'malware': 4477, 'rid': 6288, 'factory': 2858, 'occurring': 5020, 'popping': 5517, 'udate': 7660, 'popups': 5523, 'reappear': 5871, 'ups': 7875, 'bringing': 1212, 'locallystored': 4357, 'tapping': 7255, 'session': 6583, 'ruin': 6367, 'altogether': 597, 'slider': 6764, 'adjusting': 463, 'guide': 3429, 'reliablenot': 6054, 'numerous': 4989, 'occasion': 5011, 'january': 4068, 'popular': 5518, 'speed': 6916, 'anyones': 670, 'concern': 1722, 'hey': 3554, 'talking': 7246, 'haha': 3448, 'spied': 6923, 'upon': 7871, 'faster': 2895, 'engine': 2605, 'delivers': 2113, 'disappears': 2264, 'typed': 7653, 'dialogue': 2203, 'reminding': 6084, 'similar': 6707, '001jpg': 0, 'pestered': 5372, 'stalked': 6970, 'restroom': 6225, 'door': 2370, 'truly': 7604, 'notch': 4947, 'breath': 1202, 'short': 6645, 'helpfully': 3542, 'plus': 5486, 'game': 3234, 'creepy': 1931, 'loosen': 4400, 'collar': 1612, 'high': 3563, 'startup': 6990, 'widget': 8194, 'persistent': 5351, 'disappear': 2260, 'split': 6928, 'translate': 7538, 'english': 2608, 'whilst': 8174, 'undo': 7706, 'inefficient': 3843, 'together': 7467, 'anybody': 665, 'flow': 3054, 'older': 5057, 'former': 3117, 'performance': 5333, 'hog': 3599, 'multitasking': 4780, 'collect': 1614, '611': 279, 'werent': 8157, 'instacart': 3903, 'dash': 2014, 'cut': 1990, 'throw': 7398, 'element': 2536, 'manually': 4496, 'adjust': 461, 'fit': 3011, 'normal': 4944, '2005': 100, 'sponsored': 6935, 'pushed': 5760, 'preferred': 5586, 'heat': 3522, 'noticably': 4959, 'drain': 2406, 'concerning': 1724, 'managed': 4481, 'mitigate': 4676, 'longpress': 4389, 'heating': 3523, 'disabled': 2256, 'reenabled': 5977, 'gave': 3246, 'unsuccessful': 7825, 'slate': 6755, 'acting': 415, 'stable': 6959, 'downloads': 2395, 'age': 514, 'finished': 2996, 'nowhere': 4979, 'bur': 1266, 'prompted': 5708, 'unsafe': 7810, 'tonight': 7482, 'drained': 2407, '358': 190, 'box': 1181, 'recognize': 5920, 'aboutblank': 350, 'boot': 1159, 'attempting': 839, 'known': 4159, 'congrats': 1755, 'succeeding': 7126, '6a': 288, 'browserdespite': 1223, 'bunch': 1261, 'yeah': 8306, 'blank': 1092, 'jun': 4100, '700': 293, 'plz': 5489, 'instructed': 3921, 'sluggish': 6785, 'tempted': 7305, 'fluid': 3059, 'downright': 2396, 'epilepsy': 2649, 'warning': 8087, 's22': 6381, 'white': 8176, 'flashing': 3027, 'dangerous': 2007, 'room': 6336, 'motion': 4739, 'sickness': 6684, 'tying': 7651, 'erasing': 2661, 'unacceptable': 7674, 'hold': 3600, 'minimize': 4649, 'risk': 6312, 'trending': 7569, 'scrambling': 6467, 'monitored': 4721, 'autoreply': 887, 'operates': 5104, 'lead': 4233, 'sell': 6539, 'screwed': 6478, 'legability': 4254, '26th': 142, 'apparent': 693, 'forcestop': 3090, 'unlock': 7771, 'unused': 7835, 'alleviated': 568, 'arranged': 769, '3040': 168, 'arrangement': 770, 'nonsense': 4933, 'revert': 6262, 'usual': 7915, 'deeply': 2076, 'planning': 5445, 'ivehadwithc': 4057, 'accelerated': 371, 'complain': 1692, 'tbh': 7268, 'school': 6456, 'multitask': 4779, 'listening': 4324, 'sitesarticles': 6733, 'andor': 628, 'replyer': 6132, 'rewrite': 6284, '113': 41, '114': 43, 'continues': 1806, 'called': 1318, 'arounds': 767, 'thrust': 7401, '79': 304, 'begin': 1015, 'pair': 5236, 'accessibility': 381, 'size': 6740, 'visually': 8035, 'impaired': 3746, 'vision': 8028, 'formatted': 3115, 'finger': 2991, 'fiddle': 2948, 'toentiom': 7465, 'hot': 3640, 'wasnt': 8095, 'square': 6953, 'stopping': 7036, 'shuts': 6677, 'resetting': 6179, 'strip': 7071, 'appearance': 701, 'synched': 7221, 'mon': 4708, 'synch': 7220, '1pm': 91, '2pm': 161, '3pm': 204, '8pm': 318, 'tue': 7619, 'accts': 401, 'sameit': 6405, 's23': 6382, 'resizes': 6185, 'verge': 7964, 'handle': 3460, 'banner': 965, 'perimeter': 5341, 'embedded': 2557, 'assaulted': 803, 'sensory': 6554, 'refuse': 6004, 'attack': 834, 'consumer': 1785, 'electronics': 2534, 'unwanted': 7841, 'unsatisfactory': 7811, 'compatible': 1681, 'messed': 4599, 'followed': 3071, 'refreshed': 5994, 'restarted': 6210, 'youtube': 8326, 'green': 3392, 'logo': 4381, '1chrome': 83, 'ram': 5818, '2its': 157, 'fun': 3205, 'customization': 1985, 'gaming': 3236, 'peace': 5307, 'custom': 1975, 'ur': 7886, 'management': 4482, 'childhood': 1483, 'compete': 1685, 'nowadays': 4977, 'blur': 1125, 'whether': 8172, 'horizontal': 3627, '4a': 234, 'tested': 7323, 'xiaomi': 8295, 'affect': 498, 'product': 5675, 'kindlesnormally': 4144, 'minor': 4655, 'issueshowever': 4034, 'monthmaybe': 4725, 'moregooglegoogle': 4730, 'differentnot': 2223, 'samesearches': 6406, 'workingwebsites': 8251, 'loadingconstantly': 4351, 'versionsomething': 7976, '12': 47, 'siteswhich': 6734, 'feedive': 2930, 'settingsonly': 6586, 'playskip': 5463, 'idiotic': 3711, 'idiot': 3710, 'te': 7272, 'glichy': 3310, 'rapidly': 5828, 'v97': 7927, 'autoupdates': 891, 'enablebenchmarking': 2576, 'restarts': 6212, 'inapp': 3781, 'attach': 831, 'nobody': 4912, 'apology': 686, 'retraction': 6241, 'progression': 5693, '109': 27, '110': 38, '111': 39, '112': 40, 'named': 4809, 'nope': 4940, 'prenaming': 5597, 'prefered': 5584, 'hp': 3652, 'elite': 2541, 'desk': 2159, 'g3': 3224, 'x8664bit': 8293, 'homepage': 3608, 'self': 6537, 'suggested': 7140, 'disconnected': 2277, 'famous': 2881, 'thumbnail': 7403, 'imgur': 3735, 'instagram': 3904, 'gig': 3288, 'evertime': 2704, 'grows': 3412, 'larger': 4200, 'superior': 7159, 'declined': 2064, 'kicking': 4134, 'stressed': 7065, 'knew': 4152, 'staring': 6982, 'beat': 993, 's8': 6384, 'welcome': 8144, 'sprint': 6950, 'sold': 6833, 'tmobile': 7459, '5g': 266, 'pink': 5422, 'usefull': 7899, 'rescue': 6168, 'interferon': 3954, 'determine': 2180, 'operate': 5101, 'among': 609, 'extension': 2824, '70': 292, 'purchase': 5750, 'technologically': 7285, 'eliminating': 2540, 'wanthave': 8079, 'tasking': 7259, 'mini': 4643, 'spend': 6919, 'staying': 7003, 'damned': 2004, 'dollar': 2360, 'flip': 3047, 'tiny': 7446, 'comfortably': 1645, 'entirety': 2638, 'yahoo': 8302, 'became': 1000, 'daytonight': 2033, 'stick': 7019, 'local': 4356, 'community': 1666, 'ceased': 1402, 'oh': 5049, 'workaround': 8243, 'reselect': 6170, 'offence': 5031, 'inclined': 3789, 'story': 7045, '22': 121, 'intermittently': 3958, 'nokia': 4915, 'g21': 3223, 'restart': 6209, 'told': 7474, 'rinse': 6305, 'repeat': 6115, 'temperamental': 7298, 'blue': 1119, 'textits': 7331, 'rebooting': 5887, 'practice': 5565, 'zooming': 8343, 'anoying': 655, 'internetwhich': 3964, 'problemi': 5664, 'impossiblethis': 3765, 'autozoom': 892, 'across': 413, 'mise': 4661, 'disrespectful': 2311, 'abuse': 365, 'brand': 1189, 'avail': 894, 'hadnt': 3447, 'erased': 2660, 'restore': 6215, 'reddit': 5955, 'scale': 6435, 'tweak': 7634, 'speaking': 6896, 'unwelcomed': 7845, 'incessant': 3787, 'aint': 537, '1140': 44, 'flaming': 3025, 'dumpster': 2448, 'listens': 4325, 'powerful': 5557, 'inspect': 3897, '1dm': 84, 'bookmarking': 1154, 'chore': 1496, 'innumerable': 3877, 'corrected': 1863, 'zero': 8335, 'patience': 5286, 'angry': 638, 'nonstop': 4937, 'stuffif': 7089, 'reconnection': 5931, 'waseven': 8089, '98': 329, 'desktopbut': 2162, 'blinking': 1103, 'prevents': 5625, 'grooup': 3405, 'kill': 4137, 'shutting': 6678, 'chromecast': 1508, 'style': 7097, 'convenience': 1821, 'sake': 6400, 'straw': 7053, 'disappoint': 2266, 'overlay': 5198, 'accessed': 380, 'exhausted': 2754, 'larging': 4202, 'crunch': 1956, 'nerfed': 4862, 'vpn': 8047, 'convinced': 1834, 'bussestraffic': 1273, 'lightsbikes': 4289, 'pity': 5432, 'loyal': 4428, 'llc': 4343, 'conform': 1748, 'yr': 8330, 'launcherif': 4221, 'thisno': 7377, 'responds': 6199, 'quicker': 5788, 'browserwhich': 1224, '34': 187, 'june': 4101, 'crippling': 1938, 'functioned': 3210, 'slowing': 6782, 'dec': 2051, '2022': 111, 'crippled': 1937, 'trialled': 7574, 'slowed': 6778, 'crawl': 1915, 'wait': 8058, 'keyed': 4125, 'revised': 6269, 'adhd': 460, 'guid': 3427, 'remind': 6079, 'looked': 4394, 'resize': 6183, 'chosen': 1500, 'aloud': 584, 'nowevery': 4978, 'monthsill': 4726, 'catch': 1382, 'normally': 4945, 'ton': 7480, 'graphical': 3378, 'eventually': 2699, 'baffled': 942, 'reasoning': 5880, 'simplified': 6713, 'sv': 7196, 'unobtrusively': 7784, '16jun': 72, 'ooops': 5089, '14jun': 62, 'android7': 631, 'coolblue': 1842, 'andoops': 627, 'latestchrome': 4213, 'unstable': 7820, 'oops': 5090, 'safe': 6392, 'disadvantaged': 2258, 'travel': 7551, 'mistaken': 4672, 'cheesed': 1479, 'nicely': 4896, 'sorted': 6873, '3a': 199, 'churchill': 1516, 'stone': 7031, 'stafforsdhire': 6963, 'uk': 7666, 'redirections': 5964, 'notuse': 4974, 'goto': 3356, 'circle': 1521, 'cached': 1301, 'seemed': 6520, 'becoming': 1004, 'nearly': 4836, 'endure': 2597, 'tldr': 7457, 'chromegoogle': 1511, 'cellphone': 1406, 'handheld': 3459, 'opt': 5115, 'trashing': 7550, 'landline': 4190, 'chromium': 1513, 'foundation': 3131, 'manager': 4483, 'actively': 422, 'monetizing': 4713, 'circumstance': 1523, 'adsense': 473, 'giant': 3283, 'cesspool': 1419, 'neverending': 4877, 'outside': 5184, 'blocker': 1111, 'enabled': 2577, 'everywhere': 2714, 'chro': 1503, '5232023': 256, '529': 258, 'beta': 1046, 'restored': 6216, '62': 283, 'exhibiting': 2755, 'upwards': 7884, 'cachedata': 1302, 'uninstallingreinstalling': 7752, 'longest': 4387, 'regret': 6018, 'principle': 5641, 'smallest': 6791, 'heading': 3513, 'aspect': 801, 'ratio': 5837, 'accidently': 386, 'degraded': 2094, 'crashed': 1913, 'happy': 3475, 'camper': 1328, 'loving': 4422, 'brings': 1213, 'fir': 3000, 'aw': 906, 'snap': 6810, 'infinite': 3849, 'surf': 7179, 'bookmarked': 1153, 'may2023': 4543, 'hurrabile': 3681, 'uncomfortable': 7689, 'favorite': 2906, '3005': 167, 'refused': 6005, 'errconnectiontimedout': 2663, 'cell': 1405, '11385': 42, 'proxy': 5735, 'netinternals': 4873, '26523': 141, 'appstill': 746, 'reverting': 6264, 'mangas': 4490, 'recipe': 5910, 'lazada': 4229, 'alibaba': 560, 'aliexpress': 564, 'onivictoronivector': 5078, 'redirect': 5961, 'majority': 4461, 'readable': 5849, 'caused': 1393, 'glitching': 3315, '15jun2023': 69, 'sizing': 6741, 'magnifier': 4449, 'obnoxious': 5004, 'goggle': 3333, 'relode': 6064, '1825gb': 79, 'reseted': 6178, 'opera': 5100, 'vbad': 7953, 'extra': 2830, 'snuck': 6824, 'disney': 2301, 'decide': 2057, 'turning': 7625, 'flickering': 3040, 'alarming': 549, 'touching': 7508, 'plenty': 5478, 'customizability': 1983, 'addons': 452, 'programmed': 5689, 'moreover': 4731, 'shortcut': 6648, 'wouldve': 8272, 'tho': 7381, 'bing': 1066, 'gonna': 3342, 'brave': 1191, 'struggle': 7078, 'insigning': 3892, 'overwrites': 5215, 'restoring': 6218, 'robust': 6325, 'jumptofind': 4098, 'behind': 1023, '41023': 220, 'downhill': 2387, 'shifted': 6629, 'dumbass': 2444, 'customize': 1986, 'count': 1884, 'harvesting': 3491, 'spying': 6952, 'pagegs': 5229, 'desktoplaptop': 2163, 'horrendous': 3629, 'unorganized': 7787, 'displayed': 2306, 'nexus': 4890, 'progress': 5692, 'stalled': 6972, 'neem': 4852, 'btw': 1227, 'clock': 1570, 'mkt': 4683, 'unique': 7755, 'toolbar': 7487, 'adblock': 435, 'mixture': 4681, 'happiness': 3473, 'sadness': 6390, 'frustrates': 3189, 'writer': 8280, 'tonne': 7483, 'ihave': 3722, 'arise': 760, 'thankyou': 7342, 'stall': 6971, 'a71': 339, 'capacity': 1345, 'thereby': 7356, 'financial': 2980, 'established': 2680, 'pulling': 5744, 'teeth': 7290, 'refund': 5997, 'strict': 7067, 'stance': 6974, 'filling': 2968, 'minimized': 4650, 'incoming': 3801, 'phoneall': 5383, 'clumsy': 1584, 'completly': 1704, 'y30': 8300, 'poorly': 5514, 'planned': 5443, 'thumb': 7402, 'construction': 1782, '90of': 323, 'sd': 6488, 'yo': 8318, 'po': 5493, 'careless': 1362, 'breaking': 1200, 'developing': 2187, 'divorced': 2335, 'evil': 2716, 'moved': 4749, 'paid': 5230, 'tracking': 7523, 'revenue': 6259, 'model': 4694, 'youtubejust': 8327, 'played': 5456, 'recentalbeit': 5900, 'somewhat': 6854, 'nonetheless': 4921, 'autoupdate': 890, 'vain': 7933, 'movie': 4751, 'influx': 3856, 'dirty': 2252, 'complains': 1695, 'suited': 7148, 'duckduckgo': 2439, 'filthy': 2975, '403': 213, 'bugging': 1243, 'myactivity': 4799, 'supposedly': 7176, '4k': 239, 'wierd': 8196, 'magic': 4447, 'ugly': 7662, 'pure': 5753, 'hardest': 3481, 'advantage': 481, 'misguided': 4663, 'nonexistent': 4922, 'ashamed': 792, 'felt': 2937, 'frustratednew': 3188, 'uprise': 7874, 'inquire': 3882, 'internetso': 3963, 'onlythis': 5080, 'tile': 7424, 'scottish': 6466, 'gaelic': 3226, 'rare': 5830, 'annoyance': 646, 'youll': 8322, 'reloading': 6062, 'include': 3790, 'messing': 4602, 'mourn': 4746, 'cascading': 1372, 'discovered': 2286, 'syncing': 7224, 'row': 6355, 'omg': 5063, 'hell': 3534, 'prerecorded': 5602, 'corrupted': 1869, 'true': 7602, 'eating': 2492, 'theme': 7353, 'samsungs': 6409, 'descent': 2137, 'enhance': 2609, 'shape': 6612, 'enjoyed': 2617, '5star': 271, 'depend': 2127, 'entertainment': 2634, 'streaming': 7059, 'program': 5688, 'culture': 1964, 'song': 6860, '1204mb': 50, 'smaller': 6790, 'sound': 6879, 'duration': 2456, '5min': 267, 'actuall': 428, 'length': 4260, 'observed': 5005, 'pls': 5481, 'unproductive': 7796, 'movement': 4750, 'fingersthumb': 2993, 'inducing': 3839, 'redundant': 5974, 'counterproductive': 1888, 'infact': 3848, 'oldschool': 5059, 'dialup': 2205, 'peopl': 5322, 'abandon': 344, 'eyesight': 2842, 'override': 5205, 'vertical': 7979, 'column': 1632, 'ar': 754, 'featuring': 2921, 'artichles': 780, 'shopping': 6644, 'thes': 7361, 'selling': 6540, 'buy': 1284, 'yeres': 8310, 'integral': 3927, 'soo': 6861, 'telephone': 7292, 'dismisses': 2299, 'migraine': 4620, 'applicable': 711, 'pesky': 5370, 'pornographic': 5526, 'humanityfor': 3669, 'doctor': 2344, 'mid': 4616, 'discovery': 2288, 'print': 5642, 'smallcannot': 6789, '720p': 298, 'cleaned': 1543, 'exists': 2762, 'downgraded': 2385, 'eagerly': 2466, 'leisure': 4259, 'external': 2827, 'linksi': 4316, 'slowi': 6781, '1gb': 85, 'slows': 6784, '120': 48, 'closer': 1575, 'zoomes': 8342, 'arrow': 778, 'evereverytime': 2701, 'problemalso': 5662, 'neednt': 4851, 'worry': 8262, 'consumes': 1786, 'memory': 4578, 'disk': 2294, 'slower': 6779, 'provider': 5729, 'uo': 7847, 's20': 6379, 'banking': 963, 'sit': 6729, 'spin': 6924, 'smoothly': 6808, 'inability': 3776, 'amp': 615, 'adblocking': 436, 'unpleasant': 7792, 'advanced': 478, 'avoid': 903, 'reverted': 6263, 'annoyed': 647, 'lowered': 4425, 'cluttered': 1589, 'picked': 5399, 'revisit': 6270, 'reppear': 6143, 'spent': 6921, 'shocking': 6638, 'released': 6049, 'modern': 4700, 'staff': 6962, 'fob': 3062, 'six': 6739, 'abused': 366, 'revealing': 6256, 'danger': 2006, 'begun': 1018, 'bustrain': 1275, 'hotel': 3641, 'talk': 7244, 'bus': 1269, 'operator': 5108, 'arrival': 773, 'trip': 7584, 'surely': 7178, 'court': 1897, 'listen': 4321, 'makemytrip': 4466, 'responsibility': 6201, 'loot': 4402, 'advance': 477, 'payment': 5299, 'booking': 1146, 'improved': 3772, 'fooling': 3081, 'cancellation': 1335, '24': 129, '75': 301, 'eligible': 2538, '48': 229, 'digital': 2233, 'era': 2658, 'whatsapp': 8163, 'representative': 6145, 'raised': 5815, 'automated': 877, 'highly': 3570, 'cheated': 1463, 'mmt': 4686, 'gift': 3286, 'voucher': 8046, 'balance': 950, 'credit': 1929, 'billed': 1061, 'extraordinarily': 2834, 'wonderful': 8233, 'blame': 1089, 'booked': 1145, '031123': 3, 'confirmed': 1745, 'intimation': 3973, 'techie': 7280, 'assure': 819, 'journey': 4086, 'executive': 2752, 'loosing': 4401, 'trust': 7607, 'disconnect': 2276, 'edit2ive': 2506, 'refundable': 5998, 'calling': 1320, 'toll': 7477, 'nd': 4832, 'oyo': 5220, 'property': 5716, 'refunding': 6000, 'cheap': 1459, 'dr': 2401, 'rutuja': 6376, 'guarantee': 3418, 'refunded': 5999, 'rail': 5809, 'contacted': 1791, 'limit': 4301, '7days': 306, 'strongly': 7075, 'experiencethey': 2788, 'refundsecondly': 6001, 'appthe': 747, 'terriblewasted': 7317, '800rs': 309, 'anywherenot': 676, 'amenity': 605, 'registered': 6014, 'owner': 5218, 'train': 7527, '551inr': 261, 'irctc': 4017, 'railway': 5810, 'ditching': 2330, 'digging': 2231, 'checkin': 1470, 'informed': 3864, 'oversold': 5210, 'stillvmarked': 7024, 'flight': 3042, 'gandola': 3237, 'ride': 6291, 'authority': 869, 'weather': 8124, 'promised': 5699, 'tour': 7511, 'unprofessionalism': 7798, 'hence': 3546, 'alternate': 594, 'futher': 3218, 'disgusting': 2291, 'debitted': 2049, 'ready': 5857, 'customized': 1987, 'bothered': 1170, 'sich': 6681, 'airport': 544, 'paris': 5253, 'tax': 7265, 'amsterdam': 616, 'shell': 6624, 'deny': 2122, 'careful': 1360, 'outstation': 5186, 'reservation': 6174, 'inform': 3859, 'stranded': 7049, 'luggage': 4434, 'goibibo': 3334, 'receipt': 5894, 'fot': 3128, 'generate': 3260, 'airline': 542, 'claiming': 1530, 'addressing': 455, 'buying': 1286, 'credited': 1930, 'communicate': 1661, 'hassle': 3495, 'chatbot': 1452, 'charge': 1442, 'moneycancels': 4715, 'prior': 5645, 'noticeamenities': 4962, 'descriptionrules': 2142, 'enforced': 2600, 'concerned': 1723, 'phoneemail': 5384, 'lodge': 4367, 'insurance': 3926, '4000': 210, 'taxi': 7266, 'mmts': 4688, 'stand': 6975, 'immediate': 3737, 'describe': 2138, 'horror': 3634, 'walked': 8067, 'km': 4151, 'bag': 944, 'rot': 6339, 'fraudulent': 3144, 'timesthe': 7438, 'higher': 3564, 'duping': 2453, 'appand': 691, 'resort': 6191, 'munnar': 4783, 'canceled': 1333, 'suffer': 7136, 'makemy': 4465, 'cab': 1296, 'goodthe': 3350, 'appropriate': 732, 'located': 4359, 'highlighted': 3567, 'food': 3078, 'deducted': 2071, 'recieve': 5906, 'initiated': 3873, 'bank': 962, 'initially': 3872, 'tkt': 7455, 'dialog': 2202, 'unfortunate': 7729, 'accepted': 375, 'predetermined': 5576, 'difference': 2218, 'greedy': 3391, '1012': 22, 'milk': 4630, 'outright': 5183, 'freezed': 3156, 'appregarding': 729, 'helpline': 3544, 'possibility': 5536, 'marchdespite': 4501, 'attested': 844, 'sbi': 6432, 'escalate': 2669, 'biz': 1082, 'animated': 641, 'flying': 3061, '3066': 170, 'iniatied': 3870, '2639': 140, 'emailing': 2552, 'textingcalling': 7330, 'satisfactory': 6416, 'aap': 342, 'nerve': 4863, 'wracking': 8274, 'secondly': 6506, 'international': 3961, 'domestic': 2361, 'thirdly': 7372, 'documented': 2348, 'couponsoffers': 1894, 'figured': 2956, 'planing': 5442, 'minus': 4656, 'channel': 1435, 'negativewell': 4855, '2021': 110, 'exceperience': 2732, 'air': 538, 'asia': 793, 'proceeded': 5666, 'mandatory': 4488, 'dob': 2341, 'passangers': 5269, 'everyones': 2710, '01011970': 2, 'reputed': 6148, 'abruptly': 355, 'shared': 6614, 'pinky': 5423, 'hardly': 3482, 'listened': 4322, 'loose': 4399, 'emergency': 2559, 'ordered': 5139, 'sometime': 6851, 'mentioning': 4584, 'fool': 3079, 'concept': 1720, 'coupon': 1893, 'guaranteed': 3419, 'somebdy': 6844, 'waitlist': 8061, 'urgently': 7887, 'resolving': 6190, 'midnight': 4618, 'raining': 5812, 'olso': 5061, 'shelter': 6625, 'nearby': 4834, 'exec': 2748, 'guided': 3430, 'showed': 6664, 'itinerary': 4048, 'scam': 6437, 'kolkatta': 4162, 'kochi': 4160, '6000': 276, 'waitlisted': 8062, 'seat': 6500, 'visa': 8024, 'biometrics': 1073, 'bangalore': 959, 'dishonest': 2293, 'ruined': 6368, 'expectation': 2774, 'ixigo': 4059, 'safely': 6393, 'utter': 7921, 'fee': 2926, 'supportfull': 7172, '57': 263, 'hefty': 3531, 'concrete': 1731, 'clarity': 1533, 'looted': 4403, 'expired': 2793, 'looting': 4404, '3x': 206, 'msg': 4759, 'suffered': 7137, 'appeven': 705, 'kerela': 4122, 'doubt': 2380, 'aksed': 546, 'relationship': 6041, 'officer': 5040, 'ignored': 3720, 'department': 2125, 'attention': 843, 'iternary': 4047, 'postponed': 5547, 'unforeseen': 7728, 'invoice': 4006, 'organisation': 5143, 'faith': 2871, 'arrange': 768, 'hyderabad': 3689, 'shot': 6653, 'informing': 3865, 'ending': 2592, 'paying': 5298, 'deliver': 2111, 'tat': 7263, 'centre': 1413, 'recived': 5914, '15000': 66, 'friend': 3169, 'wedding': 8135, 'seek': 6516, '12k': 57, 'redeeming': 5957, 'discount': 2281, 'ease': 2475, 'round': 6347, 'chose': 1498, '1863': 80, 'aed': 493, 'nowpreviously': 4980, 'goodbut': 3345, 'manipulated': 4492, 'dishearteningin': 2292, 'joker': 4082, 'cheat': 1462, 'advertise': 484, 'chart': 1448, 'penalty': 5317, 'issuesthey': 4035, 'unfairly': 7720, '454': 227, 'whereas': 8169, 'path': 5284, 'traffic': 7525, 'deviation': 2190, 'meaningless': 4551, 'ivr': 4058, 'arrived': 775, 'destination': 2170, 'pickup': 5402, 'fare': 2886, 'lodged': 4368, 'costly': 1876, 'value': 7939, 'completed': 1699, 'bali': 951, 'villa': 8015, 'deluxe': 2115, 'nusa': 4990, 'pendia': 5318, 'ac': 369, 'restaurant': 6213, 'complimentary': 1709, 'lunch': 4436, 'toilet': 7471, 'portion': 5528, 'floating': 3049, 'breakfast': 1199, 'packagefirst': 5223, 'flightin': 3044, 'flightsif': 3046, 'packagei': 5224, 'myselfworst': 4804, 'experiencenever': 2785, 'dubai': 2437, '1the': 94, 'ph': 5377, '2there': 162, 'airarabia': 539, 'cabin': 1298, 'baggage': 946, 'unethically': 7716, 'shark': 6617, 'foreign': 3097, 'redeem': 5956, 'mycash': 4801, 'zomato': 8338, '9th': 334, 'bluff': 1122, 'iam': 3695, 'transferring': 7535, 'knowledge': 4156, 'triple': 7585, 'lakh': 4186, 'rupee': 6373, 'exaggerating': 2723, 'proof': 5712, 'coincidence': 1603, 'updatecustcare': 7853, 'scamreal': 6443, 'trickyi': 7578, 'farei': 2887, 'blunder': 1123, 'final': 2978, 'paymentmmtwhy': 5300, 'waywhy': 8112, '2300': 125, '400rs': 212, 'carewas': 1363, 'logic': 4373, 'generated': 3261, 'selected': 6529, '25th': 138, 'rebook': 5884, 'mention': 4582, 'travelling': 7556, 'nonac': 4917, 'colsed': 1630, 'edit1': 2505, 'neeraj': 4853, 'hotelsflights': 3644, 'continuously': 1809, 'connecting': 1761, 'transfer': 7533, 'alter': 593, 'mistakenly': 4673, 'assist': 810, '28': 144, 'aur': 856, 'increased': 3815, 'hidden': 3559, 'pricing': 5636, 'deceptive': 2056, 'pune': 5747, 'jammu': 4065, 'trusted': 7609, 'vendor': 7960, 'bylane': 1292, 'uncompetitive': 7691, 'assume': 815, 'experiencehotel': 2782, 'hotelier': 3643, 'bookingsi': 1150, 'amounton': 614, 'complained': 1693, 'filed': 2958, 'holiday': 3605, 'wisely': 8213, 'co': 1591, 'traveller': 7555, 'un': 7672, 'beleive': 1025, '5n6d': 268, '2n': 158, 'vacation': 7930, 'agree': 528, 'sid': 6685, 'ethiad': 2688, 'frommake': 3179, 'kg': 4130, 'luccage': 4429, 'unseen': 7816, 'transaction': 7532, 'insisting': 3895, 'formality': 3112, 'srinagar': 6955, 'caring': 1364, '130': 59, 'late': 4208, 'lower': 4424, 'berth': 1038, 'sleeper': 6758, 'beacuse': 991, 'passenger': 5271, 'climb': 1567, 'berthhow': 1039, 'tune': 7620, 'ringing': 6302, 'itthird': 4053, 'tripmy': 7587, 'gofirst': 3332, 'choosen': 1492, 'acutal': 430, 'initial': 3871, 'conversation': 1825, 'generation': 3263, 'contactable': 1790, 'unresolved': 7806, 'reachable': 5840, 'assuming': 817, 'appeared': 702, 'tie': 7416, 'pe': 5306, 'slot': 6775, 'locking': 4365, 'lockup': 4366, 'trick': 7575, 'carei': 1361, 'wallet': 8071, 'transferred': 7534, 'reflecting': 5990, 'statement': 6994, 'arguing': 759, 'tricking': 7576, 'constmers': 1780, 'pocket': 5495, 'parked': 5255, 'gateway': 3243, 'voice': 8041, 'didnot': 2212, 'exdelhi': 2747, 'responsive': 6205, 'bluntly': 1124, 'planner': 5444, 'issuecomplaint': 4030, 'rs4410': 6361, '815': 311, '513': 253, '480': 230, 'deduct': 2070, 'pre': 5569, 'recorded': 5935, 'tape': 7251, 'vendorhotel': 7961, 'wast': 8097, 'gocall': 3327, 'includes': 3794, 'jungle': 4102, 'safari': 6391, 'includedhotel': 3792, 'ane': 634, 'comission': 1648, 'alsowe': 592, 'reward': 6276, 'applicationthank': 716, 'reimbursement': 6025, 'appyou': 749, '04th': 6, 'operational': 5107, 'denying': 2123, 'supervisor': 7164, 'spoke': 6932, 'conference': 1737, '33hrs': 186, 'uve': 7924, 'wts': 8290, 'dere': 2136, 'dat': 2017, 'tckt': 7269, 'imp': 3743, 'breakup': 1201, 'myra': 4803, 'confimed': 1742, 'tdr': 7270, 'october': 5024, '4860': 231, 'processed': 5669, 'attract': 846, '2nd': 159, 'entertain': 2631, 'meet': 4565, 'proceed': 5665, 'shield': 6627, 'opaque': 5092, 'portal': 5527, 'nf754hxfans11h1u5676': 4891, 'delhi': 2106, 'ranchi': 5822, 'wednesday': 8136, '21': 117, 'fetch': 2942, 'errorwho': 2667, 'earned': 2473, 'willing': 8205, 'rescheduled': 6165, 'sec': 6502, 'filght': 2963, '12052023': 51, 'convience': 1832, 'compliants': 1707, 'sum': 7149, '4x': 242, 'alloted': 572, 'smelly': 6800, 'water': 8109, '40': 208, 'min': 4634, 'doesnot': 2353, 'facility': 2853, 'shirdhi': 6634, 'ujjain': 7665, 'boarding': 1130, 'comebus': 1640, 'dhule': 2196, 'tripthey': 7589, 'moneyi': 4716, 'dissatisfied': 2317, 'server': 6576, 'trialkart': 7573, 'goair': 3325, 'agency': 515, 'repeated': 6118, 'pnr': 5492, 'seating': 6501, 'dealing': 2041, 'depending': 2131, 'supplier': 7168, 'italy': 4041, 'switzerland': 7215, 'guidance': 3428, 'advisor': 492, 'saikia': 6399, 'coordinated': 1845, 'iterinary': 4046, 'ita': 4039, 'indian': 3825, 'veg': 7956, 'unpalatable': 7788, 'tasteless': 7262, 'boiled': 1135, 'served': 6575, 'impersonal': 3751, 'treatment': 7562, 'attendant': 840, 'coach': 1592, 'conducted': 1736, 'milan': 4626, 'logistics': 4380, 'everinstalled': 2702, 'kingdom': 4148, 'issuestried': 4036, 'repliedi': 6129, 'refundworst': 6002, 'servicewill': 6580, 'applicationmmt': 714, 'failing': 2865, 'thisnot': 7378, 'extranet': 2833, 'scammer': 6441, 'vashisht': 7949, 'risikesh': 6311, 'norefund': 4942, '19th': 82, '37days': 194, 'mmr': 4685, 'steal': 7006, 'kalaburagi': 4110, 'goa': 3324, 'amound': 611, 'mailed': 4452, 'replay': 6127, 'costomer': 1877, 'city': 1527, 'prepaid': 5598, 'colum': 1631, 'upcoming': 7849, '1hr': 86, '1200rs': 49, 'experiencenot': 2786, 'feeling': 2933, '1star': 93, 'deduction': 2072, '5000': 246, '1077': 25, '31st': 181, '3300': 185, 'yhem': 8316, 'firm': 3006, 'notenot': 4953, '1month': 88, 'checkinasking': 1471, '3am': 201, 'nightbut': 4902, 'disconnecting': 2278, 'redbus': 5954, 'theives': 7352, 'bought': 1177, '964': 328, 'unsuspecting': 7828, 'ca': 1295, 'hostel': 3638, 'mypackage': 4802, 'fulling': 3201, 'scame': 6439, 'appfraud': 706, 'needful': 4847, 'map': 4498, 'visitor': 8032, 'flexi': 3035, 'bogus': 1133, 'flexible': 3037, 'erroe': 2664, 'station': 6997, 'nether': 4872, 'trustworthy': 7611, 'registering': 6015, 'discus': 2289, 'dehradun': 2096, 'whuch': 8189, 'reschedule': 6164, '3050': 169, 'upi': 7867, 'repaid': 6112, 'wrongly': 8284, 'emailed': 2551, 'coustomer': 1899, 'mr': 4757, 'dayaram': 2028, 'bairwa': 947, 'unavailable': 7679, 'stagethe': 6965, 'stayed': 7002, 'exp': 2769, 'checkinbut': 1472, 'shift': 6628, '2000rs': 99, 'agreed': 529, 'reconsider': 5933, 'kufri': 4167, 'arrive': 774, 'building': 1246, 'checkout': 1477, 'mafia': 4446, 'coffin': 1601, 'circus': 1524, 'designated': 2150, 'scammed': 6440, '1000inr': 16, 'predefined': 5575, '16000': 71, 'sating': 6414, 'hastle': 3496, 'threatening': 7390, 'denial': 2120, 'buck': 1231, 'hotelhotel': 3642, 'costumer': 1879, 'personnel': 5365, 'renu': 6105, 'suitable': 7146, 'sounding': 6881, 'robot': 6322, 'follows': 3075, 'sop': 6868, 'protocol': 5723, 'energy': 2599, 'mental': 4581, 'fall': 2873, 'judged': 4090, 'mmtblack': 4687, 'drivel': 2420, 'atrocious': 829, 'terribly': 7318, 'numbing': 4987, 'pakistan': 5237, 'begage': 1011, 'bagage': 945, 'rep': 6111, 'specialist': 6900, 'grishma': 3402, 'shah': 6606, 'aggressive': 522, 'duped': 2452, 'dinner': 2242, 'special': 6899, 'perk': 5343, 'hte': 3656, 'successfull': 7129, 'chasing': 1450, 'four': 3132, 'resolv9ng': 6187, 'signal': 6694, 'harrasment': 3487, 'designed': 2152, 'guranteeout': 3437, 'conformed': 1749, 'listaccording': 4319, 'timesthats': 7437, 'youeven': 8321, 'yetthis': 8314, 'gurantee': 3436, 'disaster': 2271, 'shade': 6602, 'detailsand': 2176, 'spoil': 6931, 'scam2': 6438, 'fooled': 3080, '7k': 307, 'unbelievably': 7681, 'supportive': 7173, 'sweet': 7206, '72000': 297, 'fair': 2868, '25000': 137, 'callingraising': 1321, 'delay': 2097, '2hr': 155, 'verry': 7971, 'tourist': 7512, 'existspeciallialy': 2763, 'sri': 6954, 'krishna': 4165, 'wellwhen': 8155, 'themthat': 7354, 'existi': 2760, 'venue': 7962, 'tolltly': 7478, 'rascal': 5832, 'talked': 7245, '10were': 35, 'redressal': 5969, 'townhouse': 7517, '600': 275, 'unhold': 7739, 'host': 3636, 'bookingmessagesrelated': 1148, 'offersother': 5038, 'unimportant': 7742, 'airbnb': 540, 'hosting': 3639, 'unrelated': 7804, 'channeli': 1436, 'root': 6337, '30km': 173, 'homestay': 3610, 'insisted': 3894, 'cheaper': 1460, 'doubted': 2381, 'integrity': 3932, 'correspondence': 1867, 'scheme': 6455, '410': 219, '1x': 95, '2x': 163, 'nxt': 4995, 'workingdont': 8249, 'khatushyamji': 4131, 'picking': 5401, '450': 226, 'hike': 3575, 'wrost': 8285, 'dissapointed': 2314, 'confirm': 1743, '245': 132, 'pm': 5490, 'compensation': 1683, 'conditionsfrauds': 1735, 'guarentee': 3421, 'cit': 1525, 'thier': 7367, 'remaining': 6069, 'experiencei': 2783, 'packed': 5226, 'inr': 3883, '1800': 77, 'theyll': 7363, 'lesser': 4265, 'completedwow': 1700, 'excuse': 2746, 'claimed': 1529, 'changei': 1431, 'chennai': 1480, 'kodaikanal': 4161, '35': 188, 'breakdown': 1197, 'sweating': 7205, 'ik': 3723, 'explaination': 2796, 'tripvery': 7590, 'differentworst': 2224, 'marking': 4513, 'operater': 5103, 'messaged': 4596, 'reflected': 5989, 'benefit': 1033, 'reqard': 6149, 'indulged': 3840, 'goid': 3335, '19': 81, 'july': 4093, 'engaged': 2602, 'maximum': 4541, 'gsrtc': 3416, 'custumer': 1989, 'excluding': 2742, 'reality': 5864, 'calculating': 1311, 'unsure': 7827, 'purchasing': 5752, 'rs25000': 6360, 'undertaken': 7702, 'swati': 7202, 'saxena': 6429, '28400': 145, '23000': 126, 'personin': 5364, 'rejectedi': 6033, 'exploring': 2809, 'shimla': 6631, '1n': 89, 'kulu': 4168, '3n': 203, 'manali': 4486, 'expert': 2791, 'pankaj': 5244, 'halted': 3455, '150': 65, 'hilly': 3579, 'hectic': 3530, 'flightfare': 3043, 'proceeding': 5667, 'customercare': 1977, 'blockfare': 1112, 'crime': 1933, 'kilometre': 4141, 'visiting': 8031, 'sir': 6726, 'shivani': 6635, 'oprator': 5114, 'tip': 7447, 'misguide': 4662, 'signature': 6695, 'subject': 7102, 'availability': 895, 'irresponsible': 4021, 'unprofessional': 7797, 'rs15000': 6358, '4hours': 238, 'vacated': 7929, 'roadside': 6319, 'ofcourse': 5030, 'lie': 4280, 'decent': 2054, 'ai': 532, 'pinned': 5424, 'desire': 2156, 'streak': 7056, 'thy': 7408, 'snapchat': 6811, 'music': 4785, 'artist': 784, 'discover': 2285, 'steak': 7005, 'camera': 1326, 'discard': 2273, 'communicating': 1663, 'record': 5934, 'snitching': 6818, 'tt': 7615, 'videoing': 7998, 'timer': 7433, 'aggravating': 520, 'ro': 6316, 'graduate': 3372, 'gimmicky': 3292, 'videospictures': 8003, 'cared': 1358, 'predatory': 5574, 'snapping': 6815, 'jacked': 4061, 'unpin': 7790, 'consumed': 1784, 'skip': 6748, 'yellow': 8309, 'profitable': 5686, 'highschool': 3572, 'optional': 5125, 'invasion': 3994, 'decline': 2063, 'tos': 7498, 'analyze': 624, 'eh': 2527, 'anyways': 674, 'shut': 6675, 'nuisance': 4983, 'yuck': 8333, 'spotlight': 6945, 'casually': 1379, 'ensure': 2624, 'jumping': 4097, 'forcing': 3093, 'aggravation': 521, 'myai': 4800, 'pile': 5413, 'influencer': 3854, 'farm': 2888, 'essentially': 2679, 'bitmoji': 1079, '3d': 202, 'animation': 642, 'modernized': 4701, 'rival': 6314, 'characteristic': 1441, 'madness': 4445, 'chatlist': 1455, 'abhorrent': 347, 'unfriended': 7733, 'evidently': 2715, 'targeted': 7256, 'falling': 2876, 'ball': 952, 'shifting': 6630, 'base': 974, 'commercial': 1652, 'throat': 7394, 'lense': 4263, 'interest': 3946, 'survey': 7189, 'setup': 6589, 'held': 3533, 'hostage': 3637, 'shortly': 6651, 'convo': 1836, 'centered': 1411, 'pic': 5397, 'chromebooks': 1507, 'encountered': 2584, 'enjoyment': 2619, 'export': 2814, 'likely': 4293, 'riddance': 6289, 'backspace': 929, 'whoever': 8180, 'typo': 7657, 'trend': 7567, 'feee': 2931, 'overwhelming': 5214, 'bombarding': 1142, 'opting': 5123, 'trendy': 7570, 'unfriend': 7732, 'worldview': 8258, 'redo': 5967, 'irriating': 4022, 'rope': 6338, 'shoot': 6641, 'stealing': 7007, 'unpinned': 7791, 'unresponsive': 7807, 'millisecond': 4632, '512': 251, 'young': 8323, 'stalk': 6969, 'socalled': 6825, 'permanence': 5345, 'alsofor': 591, '52323': 257, 'reminderpopup': 6082, 'spontaneous': 6937, 'blind': 1101, 'particularly': 5265, 'absurd': 361, 'gather': 3244, 'consent': 1766, 'classmate': 1539, 'desperate': 2165, 'sticking': 7021, 'clickbait': 1561, 'hound': 3645, 'sitting': 6737, 'holding': 3601, 'priority': 5649, 'vast': 7950, 'waster': 8101, 'finnaly': 2999, 'seemingly': 6521, 'bugged': 1241, 'virtually': 8022, 'physically': 5395, '830845am': 314, '51223': 252, 'finish': 2995, '30sec': 176, 's10': 6378, 'ridiculously': 6294, 'alright': 589, 'upgraded': 7865, 'reported': 6138, 'bloat': 1105, 'shovelware': 6661, 'grace': 3368, 'executes': 2750, 'marginally': 4504, 'hype': 3691, 'introduced': 3980, 'apple': 710, 'orange': 5133, 'moon': 4728, 'vids': 8006, 'wo': 8229, 'processing': 5670, 'absurdity': 363, 'leftleaning': 4253, 'consistent': 1773, 'losing': 4407, 'sight': 6692, 'mutuals': 4796, 'dispensable': 2304, 'presented': 5606, 'insists': 3896, 'unliked': 7768, 'nonremovable': 4931, 'overinnovation': 5193, 'deletion': 2105, 'clunky': 1585, 'chatspictures': 1456, 'sperate': 6922, 'kicked': 4133, 'safety': 6396, 'worried': 8261, 'unimpressed': 7743, 'frezzes': 3165, 'scummy': 6487, 'looove': 4396, '2011': 102, 'unwatchable': 7843, 'moronic': 4733, 'begging': 1014, 'wayyy': 8114, 'simpler': 6710, 'complex': 1705, 'hella': 3535, 'carrying': 1369, 'unstalling': 7821, 'alot': 583, 'needle': 4849, 'unlocked': 7772, 'picturesviddos': 5409, 'exclusively': 2744, 'granted': 3375, 'elsewhere': 2548, 'logout': 4382, 'notificationwise': 4968, 'disturb': 2327, 'blatant': 1094, 'refusal': 6003, 'iphones': 4014, 'tow': 7513, 'lagg': 4179, 'silly': 6704, 'understandable': 7698, 'joy': 4087, 'foremost': 3098, 'lastly': 4206, 'front': 3181, 'buffer': 1237, 'phonenetwork': 5386, 'overrated': 5202, 'glimpse': 3311, 'eventsconcerts': 2698, 'invaluable': 3993, 'humbling': 3671, 'connectedness': 1760, 'saidinstead': 6398, 'bombarded': 1141, 'cringey': 1936, 'creator': 1926, 'flooded': 3052, 'subscribe': 7110, 'unhelpful': 7737, 'masquerading': 4519, 'gathering': 3245, 'con': 1719, 'occurs': 5021, 'timesanother': 7434, 'bin': 1064, 'inappropriate': 3782, 'fear': 2912, 'decides': 2059, 'closing': 1577, 'reopening': 6109, 'taping': 7253, 'pushing': 5761, 'selector': 6535, 'retake': 6237, 'spotify': 6944, 'hill': 3578, 'sticker': 7020, 'forget': 3103, 'bombard': 1140, 'dosent': 2375, 'chrombook': 1504, 'reviws': 6273, 'opend': 5094, 'pressed': 5612, 'reveiw': 6258, 'downside': 2397, 'smartphones': 6797, 'snapchats': 6812, 'internal': 3960, 'waking': 8065, 'nap': 4811, 'understanding': 7700, 'offremove': 5045, 'intrusiveness': 3986, 'uneasy': 7710, 'pretend': 5617, 'agrees': 530, 'diasspearing': 2207, 'overlap': 5196, 'unironically': 7756, 'killing': 4139, 'texting': 7329, 'pretentious': 5619, 'wipe': 8209, 'crop': 1947, 'explanation': 2799, 'kid': 4135, 'outrageous': 5182, 'influence': 3853, 'catfished': 1390, 's20fe': 6380, '05x': 8, 'lens': 4262, '10x': 36, '30x': 177, 'samsungbut': 6408, 'smallinconvenient': 6792, 'funtions': 3215, 'imo': 3742, 'purest': 5754, 'sc': 6434, 'responsible': 6202, 'plattform': 5453, 'absurdely': 362, 'advertisment': 489, 'atm': 828, 'pressured': 5615, 'implemented': 3754, 'improves': 3774, 'absence': 356, 'slimy': 6770, 'isout': 4027, 'filer': 2960, 'goal': 3326, 'picturesbut': 5408, 'workingive': 8250, 'malfunction': 4473, 'spread': 6948, 'skipping': 6750, 'bcoz': 988, 'stored': 7041, 'risky': 6313, 'nature': 4824, '4get': 237, 'scapchat': 6448, 'advert': 483, 'harassed': 3478, 'screenshotting': 6476, '399': 196, 'nagging': 4806, 'animal': 639, 'beauty': 999, 'enhancing': 2613, 'heavily': 3526, 'brightness': 1208, 'eyeslight': 2843, 'makeup': 4468, '2015': 104, 'sexually': 6600, 'suggestive': 7143, 'silentaudible': 6702, 'uncomfortably': 7690, 'chatting': 1457, 'pose': 5530, 'longevity': 4388, 'discomforting': 2275, 'optimizing': 5122, 'strain': 7048, 'hardware': 3484, 'imbedded': 3734, 'unchangable': 7685, 'foreseeable': 3099, 'relentless': 6050, 'reel': 5975, 'cringe': 1935, 'sooooo': 6865, 'photosthe': 5392, 'updatedsince': 7855, 'prblm': 5567, 'fav': 2902, 'upthen': 7879, 'boom': 1155, 'hateee': 3500, 'retyping': 6251, 'gr': 3364, 'goddamn': 3330, 'bull': 1252, 'paywall': 5301, 'morally': 4729, 'corrupt': 1868, 'involve': 4007, 'backclosereopen': 922, 'shenaigans': 6626, 'ln': 4346, 'impassable': 3747, 'roam': 6320, 'emoji': 2562, 'photovideo': 5393, 'frequency': 3160, 'possessed': 5535, 'robotics': 6324, 'droid': 2427, 'safer': 6394, 'unskippable': 7818, 'moderator': 4699, 'congested': 1754, 'adult': 476, 'convince': 1833, 'excruciating': 2745, 'painfully': 5234, 'bill': 1060, 'respect': 6193, 'wherever': 8171, 'optimisation': 5116, 'hurry': 3682, 'def': 2077, 'insta': 3902, 'fiberoptic': 2946, 'thoughtful': 7385, 'pinning': 5425, 'intend': 3934, 'cropping': 1949, 'recipient': 5911, 'interact': 3939, 'tabloidinfluencer': 7233, 'autoplayed': 884, 'definately': 2087, '24hr': 135, 'rediculous': 5960, 'forbid': 3086, 'unsubscribe': 7823, 'advertised': 485, 'influencers': 3855, 'dissapeard': 2313, 'appall': 690, 'nyc': 4997, 'starsthe': 6984, 'twicebut': 7639, '2016': 105, 'brought': 1220, 'rock': 6326, 'usernames': 7907, 'relating': 6039, 'ordeal': 5135, 'punching': 5745, 'freinds': 3158, 'ig': 3718, 'messenger': 4600, 'vibrate': 7990, 'utility': 7918, 'scary': 6449, 'terrifying': 7320, 'comandering': 1634, 'basis': 980, 'wayy': 8113, 'filtersare': 2974, 'rearrange': 5874, 'prioritize': 5647, 'plant': 5446, 'cromebook': 1945, 'girl': 3293, 'ghost': 3281, 'depended': 2129, 'chromeos': 1512, 'included': 3791, 'expressed': 2818, 'prblms': 5568, 'bloated': 1106, 'desperately': 2166, 'overboard': 5189, 'exclusive': 2743, 'membership': 4574, 'shoved': 6660, 'wonder': 8232, 'discontinue': 2280, 'apalled': 680, 'unwarranted': 7842, 'debating': 2045, 'eliminate': 2539, 'goin': 3336, 'convos': 1837, '100x': 20, 'competing': 1688, 'dy': 2461, 'arrives': 776, 'freedom': 3150, 'unwatched': 7844, 'reappears': 5873, 'rolled': 6333, '100010': 15, 'happing': 3474, 'dumb': 2443, 'bullcrap': 1253, 'closest': 1576, '247': 133, 'replaced': 6124, 'younger': 8324, 'critique': 1944, 'snapmessage': 6814, 'politics': 5507, 'interrupted': 3968, 'follower': 3072, 'uninstalledinstalled': 7747, 'attemps': 836, 'subscriber': 7113, 'implementing': 3755, 'aiming': 536, 'ditch': 2329, 'recording': 5937, 'coded': 1595, 'veto': 7985, 'jack': 4060, 'freaky': 3148, 'buzzing': 1289, 'swear': 7204, 'draw': 2412, 'buzz': 1287, 'drawing': 2415, 'intended': 3935, 'bandwagon': 956, 'usingwe': 7913, 'bluetooth': 1120, 'onoff': 5081, 'somw': 6857, 'arw': 788, 'duplicate': 2454, 'trashbin': 7548, 'recycle': 5951, 'somwthing': 6858, 'dims': 2240, 'visibly': 8027, 'darker': 2011, 'readjust': 5853, 'brightr': 1209, 'heartbeat': 3520, 'frankly': 3142, 'embarrassing': 2554, 'ultra': 7669, 'ti': 7409, 'hated': 3499, 'scrape': 6468, 'advertiser': 487, 'broker': 1218, 'optout': 5131, 'slightest': 6767, 'huring': 3680, 'premuim': 5596, '2013': 103, 'selects': 6536, 'bottle': 1172, 'conditioner': 1734, 'cartoony': 1371, 'bitmojis': 1080, 'allegedly': 567, 'ignore': 3719, 'infuriates': 3866, 'illegal': 3725, 'annoy': 645, 'ghostwhy': 3282, 'unlimited': 7769, 'recorder': 5936, 'offwhy': 5046, 'swallow': 7198, 'gif': 3284, 'porngambling': 5525, 'speech': 6915, 'reign': 6024, 'meant': 4552, 'amendment': 604, 'aka': 545, 'player': 5457, 'relation': 6040, 'tweet': 7635, 'retweet': 6248, 'heck': 3529, 'fullscreen': 3202, 'vid': 7993, 'unfollow': 7725, 'quote': 5797, 'liking': 4300, 'playback': 5455, 'replylikeretweet': 6134, 'labeled': 4171, 'fixable': 3015, 'dmsimages': 2338, 'dm': 2337, 'msgwhen': 4760, 'static': 6995, 'polluting': 5509, 'videogif': 7995, 'practical': 5563, 'sole': 6834, 'tiktokish': 7422, 'downgrade': 2384, 'socialisation': 6827, 'picsvideosgifs': 5403, 'attempted': 838, 'imply': 3757, 'power': 5554, 'november': 4975, 'bare': 968, 'alphabetically': 587, 'exaggeration': 2724, 'userbase': 7903, 'enjoyable': 2616, 'flicking': 3041, 'flick': 3038, 'fastforwardplayback': 2897, 'autoplay': 883, 'kpop': 4164, 'idol': 3713, 'overlapping': 5197, 'sks': 6752, 'dissappear': 2316, 'undetermined': 7705, 'rendered': 6097, '180423': 78, 'username': 7906, 'videosit': 8002, 'horribly': 3632, 'elon': 2544, 'orderbut': 5138, 'shocker': 6637, 'retract': 6240, 'troublesome': 7599, 'caption': 1350, 'covering': 1903, 'approved': 735, 'pause': 5289, 'rewind': 6281, 'cohost': 1602, 'isolated': 4026, 'ideal': 3703, 'lo0602qkhjbwj': 4347, 'organize': 5151, 'bridge': 1204, 'troll': 7592, 'dissonance': 2318, 'hugely': 3660, 'misunderstood': 4675, 'similarity': 6708, 'gify': 3287, 'marked': 4507, 'vanished': 7941, '9900releaseo': 331, '61623': 282, 'promoted': 5703, 'negligible': 4856, 'followingfollowers': 3074, 'blueyellow': 1121, 'likewhy': 4299, 'evening': 2695, 'draining': 2408, 'mastodon': 4525, 'reboots': 5888, 'mindlessly': 4639, 'junk': 4104, 'learns': 4245, 'reclaim': 5917, 'emui': 2573, '10sec': 32, 'emojis': 2563, 'escaped': 2673, 'artwork': 787, 'surface': 7180, 'covered': 1902, 'understandhow': 7699, 'looping': 4398, 'buried': 1268, 'flocking': 3050, 'smash': 6799, 'ppl': 5560, 'poc': 5494, 'rotates': 6341, 'ap': 679, 'speakermuteunmute': 6895, 'rotating': 6342, 'lout': 4416, 'mwntion': 4798, 'sideways': 6689, 'videosgifs': 8001, 'tesla': 7321, 'chronological': 1514, 'man': 4479, 'worker': 8245, 'despise': 2168, 'translation': 7539, 'goodness': 3349, 'ffs': 2945, 'owned': 5217, 'bigot': 1057, 'string': 7070, 'purposefully': 5757, 'bartweet': 973, 'autoplays': 885, 'juat': 4088, '24042023': 130, 'alignment': 565, 'restrictslimits': 6224, 'appeal': 697, 'killed': 4138, 'bottomless': 1174, 'vary': 7948, '1508': 67, 'videothe': 8004, 'disappersno': 2265, 'forwardsyou': 3125, 'videohuge': 7996, 'viewsswiping': 8014, 'insteadit': 3917, 'previouslywho': 5630, 'reelstiktok': 5976, 'rated': 5834, 'gotta': 3358, 'unhide': 7738, 'testing': 7325, 'misdirected': 4660, 'jumped': 4096, 'decentralization': 2055, 'fighting': 2954, 'interrupt': 3967, 'annoys': 650, 'nasty': 4818, 'prostitution': 5718, 'hook': 3616, 'gross': 3406, 'fired': 3003, 'engage': 2601, 'passing': 5272, 'prodemocracy': 5671, 'silenced': 6701, 'proauthoritarianism': 5657, '060223': 9, 'likereplies': 4298, '72hours': 299, 'frisun': 3175, 'timeframe': 7428, 'breaker': 1198, 'troubleshooting': 7597, 'hd': 3507, 'multipleall': 4774, 'afresh': 505, 'db1960s': 2034, 'ramped': 5820, 'poll': 5508, 'rampant': 5819, 'curate': 1966, 'identical': 3704, 'termtag': 7314, 'hashtags': 3492, 'extended': 2822, 'wall': 8069, 'backward': 934, 'pausing': 5291, 'deep': 2074, 'sleep': 6757, 'uptodate': 7882, 'lawsuit': 4223, 'needenjoy': 4846, 'buggier': 1242, 'unnecesarry': 7778, 'porn': 5524, 'gifs': 3285, 'updatestill': 7858, 'skim': 6746, 'opportunity': 5111, 'wording': 8241, 'socializing': 6828, '37': 193, 'suspending': 7193, 'unpause': 7789, 'cat': 1380, 'database': 2019, 'hmu': 3597, 'competition': 1689, 'judgment': 4092, 'corruption': 1870, 'war': 8082, 'brain': 1186, 'washing': 8092, 'distraction': 2326, 'barley': 971, 'mindbending': 4636, 'ludicrous': 4433, 'podts': 5497, 'dint': 2243, 'sbooze': 6433, 'chaotic': 1438, 'fro': 3176, 'ufollowing': 7661, 'aaand': 341, 'txt': 7648, 'yt': 8332, 'dare': 2008, 'deboosted': 2050, 'networking': 4875, 'expense': 2777, 'likeness': 4296, '61428': 280, 'rubbish': 6364, 'elons': 2546, 'innovative': 3876, 'unemployment': 7714, 'robotic': 6323, 'hater': 3501, 'boring': 1164, '05092023': 7, 'defend': 2084, 'approximately': 739, 'infuriatung': 3868, 'retweets': 6249, 'curse': 1971, 'unconstitutionally': 7693, 'customised': 1982, 'earth': 2474, '500': 245, 'moderation': 4698, 'capitalism': 1347, 'wannabe': 8076, 'hdr': 3509, 'film': 2969, 'pale': 5238, 'color': 1621, 'saturated': 6419, 'resulting': 6231, 'clich': 1558, 'treating': 7561, 'gc': 3250, 'tedious': 7287, 'sprucing': 6951, 'sharp': 6619, 'steep': 7010, 'melon': 4572, 'husk': 3685, 'artificial': 783, 'dry': 2434, 'filled': 2966, 'checkmarks': 1476, 'literal': 4331, 'rts': 6363, 'existent': 2759, 'vanishes': 7942, 'dragging': 2404, 'guesture': 3425, 'everythings': 2712, 'checkmark': 1475, 'stink': 7025, 'purchased': 5751, 'rebooted': 5886, 'suspect': 7191, 'sabotage': 6385, 'rocket': 6327, 'aftera': 506, 'korean': 4163, 'ocean': 5023, 'muted': 4794, 'disappointment': 2269, 'truely': 7603, 'unmute': 7777, '202304': 114, 'punished': 5748, 'invisible': 4002, 'excessively': 2738, 'boldened': 1138, 'adsspam': 474, 'die': 2214, '5050': 249, 'dying': 2462, 'silently': 6703, 'pulled': 5743, 'bonus': 1143, 'sabotaging': 6386, 'beating': 996, 'longterm': 4391, 'disappearing': 2263, 'boomer': 1156, 'linear': 4306, 'weirdly': 8143, 'repetitive': 6121, '52023989': 255, '51323': 254, 'shy': 6680, 'someday': 6846, 'existed': 2757, '43023': 224, 'ou': 5168, 'hentai': 3547, 'weapon': 8120, 'guise': 3434, 'hiking': 3576, 'art': 779, 'faded': 2860, 'af': 496, 'lowest': 4426, 'digit': 2232, 'trashed': 7549, 'hyperspeed': 3693, 'ond': 5066, 'horrid': 3633, 'shorter': 6649, 'dinamic': 2241, 'act': 414, 'accustomed': 406, 'child': 1482, 'fiddling': 2949, 'toy': 7518, 'shoutout': 6658, 'undeserved': 7704, 'couldd': 1881, 'soulless': 6878, 'pictureinpicture': 5406, 'interaction': 3942, 'shadow': 6603, 'disappeares': 2262, 'bravo': 1192, 'avenue': 899, 'shout': 6657, 'unfixed': 7723, 'ownership': 5219, 'reshow': 6181, 'delayed': 2098, 'opposite': 5113, 'interacted': 3940, 'shonky': 6640, 'tik': 7420, 'tok': 7472, 'updatei': 7856, 'considered': 1770, 'downgrading': 2386, 'api': 684, 'hesitate': 3551, 'notifs': 4971, 'misinformation': 4664, 'bait': 948, 'unreadable': 7800, 'cryptoscams': 1960, 'favor': 2904, 'salvage': 6404, 'graph': 3376, 'norm': 4943, 'deteriorate': 2179, 'changingremoving': 1434, 'fyp': 3222, 'wiped': 8210, 'uninstalledreinstalled': 7748, 'alerting': 556, 'nedded': 4843, 'slightly': 6768, 'twitting': 7643, 'tweeted': 7636, 'fragmenting': 3138, 'downward': 2398, 'spiral': 6926, 'soooooo': 6866, 'dafuq': 2000, 'tank': 7249, '61523': 281, 'notificanions': 4965, 'optimize': 5120, 'stuttering': 7096, 'scks': 6463, 'unles': 7765, 'realiable': 5859, 'organised': 5146, 'chaos': 1437, 'sloooow': 6773, '16mb': 73, 'oldage': 5056, 'mkre': 4682, 'stats': 6999, 'multimedia': 4771, 'unoptimized': 7786, 'perspective': 5366, 'vulnerable': 8050, 'hacking': 3446, 'disturbing': 2328, '3200': 183, 'dramatically': 2409, 'smh': 6801, 'somethings': 6850, 'reveals': 6257, 'obsessed': 5006, 'equal': 2652, 'forgotten': 3108, 'enemy': 2598, 'wheres': 8170, 'retweetslikes': 6250, 'waitng': 8063, 'desided': 2148, 'reunstall': 6252, 'becuase': 1005, 'hacker': 3445, 'abysmal': 368, 'blurry': 1127, 'tl': 7456, 'tge': 7334, 'unfollowed': 7726, 'tripled': 7586, 'muskox': 4790, 'grrrrrr': 3414, 'twittersupport': 7642, 'attrocious': 850, 'placed': 5435, '6k': 290, 'stumbling': 7091, 'spoofed': 6938, 'nft': 4892, 'collapsible': 1611, 'defeating': 2083, 'navbar': 4825, 'mic': 4611, 'a32': 337, 'alerted': 555, 'awhile': 915, 'informative': 3863, 'interacting': 3941, 'openminded': 5098, 'controlled': 1818, 'agenda': 516, 'bow': 1180, 'pressure': 5614, 'swayed': 7203, 'interruption': 3969, 'circulation': 1522, 'watchlist': 8108, 'showsmovies': 6670, 'hulu': 3662, 'legitimately': 4258, 'streaning': 7062, 'sparce': 6890, 'blockbuster': 1109, 'episode': 2650, 'netflixs': 4871, 'grandparent': 3374, 'butt': 1277, 'relax': 6045, 'television': 7293, 'border': 1162, 'compare': 1674, 'reduces': 5972, '25': 136, 'kidding': 4136, 'crackle': 1907, 'prime': 5640, 'savvy': 6427, 'tv': 7629, 'unfreeze': 7731, 'navigating': 4829, 'genre': 3268, 'score': 6464, 'remedy': 6074, '4d': 235, 'cast': 1375, 'repeating': 6120, 'eaten': 2491, 'previewed': 5627, 'bundle': 1263, 'ons': 5082, 'series': 6569, 'stream': 7057, 'countdown': 1885, 'backandforth': 921, 'significantly': 6698, 'fing': 2990, 'unsubcribe': 7822, 'payable': 5294, 'kludgy': 4150, 'sequence': 6565, 'sport': 6940, 'season': 6497, 'flawlessly': 3033, 'casting': 1377, 'unplugged': 7794, 'subtitle': 7121, 'resubscribe': 6228, '2020': 109, 'monthly': 4724, '70month': 295, 'privilege': 5653, 'unilaterally': 7741, 'firestick': 3005, 'frustratingly': 3192, 'annual': 651, 'endclearing': 2589, 'toshiba': 7499, 'regretting': 6020, 'showmovie': 6667, 'astonishingly': 822, 'rogue': 6328, 'deliberately': 2107, 'charging': 1445, 'finishing': 2997, 'transition': 7537, 'seriesmain': 6571, 'produce': 5672, 'shooting': 6642, 'terminate': 7312, 'pip': 5427, '20minute': 116, 'anime': 643, 'lumped': 4435, 'sub': 7098, 'dub': 2436, 'horizon': 3626, 'clover': 1582, 'reincarnated': 6026, 'slime': 6769, 'subpar': 7109, 'playlist': 5460, 'relevent': 6052, 'subbeddubbed': 7100, 'tier': 7418, 'xl': 8297, '2019': 108, 'roku': 6329, 'involved': 4008, 'asleep': 799, 'smarter': 6795, 'holdwatch': 3602, 'sucky': 7132, 'dvd': 2459, 'fudged': 3196, 'ep': 2645, 'typically': 7655, 'jn': 4075, 'reconnect': 5930, '400': 209, 'fade': 2859, '1080p': 26, 'instantaneously': 3914, 'fluctuate': 3057, 'wildly': 8204, '240p': 131, 'speedhigh': 6917, 'bandwidth': 957, '720': 296, 'town': 7516, 'walk': 8066, '30minsmaybe': 175, 'cord': 1855, 'numbered': 4986, 'slowest': 6780, 'weakest': 8118, 'remembering': 6077, 'renew': 6099, 'onslaught': 5084, 'returning': 6247, 'mass': 4520, 'repeatative': 6117, 'respectively': 6195, 'onscreen': 5083, 'hideous': 3561, 'plug': 5482, 'friggin': 3174, 'admit': 467, 'hulus': 3666, 'whim': 8175, 'dig': 2230, 'sick': 6682, 'prepared': 5600, 'insult': 3925, 'injury': 3874, 'commericals': 1653, 'emphasize': 2566, 'tubi': 7618, 'tivo': 7453, 'activated': 418, 'dung': 2449, 'nicest': 4898, 'wrexham': 8278, 'fourth': 3134, 'reboot': 5885, 'dongle': 2365, 'audible': 852, 'upright': 7873, 'documentary': 2346, 'library': 4274, 'stocked': 7029, '2010': 101, 'dubbed': 2438, 'dragon': 2405, 'subbed': 7099, 'unreinstalled': 7803, 'temp': 7297, 'cleanex': 1545, 'ignoring': 3721, 'upsetting': 7877, '4282023': 223, 'counted': 1886, 'informationtraining': 3862, '1499': 61, 'rewinding': 6283, 'rewatching': 6280, 'startrs': 6988, 'comparing': 1676, 'adfree': 459, 'activate': 417, 'tick': 7410, 'addiction': 443, 'lve': 4438, 'modem': 4696, 'router': 6352, 'lm': 4344, 'connectionits': 1763, 'lockable': 4362, 'insufferable': 3924, '40min': 218, '67': 285, 'patched': 5282, 'jan': 4066, 'feb': 2923, 'hung': 3675, 'chromecasts': 1510, 'playstations': 5465, 'reliably': 6055, 'peacock': 5310, 'paramount': 5249, '100month': 19, 'march': 4500, 'buzzer': 1288, 'beater': 995, 'struggled': 7079, 'crahes': 1910, 'casted': 1376, 'anothet': 654, 'abusive': 367, 'mix': 4678, '5second': 270, 'ps4': 5736, 'youtubetv': 8328, 'fund': 3212, 'household': 3649, 'roof': 6335, 'tvevery': 7630, 'xbox': 8294, 'cubestick': 1962, 'applies': 718, 'incompetent': 3802, 'spoken': 6933, 'unwilling': 7846, 'worthy': 8269, '219': 120, 'golf': 3340, 'janky': 4067, 'featured': 2917, 'holegroup': 3604, 'mislabeled': 4665, 'th': 7335, 'hdcp': 3508, 'laggs': 4181, 'uuuugggh': 7923, 'descriptionsof': 2143, 'yup': 8334, 'continuity': 1807, 'financially': 2981, 'offensive': 5032, 'weak': 8117, 'isp': 4028, 'dead': 2037, 'dump': 2446, 'espn': 2677, 'supplied': 7167, 'mwii': 4797, 'legacy': 4255, 'verizon': 7970, 'grave': 3381, 'dp': 2400, 'gives7': 3303, 'lame': 4187, 'loadsand': 4353, 'loads45': 4352, 'cacheexc': 1304, 'waisting': 8057, 'payin': 5297, 'unuseable': 7834, 'deserted': 2145, 'moto': 4742, 'investment': 4001, 'olympics': 5062, 'berlin': 1037, 'usa': 7889, 'athlete': 825, '82': 312, '69': 286, 'specify': 6909, 'theyd': 7362, 'wake': 8064, 'neighbourhood': 4858, 'bleeding': 1096, 'eardrum': 2468, 'fcc': 2911, 'loudness': 4415, 'mitigation': 4677, 'calm': 1324, 'louder': 4413, 'spinning': 6925, 'adsbut': 472, 'king': 4147, 'updateruin': 7857, 'enormous': 2621, 'bundled': 1264, 'sat': 6412, 'teen': 7289, 'dude': 2440, 'ed': 2501, 'medication': 4561, 'poise': 5502, 'pad': 5227, 'body': 1132, 'fish': 3010, 'woman': 8231, 'fixchange': 3016, 'plugged': 5483, 'occasionally': 5013, 'chromecasting': 1509, 'unplug': 7793, 'pride': 5637, 'fading': 2861, 'wld': 8227, 'range': 5826, 'scifi': 6461, 'sickening': 6683, '810': 310, 'restricts': 6223, 'upgrading': 7866, 'hispanic': 3590, 'spanishlanguage': 6889, 'addicted': 442, 'loan': 4354, 'huluno': 3665, 'costing': 1875, 'fly': 3060, 'cbs': 1397, 'bigscreen': 1058, 'watchable': 8105, 'unsupported': 7826, 'mirroring': 4659, 'widescreen': 8192, 'muting': 4795, 'updatethe': 7859, 'lucky': 4432, 'ps5': 5737, 'hero': 3550, 'academia': 370, 'assassination': 802, 'classroom': 1540, 'entity': 2639, 'flaxy': 3034, 'martin': 4514, 'extending': 2823, 'dvr': 2460, 'eastern': 2483, 'united': 7760, 'besides': 1041, 'tolerate': 7476, 'lick': 4279, 'wan': 8073, 'steven': 7017, 'universe': 7762, 'cliffhanger': 1566, 'appsservices': 745, 'resign': 6182, 'wknd': 8226, 'uninstallreinstalled': 7753, 'judge': 4089, 'impractical': 3766, 'binge': 1067, 'conclusion': 1729, 'dealt': 2042, 'sharmine': 6618, '95': 326, 'downloadable': 2389, 'irrating': 4018, 'standing': 6977, 'aggravated': 519, 'huluis': 3664, 'rejoined': 6035, 'alexa': 557, 'tvit': 7631, 'pictureeventually': 5405, 'huluthe': 3667, 'picturekept': 5407, 'bundlethought': 1265, 'plusthat': 5487, 'stinking': 7026, 'itto': 4054, 'againnot': 512, '36': 191, 'thathell': 7345, 'waist': 8056, 'litteraly': 4334, 'arnt': 764, 'nextfix': 4889, 'lmao': 4345, 'goodbye': 3346, 'seasonssame': 6499, 'concoct': 1730, 'miracle': 4658, 'itis': 4049, 'horible': 3625, 'rick': 6287, 'morty': 4734, 'sister': 6728, '406': 215, 'thatll': 7346, 'starz': 6991, 'addon': 451, 'framerate': 3140, 'scene': 6451, 'tvmovie': 7632, 'noads': 4911, '14mo': 63, '60mo': 278, 'officially': 5042, 'disconnection': 2279, 'poured': 5553, 'renewal': 6100, 'flood': 3051, 'criminal': 1934, 'unbelievable': 7680, 'rip': 6307, 'dnt': 2340, 'nhl': 4894, 'playoff': 5461, 'huluespn': 3663, 'reconnects': 5932, 'chkice': 1488, 'stereo': 7015, 'dolby': 2359, '10seconds': 33, 'backtrack': 932, 'nvidia': 4993, '6th': 291, 'ripped': 6309, 'jumpy': 4099, 'printed': 5643, 'descriptor': 2144, 'soso': 6875, 'chooses': 1493, 'drastic': 2410, 'nine': 4906, 'classic': 1536, 'outer': 5175, 'hailed': 3449, 'platformtbh': 5450, 'aude': 851, 'bu5': 1228, 'rhwy': 6285, 'shameless': 6611, 'shtit': 6674, 'mo': 4689, 'magically': 4448, 'steady': 7004, 'generous': 3266, 'contrived': 1815, 'predictable': 5577, 'amongst': 610, 'performed': 5335, 'gun': 3435, 'fight': 2953, 'laughable': 4216, 'son': 6859, 'eight': 2528, 'woke': 8230, 'subjected': 7103, 'queer': 5779, 'uninstaller': 7749, 'platformneed': 5449, '2000': 98, 'workhulu': 8247, 'timesnoone': 7436, 'wanttheyll': 8081, 'warn': 8085, 'rewatch': 6278, 'agitated': 524, 'philos': 5381, 'louding': 4414, 'liv': 4336, 'carry': 1368, 'ballys': 953, 'fubo': 3194, 'directv': 2250, 'priced': 5633, 'filtered': 2972, 'swipeing': 7210, 'accomplished': 390, 'culprit': 1963, '500k': 247, 'gold': 3338, 'imbecile': 3733, 'matched': 4528, 'depression': 2134, 'distance': 2319, 'unit': 7759, 'shadowbanned': 6604, 'tinder': 7444, 'platinum': 5452, 'constructed': 1781, 'restrictive': 6222, 'erase': 2659, 'unmatch': 7774, 'dating': 2024, 'taunted': 7264, 'health': 3514, 'seeking': 6518, 'validation': 7937, 'crumb': 1955, 'matchable': 4527, 'flowing': 3055, 'untrustworthy': 7832, 'launched': 4219, 'contactlogin': 1793, 'responsibleaccountable': 6203, 'manner': 4494, 'realizing': 5867, 'severity': 6597, 'responsibly': 6204, 'tempt': 7304, 'rotation': 6343, 'embarrassment': 2556, 'russian': 6375, 'roulette': 6346, 'overhaul': 5191, 'throttle': 7395, 'pestering': 5373, 'guessing': 3423, 'unistalled': 7758, 'carrier': 1367, 'dopamine': 2373, 'wave': 8110, 'hungry': 3676, 'sift': 6691, 'playground': 5458, 'ripoff': 6308, 'setupfree': 6590, 'meter': 4605, 'recharge': 5905, 'heart': 3519, 'ran': 5821, 'living': 4339, 'adjusted': 462, 'bright': 1207, 'flame': 3024, 'superduper': 7157, 'fancy': 2883, 'vip': 8020, 'extortionpriced': 2829, 'remotely': 6087, 'glitched': 3313, 'boilerplate': 1136, 'mile': 4627, 'loggedin': 4371, 'memorysystem': 4579, 'dunno': 2450, 'honest': 3612, 'terminated': 7313, 'protect': 5719, 'stalling': 6973, 'costantly': 1874, 'removal': 6088, 'budget': 1235, 'raceethnicity': 5802, 'boost': 1157, 'crook': 1946, 'handful': 3458, 'radius': 5806, 'nonsene': 4932, 'expanding': 2771, 'tbe': 7267, 'newer': 4881, 'survive': 7190, 'tactic': 7234, 'thr': 7388, 'slap': 6754, 'gender': 3257, 'nonsmoker': 4935, 'monetization': 4712, 'hind': 3580, 'ya': 8301, 'lobby': 4355, 'interestef': 3948, 'intro': 3978, 'odds': 5029, 'crowd': 1953, 'boy': 1182, 'depends': 2132, 'physical': 5394, 'encourage': 2585, 'bio': 1071, 'reflex': 5992, 'female': 2938, 'reputation': 6147, 'skewed': 6744, 'ao': 678, 'cake': 1308, 'greatest': 3386, 'peep': 5312, 'ego': 2526, 'confidence': 1738, 'goodluck': 3347, 'caching': 1307, 'wasteful': 8100, 'verifier': 7967, 'meat': 4556, 'purposely': 5758, 'marginalizes': 4503, 'vibe': 7988, 'quiz': 5796, 'multiplechoice': 4775, 'okcupid': 5053, 'global': 3317, 'vetting': 7986, 'inflated': 3852, 'lure': 4437, 'described': 2139, 'stack': 6960, 'devised': 2194, 'retain': 6236, 'faulty': 2901, 'variety': 7946, 'lighting': 4287, 'recognise': 5918, 'reinstaled': 6028, 'clicknext': 1564, '50100': 248, 'decrease': 2066, 'handout': 3461, 'apt': 751, 'superficial': 7158, 'calculates': 1310, 'tender': 7308, 'calculation': 1312, 'hooker': 3617, 'album': 553, 'com': 1633, 'unaffordable': 7676, 'immense': 3739, 'superlikespros': 7162, 'cent': 1409, 'activating': 419, 'success': 7127, 'encounter': 2583, 'hack': 3443, 'aight': 534, 'thers': 7360, 'layer': 4225, 'coz': 1906, 'somany': 6843, 'fin': 2977, 'reopened': 6108, 'bumble': 1257, 'hinge': 3584, 'criterion': 1941, 'uncertain': 7684, 'male': 4472, 'peeve': 5314, 'accuracy': 403, 'reactivates': 5846, 'dodged': 2350, 'bullet': 1254, 'men': 4580, 'matchinduced': 4529, 'strongarm': 7073, 'roughly': 6345, 'selfish': 6538, 'botton': 1176, 'unclickable': 7687, 'hookup': 3618, 'unicorn': 7740, 'unmatched': 7776, 'abroad': 354, 'posed': 5531, '40km': 217, '70km': 294, 'majorityof': 4462, 'soliciting': 6835, 'wirh': 8211, 'prioritizes': 5648, 'messagesemails': 4597, 'likelyhood': 4294, 'reciprocation': 5913, 'articulate': 782, 'elo': 2543, 'renewing': 6101, 'expires': 2794, 'sceptical': 6452, 'caved': 1396, 'intouch': 3974, 'blood': 1115, 'born': 1165, 'upsell': 7876, 'proving': 5733, 'incident': 3788, 'gladly': 3306, 'promo': 5701, 'reverify': 6260, 'malicious': 4475, 'pricesim': 5634, 'cheapest': 1461, 'economic': 2496, 'unverified': 7840, 'tk': 7454, 'deceitful': 2053, 'spectacularly': 6912, 'capitalizes': 1348, 'loneliness': 4384, 'inconsistent': 3807, 'exploitive': 2804, 'sliver': 6772, 'blonde': 1114, 'bikini': 1059, 'plea': 5469, 'repair': 6114, 'afterwords': 510, 'rejected': 6032, 'recycled': 5952, 'attracts': 848, 'trans': 7530, 'promoter': 5704, 'payed': 5296, 'punishes': 5749, 'basterd': 983, 'steem': 7009, 'halfprice': 3453, 'thick': 7366, '4099': 216, 'dispute': 2310, 'enabledisable': 2578, 'paided': 5231, 'dared': 2009, 'fku': 3019, 'shotty': 6654, 'cross': 1950, 'compatibility': 1680, 'partialy': 5261, 'segregated': 6527, 'exposure': 2816, 'correlate': 1866, 'upgrad': 7863, 'toggling': 7470, 'reappearing': 5872, 'discarded': 2274, 'validate': 7935, 'east': 2481, 'badgering': 938, 'effectively': 2518, 'pound': 5552, 'smack': 6787, 'profiteering': 5687, 'sky': 6753, 'popped': 5516, 'rewinded': 6282, 'shoe': 6639, 'meh': 4570, 'tend': 7307, 'walled': 8070, 'notifies': 4970, 'firearm': 3002, 'ppe': 5559, 'app2': 689, 'experiencea': 2780, 'superlikes': 7161, 'listmany': 4327, 'explination': 2802, 'fashion': 2891, 'performing': 5336, 'ather': 824, 'overview': 5212, 'cleareasy': 1550, 'describing': 2140, 'downloadhaving': 2393, 'hyperlink': 3692, 'farone': 2889, 'postsarticles': 5548, 'haveif': 3502, 'beautifully': 998, 'personalized': 5361, 'encouraging': 2587, 'realising': 5861, 'swiftly': 7207, '41821': 221, 'nickname': 4899, 'greatly': 3390, 'instrumental': 3923, 'hiatus': 3556, 'profession': 5680, 'discouraged': 2283, 'rebuild': 5891, 'importantly': 3761, 'bos': 1166, 'smoother': 6806, 'displaying': 2307, 'instantaneous': 3913, 'dream': 2416, 'exchanging': 2740, 'videoimage': 7997, 'seprating': 6563, 'reaction': 5844, 'terrific': 7319, 'narrow': 4816, 'greyed': 3396, 'groupadd': 3409, 'playpause': 5462, 'epitome': 2651, 'dynamic': 2463, 'accomodate': 388, 'taste': 7261, 'sleek': 6756, 'breeze': 1203, 'wealth': 8119, 'educational': 2514, 'inspired': 3899, 'personalize': 5360, 'separately': 6561, 'powerhouse': 5558, 'likeminded': 4295, 'exciting': 2741, 'insightful': 3891, 'onestop': 5075, 'growth': 3413, 'assessment': 804, 'modelling': 4695, 'audit': 854, 'assurance': 818, 'senstive': 6555, 'unuseful': 7837, 'insist': 3893, 'seamless': 6491, 'organisationsgood': 5144, 'inspiring': 3900, 'peoplestoriesso': 5325, 'timewhile': 7440, 'recentcurrent': 5901, 'begot': 1017, 'teacher': 7274, 'tactical': 7235, 'stratagies': 7052, 'mike': 4625, 'mi': 4610, 'revived': 6272, 'unauthorized': 7678, 'comply': 1710, 'justification': 4106, 'presently': 5608, 'positive': 5533, 'revolution': 6274, 'remark': 6072, 'admin': 465, 'joining': 4079, 'inconsistency': 3806, 'afterwards': 509, 'reloaded': 6061, 'approached': 731, 'qualified': 5774, 'steeling': 7008, 'navigable': 4826, 'relatively': 6043, 'uncluttered': 7688, 'organising': 5149, 'finder': 2983, 'broadcast': 1215, 'appreciated': 726, 'blurring': 1126, 'continued': 1805, 'lackadaisicalat': 4175, 'disposing': 2309, 'appsite': 743, 'benefitted': 1034, 'prnaks': 5654, 'outcome': 5172, 'enjoying': 2618, 'withdrawing': 8219, 'disruptive': 2312, 'adapt': 432, '55': 260, 'polishing': 5505, 'pertaining': 5368, 'salary': 6401, 'affected': 499, 'excess': 2736, 'developed': 2185, 'virtual': 8021, 'nonpaid': 4927, 'coprate': 1851, 'eschatology': 2674, 'attends': 842, 'mambo': 4478, 'jumbo': 4094, 'wished': 8215, 'musthave': 4792, 'jos': 4085, 'exceedingly': 2727, 'impressed': 3768, 'professionalism': 5682, 'pertinent': 5369, 'attainment': 835, 'realistic': 5862, 'concise': 1727, 'expands': 2772, 'baffling': 943, 'regex': 6010, 'inadvertently': 3780, 'ongoing': 5077, 'hissy': 3591, 'flicker': 3039, 'laid': 4184, 'refactoring': 5981, 'viewport': 8013, 'exceeds': 2728, 'pinchtozoom': 5420, 'immensely': 3740, 'stab': 6957, 'rich': 6286, 'gaping': 3239, 'hole': 3603, 'merge': 4588, 'reviewer': 6267, 'slide': 6763, 'independent': 3822, 'fifth': 2952, 'quoted': 5798, 'quirk': 5792, 'edits': 2513, 'metadata': 4604, 'afterthought': 508, 'improving': 3775, 'zoomtext': 8344, 'controllable': 1817, 'findregex': 2986, 'wysiwyg': 8292, 'markdown': 4506, 'ngl': 4893, 'sponsor': 6934, 'codespaces': 1598, 'roadmap': 6318, 'satisfied': 6417, 'mesmerizing': 4593, 'awareness': 910, 'sheathed': 6621, 'blade': 1088, 'minimalistic': 4647, 'kanban': 4111, 'hobby': 3598, 'copilot': 1850, 'tremendously': 7566, 'pleeeeeaase': 5477, 'godawful': 3329, 'modify': 4704, 'unfocus': 7724, 'approval': 733, 'entrepreneur': 2641, 'begginers': 1013, 'tec': 7278, 'iedevaloperscoding': 3716, 'marvelous': 4516, 'verymuch': 7984, 'anyhow': 667, 'nicer': 4897, 'overhead': 5192, 'gain': 3227, '31423': 179, 'smootherusage': 6807, 'githubut': 3299, 'desktip': 2160, 'interactive': 3943, 'par': 5246, 'optimise': 5117, 'adopt': 469, 'grateful': 3379, 'halfbaked': 3452, 'collapse': 1610, 'thousandline': 7387, 'packagelockjson': 5225, 'collaboration': 1607, 'tds': 7271, 'unfeasible': 7722, 'goodtohave': 3351, 'collaborate': 1605, 'environment': 2644, 'platfrom': 5451, 'programmer': 5690, 'learner': 4243, 'peoblem': 5321, 'alwas': 598, 'forgwt': 3109, 'accually': 402, 'githubdev': 3297, 'latter': 4215, 'shedding': 6622, 'zimbabwe': 8336, 'projected': 5696, 'untill': 7831, 'moniter': 4719, 'neccessary': 4838, 'arm': 763, 'header': 3512, 'workreviews': 8255, 'productivity': 5678, 'nameimage': 4810, 'replacement': 6125, 'heaven': 3524, 'appkeep': 709, 'ource': 5170, 'a13': 335, 'interfacing': 3952, 'engineering': 2607, 'intrinsic': 3977, 'openly': 5097, 'bothering': 1171, 'economics': 2498, 'teach': 7273, 'butter': 1278, 'parity': 5254, 'suppose': 7174, 'mobility': 4691, 'collaborator': 1609, 'quic': 5785, 'adressing': 471, 'productive': 5677, 'freak': 3146, 'recreate': 5942, 'barebones': 969, 'sidebar': 6687, 'september': 6564, 'ciactions': 1518, 'flawless': 3032, 'minimised': 4648, 'reducing': 5973, 'bench': 1031, 'outdoors': 5174, 'scanned': 6445, 'adobe': 468, 'msft': 4758, 'specialized': 6901, 'trello': 7564, 'resurrection': 6234, 'fasthub': 2898, 'wrapped': 8276, 'fullfeatured': 3200, 'workflow': 8246, 'encode': 2582, '404': 214, 'tall': 7247, 'awkward': 916, 'distinguishable': 2322, 'javascript': 4071, 'consoleloghello': 1775, 'gray': 3382, 'crucial': 1954, 'createmanage': 1921, 'winner': 8207, 'pleasant': 5470, 'dimension': 2237, 'suit': 7145, 'truncated': 7606, 'triaging': 7571, 'indicator': 3831, 'iffy': 3717, 'ci': 1517, 'buttonsactions': 1282, 'assistant': 813, 'feedbackhopefully': 2929, 'multiline': 4770, 'requestsmaybe': 6153, 'referencing': 5984, 'frontend': 3182, 'backend': 925, 'pdfs': 5305, 'configuration': 1740, 'externally': 2828, 'upside': 7878, 'shop': 6643, 'svetlana': 7197, 'accepting': 376, 'heavier': 3525, 'lightweight': 4290, 'exploringonly': 2810, 'vcs': 7954, 'coder': 1597, 'minimalist': 4646, 'clutter': 1588, 'nevertheless': 4878, 'brilliant': 1210, 'potentially': 5551, 'jupyter': 4105, 'notebook': 4951, '10mb': 31, 'greatl': 3389, 'wikis': 8200, 'textwrapping': 7333, 'controlling': 1820, 'slight': 6766, 'greater': 3385, 'leader': 4234, 'fairly': 2870, 'onthego': 5085, 'python': 5768, 'bang': 958, 'viewpager': 8012, 'starred': 6983, 'aesthetic': 494, 'participated': 5262, 'heavylifting': 3528, 'imho': 3736, 'discovering': 2287, 'master': 4524, 'directory': 2248, 'containing': 1798, 'multiwindowish': 4781, 'effective': 2517, 'offon': 5044, 'mindblowing': 4637, 'automation': 882, 'rerendering': 6161, 'exception': 2734, 'hopeless': 3623, 'endeavor': 2590, 'standout': 6978, 'ensures': 2625, 'gamechanger': 3235, 'seamle': 6490, 'differs': 2226, 'superb': 7156, 'avid': 901, 'tends': 7309, 'whose': 8187, 'religiously': 6058, 'pinterest': 5426, 'etsy': 2691, 'cookiestemp': 1838, 'organized': 5152, 'justify': 4108, 'frickin': 3166, 'buisness': 1249, 'adequate': 458, 'parameter': 5248, 'guidence': 3432, 'parental': 5251, 'webdesigns': 8127, 'it5star': 4038, 'regional': 6012, 'india': 3824, 'speaks': 6897, 'tube': 7617, 'cater': 1388, 'inclusivity': 3798, 'tomorrow': 7479, 'intergrates': 3956, 'seamlessly': 6492, 'pleasently': 5474, 'weeki': 8140, 'scanning': 6447, 'clearered': 1553, 'secured': 6510, 'exceptional': 2735, 'lightningfast': 4288, 'extensive': 2825, 'undoubtedly': 7708, 'adventure': 482, 'bard': 967, 'chatgpt': 1453, 'blooger': 1117, 'satisfy': 6418, 'specially': 6902, 'easyly': 2487, 'autofill': 874, 'errand': 2662, 'friendlky': 3170, 'forwerd': 3126, 'car': 1354, 'travelled': 7554, 'chandigarh': 1428, 'enquire': 2623, 'grade': 3370, 'execution': 2751, 'easytouse': 2489, 'tra': 7519, 'firsttime': 3009, 'welcomemmt': 8145, 'rubish': 6365, 'serving': 6581, 'bless': 1098, 'trustable': 7608, 'relaed': 6037, 'chacke': 1421, 'websiteflight': 8132, 'moneyused': 4717, 'repaidat': 6113, 'timenot': 7431, 'utilise': 7917, 'fullybut': 3204, 'amountand': 613, 'cibil': 1519, '28hq': 146, 'partially': 5260, 'cancelation': 1332, '3500rs': 189, '2hrs': 156, 'nonrefundable': 4929, 'bookingthe': 1151, 'bookingall': 1147, 'userfriendliness': 7904, 'ensuring': 2626, 'escalation': 2671, 'istanbul': 4037, 'quicky': 5791, 'thankful': 7338, 'heartfelt': 3521, 'appreciation': 728, 'differ': 2217, 'comfort': 1642, 'unmatchable': 7775, '10k': 30, 'escalated': 2670, 'indigo': 3834, 'exted': 2820, 'relived': 6059, 'mumbai': 4782, 'partial': 5259, 'promising': 5700, 'beg': 1010, 'illness': 3726, 'thay': 7349, 'exploit': 2803, 'regulation': 6023, 'recomanded': 5923, 'gr8': 3365, 'bkgs': 1085, 'kerala': 4121, 'njoyed': 4910, 'wether': 8158, 'wife': 8197, 'favrt': 2909, 'periar': 5340, 'kanyakumari': 4113, 'sunrise': 7154, 'worldi': 8257, 'thisi': 7375, 'muchmake': 4767, 'maintains': 4458, 'efficiency': 2520, 'accuracyi': 404, 'familiesfriends': 2879, 'elderly': 2532, 'peaceful': 5308, 'dustbin': 2458, 'washroom': 8093, 'leaking': 4238, 'washbasin': 8091, 'bulb': 1250, 'pillow': 5416, 'hurdle': 3679, 'requiments': 6154, 'commitment': 1655, 'excellence': 2730, 'achieve': 410, 'approx': 737, 'largely': 4199, 'transport': 7544, 'apphad': 707, 'agoda': 526, 'latelybut': 4210, 'uptill': 7880, 'tension': 7310, 'relaxing': 6046, 'appreciating': 727, 'busit': 1271, 'amusing': 617, 'sincelast': 6720, '18': 76, 'chalking': 1423, 'accommodation': 387, 'summer': 7151, 'maldives': 4471, 'corp': 1860, 'rajastan': 5817, 'servicewhenneeded': 6579, 'peice': 5315, 'margin': 4502, 'robbing': 6321, 'spouse': 6947, 'kashmir': 4115, 'spelling': 6918, 'flowless': 3056, 'tyep': 7650, 'persistpls': 5352, 'userthanks': 7909, 'prefectly': 5580, 'enjot': 2614, 'competitive': 1690, 'sepnd': 6562, 'accomodation': 389, 'beside': 1040, 'travelltrip': 7557, 'perfection': 5330, 'dedication': 2069, 'dependent': 2130, 'weekend': 8139, 'getaway': 3276, 'realtime': 5870, 'findingbooking': 2985, 'bookingsetc': 1149, 'comparatively': 1673, 'economical': 2497, 'receptionist': 5904, 'preface': 5579, 'techinal': 7281, 'glitchesafter': 3314, 'frustratingalso': 3191, 'uninstallingbecause': 7751, 'bollywood': 1139, 'celebrity': 1404, 'frod': 3177, 'gent': 3269, 'tem': 7296, '8years': 321, 'whatsoeveri': 8165, 'flightshotels': 3045, 'tripseven': 7588, 'banglore': 961, 'fascinating': 2890, 'experienceit': 2784, 'sender': 6543, 'reciever': 5908, 'uneccessary': 7711, 'reusing': 6254, 'communicative': 1665, 'icloudbut': 3699, 'forcestops': 3091, 'happier': 3472, 'dancing': 2005, 'homework': 3611, 'studying': 7087, 'indefinitely': 3820, 'band': 955, 'siri': 6727, 'bias': 1051, 'compromise': 1715, 'forcefully': 3089, 'buzzingbeeping': 1290, 'rewatchedit': 6279, 'trendfriendly': 7568, 'epic': 2648, 'touchscreen': 7509, 'acer': 408, 'phonetablet': 5388, 'necklace': 4842, 'clothing': 1580, '2d': 152, 'outfit': 5176, 'cute': 1991, 'postcard': 5542, 'snapchatters': 6813, 'chating': 1454, 'shall': 6609, 'obliged': 5002, 'pricey': 5635, 'generator': 3264, 'combine': 1636, 'veru': 7983, 'applicationbut': 713, 'photographsi': 5390, 'emphasis': 2565, 'lit': 4330, 'genius': 3267, 'opion': 5110, 'passed': 5270, 'fraction': 3136, 'baby': 918, 'filtter': 2976, 'recomend': 5924, 'snachat': 6809, 'turnoff': 7626, 'entertaining': 2633, 'primarily': 5638, 'stress': 7064, 'witnessed': 8225, 'adaptive': 433, 'thee': 7350, 'hqve': 3653, 'capability': 1343, 'outnumber': 5180, '83': 313, '17': 74, 'overdue': 5190, 'eats': 2493, 'darn': 2012, 'subscribepay': 7112, 'ephemeral': 2647, 'newcomer': 4880, 'fierce': 2951, 'declining': 2065, 'popularity': 5519, 'creative': 1925, 'engaging': 2604, 'february': 2924, 'badsnapchat': 941, 'concidering': 1726, 'avaible': 893, '2ndly': 160, 'startthnx': 6989, 'nonskippable': 4934, 'hilarious': 3577, 'forte': 3120, 'multiplayer': 4772, 'minigames': 4644, 'instagramtiktok': 3906, 'wit': 8218, 'installedbut': 3909, 'chit': 1487, 'indie': 3832, 'reception': 5903, 'empowering': 2570, 'xtwitter': 8299, 'collaboratively': 1608, 'imagevideo': 3730, 'newspaper': 4887, 'hopeful': 3621, 'thanx': 7343, 'diverse': 2331, 'debate': 2044, 'meme': 4576, 'cooking': 1839, 'pet': 5374, 'vine': 8016, 'reasonably': 5878, 'efficiently': 2522, 'increasingly': 3816, 'patchy': 5283, 'campaign': 1327, 'traditional': 7524, 'toward': 7514, 'expression': 2819, 'nest': 4865, 'naturally': 4823, 'censorship': 1408, 'trolling': 7594, 'evolving': 2718, 'publicly': 5741, 'advancement': 479, 'persuasion': 5367, 'nonbias': 4918, 'alongside': 582, 'counter': 1887, 'preelon': 5578, 'congratulation': 1756, 'elonmusk': 2545, 'instagramlike': 3905, 'manipulation': 4493, 'operated': 5102, 'profit': 5685, 'unblocked': 7682, 'sexual': 6599, 'twithead': 7640, 'cryptocurrencies': 1959, 'fraudulentscam': 3145, 'stopstar': 7037, 'yay': 8304, 'arising': 761, 'artocious': 786, 'truthful': 7612, 'pitching': 5431, 'riot': 6306, 'gorgeous': 3354, 'unsuspended': 7829, '30days': 171, 'suspension': 7194, 'remarkable': 6073, 'jazz': 4072, 'buckanator': 1232, 'closely': 1574, 'indepth': 3823, 'mgmt': 4609, 'workload': 8252, 'detailing': 2175, 'badoverbiased': 940, 'inevitably': 3846, 'introduces': 3981, 'bumpy': 1260, 'responsiveness': 6206, 'massively': 4523, 'playstop': 5466, 'resbow': 6163, 'chosed': 1499, 'silo': 6705, 'autogenerated': 875, 'shose': 6652, 'unpredictable': 7795, 'personalization': 5359, 'havewf': 3504, 'promotes': 5705, 'poststweets': 5549, 'diary': 2206, 'hearing': 3518, 'contribute': 1813, 'modification': 4703, 'aquaintances': 752, 'fruitful': 3185, 'basisi': 981, 'forwarding': 3124, 'minded': 4638, 'bullsht': 1256, 'fox': 3135, 'abc': 345, 'freevee': 3153, 'highlighting': 3568, 'sporting': 6941, 'recommends': 5928, 'toss': 7500, 'minimizing': 4652, 'tag': 7238, 'lifetime': 4283, 'bose': 1167, 'solo': 6837, 'soundbar': 6880, 'nit': 4908, 'ip': 4011, 'nvm': 4994, 'activation': 420, 'qr': 5772, 'nostalgic': 4946, 'sitcom': 6730, 'lived': 4338, 'discourages': 2284, 'maximize': 4540, 'topright': 7494, 'greati': 3388, 'showsespically': 6669, 'futurama': 3219, 'anywho': 677, 'yri': 8331, 'swapping': 7201, 'hl': 3596, '999': 332, '1299': 56, 'income': 3800, 'showit': 6666, 'prescribed': 5603, 'debility': 2046, 'welldone': 8151, 'sincerely': 6721, 'charles': 1446, 'leon': 4264, 'abouty': 353, 'neighbor': 4857, 'apartment': 682, 'cranked': 1911, 'affordable': 501, 'premiere': 5592, 'dicontinued': 2210, 'animaniacs': 640, 'singular': 6723, 'toon': 7489, 'tvso': 7633, 'daycouldnt': 2029, 'troubleshoot': 7596, 'againso': 513, 'sue': 7135, 'karen': 4114, 'damage': 2002, 'stunningly': 7092, 'expertly': 2792, 'crafted': 1909, 'respective': 6194, 'friday': 3167, 'seriesi': 6570, 'yearly': 8308, 'delivering': 2112, 'preying': 5631, 'desparate': 2164, 'soul': 6877, 'disparity': 2303, 'judging': 4091, 'patient': 5287, 'carried': 1366, 'bulk': 1251, 'nonbinary': 4919, 'masc': 4517, 'femme': 2939, 'stubbly': 7081, 'hygiene': 3690, 'exercise': 2753, 'grooming': 3404, 'progressively': 5694, 'microtransactions': 4615, 'fucntionality': 3195, 'impair': 3745, 'incapable': 3785, 'booting': 1160, 'livingworkenviroment': 4341, 'streamlined': 7061, 'redownload': 5968, 'delight': 2108, 'superlike': 7160, 'gddamn': 3252, 'monetary': 4711, 'goldmine': 3339, 'theft': 7351, '1015': 23, 'ferry': 2940, 'scammy': 6442, 'canada': 1329, 'mexico': 4607, 'san': 6410, 'diego': 2215, 'colombia': 1619, 'casual': 1378, 'germany': 3273, '930pm': 325, 'crypto': 1958, 'experiment': 2790, 'throughout': 7397, 'shake': 6607, 'vastly': 7951, 'featurelight': 2918, '2499': 134, '3999': 197, 'sex': 6598, 'personality': 5358, 'introvertextrovert': 3984, 'withhold': 8221, 'fuel': 3197, 'debit': 2047, 'mtn': 4763, 'ghana': 3280, '4stars': 240, 'controller': 1819, 'dust': 2457, 'neon': 4861, 'differnent': 2225, 'underrated': 7696, 'likeonce': 4297, 'crevice': 1932, 'wed': 8134, 'swap': 7199, 'listscontinue': 4328, 'detect': 2177, 'solves': 6841, 'explicable': 2800, 'detects': 2178, 'prob': 5658, '6092023': 277, 'billion': 1063, 'mate': 4531, 'commute': 1667, 'kitchen': 4149, 'prop': 5713, 'trailer': 7526, 'timeout': 7432, 'fyi': 3221, 'readwrite': 5856, 'fivestar': 3013, 'playstation': 5464, 'gotos': 3357, 'bingewatching': 1068, 'stranger': 7051, 'serial': 6567, 'bcuz': 989, 'pleased': 5473, 'linguistic': 4309, 'enthusiast': 2635, 'proficient': 5683, 'hindi': 3582, 'barrier': 972, 'boyfriend': 1183, 'yea': 8305, 'parent': 5250, 'conception': 1721, 'dreaming': 2418, 'languageaudio': 4195, 'interchangeability': 3944, 'screening': 6472, 'multi': 4768, 'extravaganza': 2836, 'bingeworthy': 1069, 'streamer': 7058, 'paradise': 5247, 'nailbiting': 4807, 'thriller': 7393, 'laughoutloud': 4217, 'comedy': 1641, 'obsession': 5007, 'netflixaddict': 4869, 'streaminggoals': 7060, 'eat': 2490, 'plot': 5480, 'valuing': 7940, 'blaming': 1090, 'netflixif': 4870, 'extenti': 2826, 'licencetold': 4277, 'licence': 4276, 'smarttv': 6798, 'philippine': 5380, 'rainy': 5813, 'crisis': 1939, 'forested': 3101, 'foothill': 3083, 'mt': 4761, 'rainier': 5811, 'dependable': 2128, 'appi': 708, 'chill': 1484, 'chinese': 1485, 'french': 3159, 'blinding': 1102, 'spooky': 6939, 'transportation': 7545, 'ipad': 4012, 'folding': 3068, '6923': 287, 'mapping': 4499, 'stray': 7054, 'beaten': 994, 'canadamexico': 1330, 'spain': 6884, 'france': 3141, 'wandered': 8074, 'forest': 3100, 'preload': 5591, 'pavement': 5292, 'mother': 4738, 'gal': 3229, 'landscaping': 4192, 'instantly': 3915, 'fastest': 2896, 'bicycle': 1053, 'detour': 2182, 'precise': 5573, 'estimated': 2682, 'whichever': 8173, 'delivery': 2114, 'unreasonably': 7802, 'learned': 4242, 'defaulted': 2079, 'compass': 1678, 'verticality': 7980, 'angle': 637, 'keying': 4126, 'sorting': 6874, 'spec': 6898, 'epa': 2646, 'sci': 6458, 'securing': 6511, 'partnership': 5267, 'reroute': 6162, 'recognized': 5921, 'seasonal': 6498, 'fashioned': 2893, 'eco': 2495, 'gas': 3241, 'routing': 6354, 'radar': 5804, 'overlaid': 5195, 'slowdown': 6777, 'routedetour': 6351, 'approximate': 738, 'depart': 2124, 'tme': 7458, 'inputting': 3881, 'instigate': 3918, 'rewarded': 6277, 'advancing': 480, 'stood': 7032, 'rtd': 6362, 'wabt': 8053, 'trough': 7600, 'alla': 566, 'hazard': 3505, 'radio': 5805, 'appnot': 721, 'old2016': 5055, 'dodge': 2349, 'dart': 2013, 'iv': 4055, 'covid': 1904, 'pandemic': 5241, 'factored': 2857, 'boil': 1134, 'avoiding': 904, 'highway': 3573, 'carpool': 1365, 'lane': 4193, 'parkway': 5256, 'blip': 1104, 'symbol': 7217, 'quicken': 5787, 'street': 7063, 'freeway': 3154, 'smiley': 6802, 'closure': 1578, 'cop': 1847, 'sitings': 6735, 'dirt': 2251, 'througb': 7396, 'veer': 7955, 'googlemaps': 3353, 'backwater': 936, 'cachedate': 1303, 'forum': 3122, 'aware': 909, 'drivingfocused': 2425, 'shortest': 6650, 'thatd': 7344, 'marker': 4508, 'clustering': 1587, 'readability': 5848, 'poi': 5498, 'alienating': 563, 'premise': 5593, 'jammed': 4064, 'wash': 8090, 'immersive': 3741, 'vehicle': 7958, 'spawned': 6892, 'jam': 4063, 'lovely': 4419, 'appealing': 698, 'incorporate': 3810, 'waze': 8115, 'unnecessarily': 7779, 'coordinate': 1844, 'reallocated': 5868, 'colour': 1629, 'cycling': 1997, 'interpret': 3966, 'anticipates': 659, 'intersection': 3970, 'mpg': 4756, 'petroldiesel': 5375, 'marvel': 4515, 'unfamiliar': 7721, 'turnbyturn': 7623, 'spoton': 6946, 'satellite': 6413, 'surroundings': 7188, 'exploration': 2805, 'comprehensive': 1713, 'indispensable': 3835, 'traveler': 7552, 'overal': 5187, 'pedestrian': 5311, 'extremly': 2839, 'indicates': 3828, 'roundabout': 6348, 'calendar': 1315, 'inpressed': 3878, 'appointment': 723, 'simplest': 6711, 'assigned': 807, 'sidetop': 6688, 'colorcode': 1622, 'delimit': 2110, 'needlessly': 4850, 'exacerbate': 2720, 'shortcoming': 6647, 'calender': 1316, 'synced': 7219, 'eventremindertask': 2697, 'apostrophe': 687, 'cinema': 1520, 'generic': 3265, 'scheduled': 6454, 'replace': 6123, 'reinput': 6027, 'integrated': 3929, 'motel': 4737, 'tee': 7288, 'occupies': 5015, 'versatile': 7973, 'deffinetly': 2085, 'hint': 3585, 'customizing': 1988, 'spectrum': 6914, 'weekly': 8141, 'outlook': 5178, 'contained': 1797, 'serie': 6568, 'birthday': 1076, '7am7': 305, '77': 303, 'duplicated': 2455, '88': 315, 'qualifies': 5775, 'synchronises': 7222, 'forecast': 3095, 'paint': 5235, 'import': 3758, 'ical': 3696, 'refer': 5982, 'sensor': 6553, 'colored': 1625, 'palet': 5239, '3xs': 207, 'beverly': 1049, 'leblanc': 4250, 'alarm': 547, 'interval': 3971, 'habit': 3442, 'healthy': 3515, 'recurring': 5950, 'sunday': 7153, 'presets': 5610, 'preset': 5609, '8am': 316, '5pm': 269, 'categorising': 1384, 'importance': 3759, 'variation': 7944, '31': 178, 'pinching': 5419, 'sufficient': 7138, 'husband': 3684, 'afghan': 502, 'clander': 1531, 'milion': 4629, 'afghanistan': 503, 'includehide': 3793, 'easter': 2482, 'thanksgiving': 7341, 'autocreated': 873, 'checkboxes': 1468, 'customisable': 1979, '30min': 174, 'reminded': 6080, 'hisher': 3589, 'personalworkfamily': 5363, '365': 192, 'syncs': 7226, 'latina': 4214, 'translator': 7540, 'spanish': 6888, 'attachment': 833, 'meetingphone': 4567, 'numberaddressproof': 4985, 'cancellationwaiting': 1336, 'rescheduleetc': 6166, 'strike': 7069, 'datetime': 2023, 'noted': 4952, 'followup': 3076, 'optionto': 5129, 'thereor': 7359, 'autopopulate': 886, 'dated': 2022, 'uour': 7848, 'anniversary': 644, 'htc': 3655, 'conflict': 1747, 'colorcoded': 1623, 'paycheck': 5295, 'religious': 6057, 'upfront': 7862, 'concert': 1725, 'forgetful': 3104, 'representing': 6146, 'amazed': 600, 'greatful': 3387, 'wheel': 8167, 'oomf': 5088, 'impact': 3744, 'satisfaction': 6415, 'saturday': 6420, 'nongoogle': 4923, 'exchange': 2739, 'savor': 6426, 'celebrate': 1403, 'whiteout': 8177, 'conforming': 1750, 'express': 2817, 'individuality': 3837, 'addcreate': 438, 'citron': 1526, 'bdays': 990, 'avocado': 902, 'syncronization': 7225, 'saver': 6423, 'sticky': 7022, 'festival': 2941, 'expnaded': 2811, 'onward': 5087, 'hijri': 3574, '22nd': 123, 'actuality': 426, 'ethiopian': 2690, 'ethiopia': 2689, 'contains': 1799, 'converted': 1828, 'allwhy': 578, 'textual': 7332, 'toggled': 7469, 'verbally': 7963, 'dictation': 2211, 'memo': 4577, 'wise': 8212, 'agofurther': 527, 'wondering': 8235, 'nonrelevant': 4930, 'province': 5732, 'nonstatutory': 4936, 'cheer': 1478, 'differentiating': 2221, 'wisteria': 8217, 'cobalt': 1593, 'pistachio': 5429, 'amethyst': 606, 'explored': 2807, 'migrated': 4622, 'compelled': 1682, 'microsofts': 4614, 'godsend': 3331, 'organizer': 5153, 'effectiveness': 2519, 'batch': 984, 'ouch': 5169, 'logical': 4374, 'remake': 6071, 'office': 5039, 'zone': 8339, '11am': 45, '2am': 151, 'hourly': 3647, '5stars': 272, 'reenabling': 5978, 'inexplicably': 3847, 'wunderlist': 8291, 'noticable': 4958, 'necessarily': 4839, 'detailed': 2174, 'undated': 7695, 'grouping': 3410, 'bulleted': 1255, 'inventory': 3996, 'todoist': 7464, 'secondary': 6504, 'completion': 1703, 'presumably': 5616, 'muchappreciated': 4766, 'statistic': 6998, 'nuianced': 4982, 'versus': 7978, 'importantnot': 3762, 'natural': 4822, 'mandating': 4487, 'forgets': 3105, 'serviceable': 6578, 'podcasts': 5496, 'invalidate': 3992, 'settle': 6587, 'logically': 4375, 'cortana': 1871, 'grocery': 3403, 'spatial': 6891, 'temporal': 7301, 'twostar': 7647, 'brief': 1205, 'snooze': 6821, 'incorporated': 3811, 'unobtrusive': 7783, 'depth': 2135, 'prompting': 5709, 'impediment': 3749, 'opposed': 5112, 'litter': 4333, 'absouloutly': 360, 'oriented': 5157, 'aesthetically': 495, 'pleasing': 5475, 'integrates': 3930, 'icing': 3697, 'mixer': 4680, 'bottomline': 1175, 'uptospeed': 7883, 'uncomplicated': 7692, 'comparable': 1672, 'definition': 2090, 'etcthis': 2686, 'simplistic': 6715, 'flagged': 3021, 'glaring': 3308, 'omission': 5064, 'utilize': 7919, 'onenote': 5071, 'leveraging': 4271, 'nervous': 4864, 'pessimism': 5371, 'proven': 5725, 'mtd': 4762, 'dedicated': 2068, 'cycled': 1996, 'consolidated': 1776, 'engineer': 2606, 'nutter': 4992, 'nitpick': 4909, 'easiest': 2478, 'tightly': 7419, 'assign': 805, 'reverse': 6261, 'depot': 2133, 'subtasks': 7120, 'assignable': 806, 'geofencing': 3272, 'gutted': 3439, 'relying': 6066, 'daytimer': 2032, 'cloud': 1581, 'subtopics': 7123, 'deadline': 2038, 'whooshing': 8185, 'softly': 6831, 'enhancement': 2611, 'gtd': 3417, 'liststasks': 4329, 'dock': 2343, 'relearn': 6047, 'longtime': 4392, 'converting': 1830, 'stacked': 6961, 'editable': 2507, 'hiccup': 3557, 'tad': 7237, 'taller': 7248, 'arranging': 771, 'bucket': 1233, 'monday': 4709, 'motivation': 4741, 'easeness': 2476, 'hardwork': 3485, 'subcategories': 7101, 'reorganizing': 6110, 'leapfrog': 4240, 'oneatatime': 5068, 'shaking': 6608, 'rerate': 6160, 'specified': 6907, 'alpha': 585, 'readd': 5850, 'sandwich': 6411, 'bread': 1194, 'quickscroll': 5790, 'workplace': 8254, 'oap': 4999, 'swapped': 7200, 'prioritisation': 5646, 'backed': 924, 'projectphase': 5697, 'faff': 2862, '9am': 333, 'overshoot': 5207, 'math': 4533, 'recurrence': 5949, 'sorely': 6870, 'funtastic': 3214, 'anather': 625, 'newold': 4884, 'g6': 3225, 'iqoo': 4016, 'neo': 4860, 'accountability': 395, 'partner': 5266, 'outlookmicrosoft': 5179, 'competent': 1686, 'piled': 5414, 'wood': 8238, 'tree': 7563, 'trivial': 7591, 'mindmanager': 4640, 'focused': 3064, 'featureset': 2920, 'curve': 1974, 'organise': 5145, 'bunched': 1262, 'organiser': 5147, 'brainstorm': 1187, 'note10': 4949, '750': 302, 'tony': 7484, 'synchronized': 7223, 'organizes': 5154, 'intuitively': 3988, 'onetime': 5076, 'rescheduling': 6167, 'optionscant': 5127, 'division': 2334, '1010': 21, 'bestowed': 1043, 'graciously': 3369, 'diy': 2336, 'mostused': 4736, 'revive': 6271, 'prayer': 5566, 'mondaymissionaries': 4710, 'fridayfriends': 3168, 'callsemails': 1323, 'eleven': 2537, 'populate': 5520, 'revolutionized': 6275, 'tremendous': 7565, 'onedrive': 5069, 'leap': 4239, 'bound': 1178, 'migration': 4624, 'lars': 4203, 'feen': 2934, 'usefully': 7900, 'checklist': 1474, 'routine': 6353, 'mechanic': 4557, 'embarrassingly': 2555, 'repeatable': 6116, 'agile': 523, 'wearos': 8123, 'intergates': 3955, 'suite': 7147, 'automate': 876, 'evolved': 2717, 'complexity': 1706, 'notion': 4973, 'taskalso': 7258, 'addedoptimized': 441, 'formating': 3114, 'bold': 1137, 'italic': 4040, 'tickable': 7411, 'suggestioninstead': 7142, 'remainder': 6068, 'ultimate': 7667, 'spectacular': 6911, 'placing': 5438, 'clash': 1534, 'topmedium': 7492, 'categorize': 1385, 'intuitiveness': 3989, 'dealbreaker': 2040, 'userpresent': 7908, 'ticking': 7415, 'microfosts': 4612, 'tasksyou': 7260, 'assignment': 809, 'subtask': 7119, 'gratefull': 3380, 'everybody': 2706, 'teamsthere': 7277, 'platformbut': 5448, 'ote': 5162, 'thiswe': 7379, 'memberswhere': 4575, 'cordianates': 1857, 'eachother': 2465, 'unscheduled': 7815, 'qay': 5769, 'presentation': 5605, 'thisa': 7374, 'certen': 1416, 'lotbetter': 4411, 'comnected': 1668, 'reminds': 6085, 'howver': 3651, 'specifying': 6910, 'pomodoro': 5510, 'unnoticed': 7782, 'finite': 2998, 'christmas': 1502, 'clever': 1556, 'authorised': 868, 'categorized': 1386, 'boosted': 1158, 'organizing': 5155, 'changer': 1432, 'accountable': 396, 'distracted': 2324, 'seemlessly': 6523, 'criticise': 1943, 'kanbanlike': 4112, 'populated': 5521, 'template': 7300, 'defy': 2092, 'sublist': 7104, 'bipolar': 1074, 'severe': 6595, 'integrate': 3928, 'colorcoding': 1624, 'ore': 5142, 'fromeg': 3178, 'excel': 2729, 'invitee': 4004, 'viewable': 8008, 'prepare': 5599, 'optionally': 5126, 'strictly': 7068, 'chorestasks': 1497, 'monitor': 4720, 'daydate': 2030, 'backdate': 923, 'achieved': 411, 'crossing': 1951, 'notepad': 4954, 'anydo': 666, 'asana': 789, 'o365': 4998, 'convert': 1827, 'ping': 5421, 'wag': 8055, 'kf': 4129, 'repitition': 6122, 'percent': 5327, 'translucency': 7541, 'amoled': 608, 'flagging': 3022, 'collaborating': 1606, 'performs': 5338, 'accomplishing': 391, 'evernote': 2703, 'interes': 3945, 'alls': 577, 'reminderstodo': 6083, 'dope': 2374, 'lebron': 4251, 'witness': 8224, 'tranparent': 7529, 'courier': 1895, 'coordination': 1846, 'gazillion': 3247, 'nike': 4904, 'snkrs': 6820, 'sneaker': 6816, 'anticipation': 660, 'em': 2549, 'attire': 845, 'artistic': 785, 'stock': 7028, 'shipping': 6633, 'returnexchange': 6246, 'ship': 6632, 'wellbuilt': 8150, 'fashionable': 2892, 'acg': 409, 'mountain': 4745, 'training': 7528, 'worn': 8260, '59': 265, 'retired': 6239, 'stuntman': 7093, 'surgery': 7183, 'wild': 8202, 'slip': 6771, 'yhe': 8315, 'printer': 5644, 'awesom': 912, 'addictive': 444, 'resubmit': 6227, 'discountsexclusive': 2282, 'raffle': 5807, 'winning': 8208, 'moneyy': 4718, 'clothes': 1579, 'jdagoat': 4073, 'outlet': 5177, 'ourchases': 5171, 'jordan': 4084, 'daughter': 2025, 'ordering': 5140, 'cutest': 1992, 'alaska': 552, 'reoccurring': 6106, 'nonissue': 4925, 'travis': 7558, 'scott': 6465, 'olive': 5060, 'loginsign': 4379, '23184': 127, 'wellknown': 8153, 'producing': 5674, 'highquality': 3571, 'athletic': 826, 'gear': 3253, 'apparel': 692, 'wellas': 8149, '56': 262, 'ty': 7649, 'intelligence': 3933, 'transact': 7531, 'postback': 5541, 'investing': 4000, 'cart': 1370, 'skating': 6742, 'psychically': 5738, 'aquire': 753, 'resell': 6171, 'specialsand': 6903, 'height': 3532, 'lowmidand': 4427, 'topsapps': 7495, 'a20': 336, 'county': 1891, 'lined': 4307, 'bra': 1184, 'legging': 4257, 'af1': 497, 'lg': 4272, 'monumental': 4727, 'chapter': 1439, 'invest': 3998, 'snkr': 6819, 'aswell': 823, 'footwear': 3084, 'navigatejust': 4828, 'lovin': 4421, 'retro': 6243, 'waaaay': 8051, 'colorways': 1628, 'baseball': 975, 'equipment': 2655, 'basket': 982, 'captured': 1352, 'instore': 3920, 'head': 3510, 'wardrobe': 8083, 'ab': 343, 'stressful': 7066, 'blury': 1128, 'availabla': 896, 'perkers': 5344, 'mall': 4476, 'comfortableans': 1644, 'sportswear': 6942, 'apparrel': 695, 'designsthe': 2155, 'catching': 1383, 'wearmy': 8122, 'sore': 6869, 'ordera': 5137, 'doodle': 2369, 'bored': 1163, 'colomn': 1620, 'presenting': 5607, 'notificationshortcut': 4967, 'dislikesa': 2297, 'complaintsreviews': 1697, 'easilysuch': 2480, 'oldest': 5058, 'innovation': 3875, 'bedtime': 1007, 'selective': 6533, 'fave': 2903, 'narrator': 4815, 'libraryvideossearch': 4275, 'til': 7423, 'musicvideo23': 4787, 'videoreel': 7999, 'lagscrashes': 4183, 'musicvideos': 4788, 'showtype': 6671, 'videotopic': 8005, 'busnessnow': 1272, 'cdrecordsbluetooth': 1399, 'verticle': 7982, 'scan': 6444, 'bufferingbut': 1239, 'plugins': 5485, 'showcase': 6663, 'precious': 5572, 'spiralled': 6927, 'classified': 1537, 'asmr': 800, 'antismoking': 661, 'smoke': 6804, 'promt': 5711, 'voiceover': 8043, 'note9': 4950, 'upyou': 7885, 'whatwho': 8166, 'analytic': 622, 'rec': 5892, 'multiselection': 4778, 'rebuffering': 5890, 'reuse': 6253, 'meg': 4568, 'rebuffer': 5889, 'minimizemaximize': 4651, 'inproduct': 3879, '456': 228, '1002': 17, '1733': 75, '12237': 52, 'lay': 4224, 'pointlessly': 5501, 'catering': 1389, 'orientation': 5156, 'beore': 1035, 'suggests': 7144, 'supplement': 7166, 'vlc': 8040, 'aftermarket': 507, 'phoneit': 5385, 'utilized': 7920, 'interfacevery': 3951, 'authenticated': 861, 'thoroughly': 7382, 'scrutinize': 6486, 'unusually': 7839, 'intense': 3936, 'mp3s': 4754, 'musicspeedchanger': 4786, 'mp3': 4753, 'irrationally': 4019, 'trusting': 7610, 'sendingreceiving': 6545, 'ordinary': 5141, 'serve': 6574, 'bopping': 1161, 'intrigue': 3976, 'blessed': 1099, 'zip': 8337, 'competentlywritten': 1687, 'wading': 8054, 'settled': 6588, 'greets': 3394, 'airdrop': 541, 'lover': 4420, 'folderthats': 3067, 'pattern': 5288, 'retrieve': 6242, 'shouldve': 6656, 'wclearing': 8116, 'wthis': 8289, 'wthe': 8288, 'meive': 4571, 'branded': 1190, 'dropbox': 2429, 'att': 830, 'salesman': 6403, 'virus': 8023, 'protection': 5722, '12622': 54, 'grayed': 3383, 'unlag': 7764, 'locker': 4364, 'deterrent': 2181, 'attribute': 849, 'usefule': 7898, 'recovering': 5940, 'participation': 5263, 'aaaaugh': 340, 'exceeded': 2726, 'enables': 2579, 'renamed': 6094, 'filnd': 2970, 'filesapps': 2961, 'adstotally': 475, 'repopulate': 6136, 'deletemove': 2102, 'tocopy': 7461, 'torename': 7496, 'selecthold': 6530, 'gridlist': 3398, 'btn': 1226, 'trimcut': 7583, 'bitrate': 1081, 'cropadjustments': 1948, 'herereview': 3549, 'effortlessly': 2524, 'gigabyte': 3290, 'technich': 7283, 'makein': 4464, 'planet': 5441, 'drawer': 2414, 'beteern': 1047, 'accountsservergoogle': 400, 'llaofo': 4342, 'maximise': 4539, 'drivephotosgmail': 2421, 'donr': 2367, 'hich': 3558, '30gb': 172, '100g': 18, '299month': 148, 'featureapp': 2916, 'phonesuch': 5387, 'mount': 4744, 'cardit': 1356, 'belong': 1028, 'freeing': 3151, 'preventing': 5624, 'dones': 2364, 'unusedold': 7836, 'visualization': 8034, 'pie': 5410, 'chartbif': 1449, 'typeshow': 7654, 'fileslocations': 2962, 'contiguous': 1802, 'ez': 2844, 'gui': 3426, '2902': 147, 'totalling': 7503, '124gb': 53, 'tofrom': 7466, 'gcohelpfilesbygoogle': 3251, 'cleaner': 1544, 'ecosystem': 2499, 'worryfree': 8263, 'realistically': 5863, 'optimization': 5119, 'motorola': 4743, 'pleasure': 5476, 'easytofind': 2488, 'wiko': 8201, 'staple': 6979, 'accordingly': 393, 'manages': 4484, 'flashy': 3028, 'spreaded': 6949, 'execute': 2749, 'tu': 7616, 'movable': 4747, 'transformative': 7536, 'enhanced': 2610, 'storing': 7042, 'accent': 372, 'inverted': 3997, 'distinguished': 2323, 'gimmick': 3291, 'wat': 8103, 'hassel': 3494, 'league': 4237, 'outstanding': 5185, 'doggs': 2357, 'gb': 3248, 'fingerprint': 2992, 'scanner': 6446, 'filing': 2964, 'frustrate': 3186, 'deletedi': 2101, '2018': 107, 'compress': 1714, 'kb': 4117, '10gb': 29, 'deviceplease': 2193, 'possibleon': 5538, 'cleanup': 1547, 'medias': 4559, 'fingertip': 2994, 'gigabit': 3289, 'megabit': 4569, 'sentimental': 6558, 'relief': 6056, 'reciver': 5915, 'mp4': 4755, 'thirdparty': 7373, '128gb': 55, 'decreasing': 2067, 'abouthavent': 352, 'rifle': 6296, 'secondarybackup': 6505, 'allot': 571, 'downloadedwill': 2391, 'handyquick': 3463, 'photosdelete': 5391, '32gb': 184, 'nintendo': 4907, 'uneditable': 7712, 'humility': 3672, 'narrative': 4814, 'sniper': 6817, 'totality': 7502, 'narration': 4813, 'delightful': 2109, 'goodbt': 3344, 'sidewhen': 6690, 'whyif': 8190, 'behaves': 1019, 'mantain': 4495, 'organises': 5148, 'pa': 5221, 'assistanceapp': 812, 'k9izinja': 4109, 'zwelethu': 8345, 'matolweni': 4535, 'sharedsent': 6615, 'heve': 3552, 'stopper': 7035, 'usb': 7893, 'ticked': 7412, 'rename': 6093, '9510': 327, 'missinglike': 4670, 'mtp': 4764, 'novice': 4976, 'guiding': 3433, 'maintenance': 4459, 'secret': 6507, 'archived': 756, 'collected': 1615, 'elbow': 2531, 'nudge': 4981, 'ammiright': 607, 'dimmed': 2239, 'ocd': 5022, 'anxiety': 664, 'desisnged': 2158, 'playwatch': 5468, 'rectified': 5947, 'geeky': 3255, 'colorful': 1626, 'slick': 6761, 'definity': 2091, 'replacing': 6126, 'destroy': 2171, 'manger': 4491, 'identify': 3707, 'andriod': 629, 'freeup': 3152, 'autosuggestion': 888, 'mom': 4706, 'niece': 4900, 'surfing': 7182, 'compatable': 1679, '1optimize': 90, '2add': 150, '3also': 200, 'extraction': 2832, '4fix': 236, 'beensuperb': 1008, 'phenomenal': 5379, 'featurea': 2915, 'usethe': 7910, 'featuremy': 2919, 'incase': 3786, 'recovered': 5939, 'filemanager': 2959, 'fuss': 3217, 'removedi': 6091, 'butultimately': 1283, 'exlike': 2767, 'occupied': 5014, 'kylie': 4169, 'wildest': 8203, 'imagination': 3731, 'thrill': 7392, 'linger': 4308, 'fuk': 3198, 'stubborn': 7082, 'beright': 1036, 'knowlege': 4158, 'humble': 3670, 'lesson': 4266, 'cooler': 1843, 'trillion': 7582, 'seemless': 6522, 'separated': 6560, 'tinkering': 7445, 'smarta': 6794, 'er': 2657, 'wasis': 8094, 'smith': 6803, 'bird': 1075, 'specie': 6904, 'capeabilitys': 1346, 'land': 4188, 'wellmade': 8154, 'finely': 2988, 'produced': 5673, 'butthey': 1279, 'thnx': 7380, 'ggle': 3278, 'dreamed': 2417, 'inyourface': 4009, 'beeping': 1009, 'tone': 7481, 'extricating': 2840, 'ringtone': 6303, 'snoozing': 6823, 'dismissing': 2300, 'degrading': 2095, 'hood': 3615, 'stopwatch': 7038, 'ringtones': 6304, 'forand': 3085, 'oneoff': 5072, 'thankfully': 7339, 'rollout': 6334, 'temperature': 7299, 'forecas': 3094, 'skin': 6747, 'gmt': 3321, 'pt': 5739, 'cet': 1420, 'gmt2': 3322, 'skool': 6751, 'brother': 1219, 'visualy': 8037, 'sleeping': 6759, 'wooow': 8239, 'keypad': 4127, 'cursor': 1972, 'rounded': 6349, 'analog': 619, 'superugly': 7163, 'alarmit': 550, 'workout': 8253, 'pitch': 5430, 'universal': 7761, 'soothing': 6867, 'ear': 2467, 'flexibility': 3036, 'alarmreminder': 551, 'turnsoffalarmsprematurely': 7627, 'prealarm': 5571, 'quarter': 5778, 'checkbox': 1467, 'disliked': 2296, 'soft': 6830, 'grabbing': 3367, 'basement': 977, 'contrast': 1811, 'luckily': 4431, 'offeredwidget': 5035, 'alarmi': 548, 'xtreme': 8298, 'doesits': 2352, 'textemail': 7328, 'friendsfamilies': 3173, 'ultraand': 7670, 'plyey': 5488, 'nb': 4831, 'modetimer': 4702, 'staggering': 6966, 'contrasting': 1812, 'jolt': 4083, 'motivated': 4740, 'cold': 1604, 'steve': 7016, 'austin': 857, 'entrance': 2640, 'shatter': 6620, 'sinple': 6725, 'ny': 4996, 'blaring': 1093, '911': 324, 'fossil': 3127, 'purposeful': 5756, 'awake': 908, 'maker': 4467, 'unrestricted': 7808, 'blackberry': 1087, 'powered': 5556, 'invluding': 4005, '74': 300, 'analytics': 623, 'overtly': 5211, 'harmful': 3486, 'unessecary': 7715, 'elegant': 2535, 'analogue': 620, 'versionthere': 7977, 'chunky': 1515, 'differently': 2222, 'oversleeping': 5209, 'facetoface': 2850, 'absent': 357, 'daylight': 2031, 'gef': 3256, 'challenging': 1426, 'rythem': 6377, 'challenged': 1425, 'screensaver': 6473, 'irritated': 4023, 'proventable': 5726, 'narc': 4812, 'plethora': 5479, 'dialer': 2199, 'shocked': 6636, 'touchable': 7506, 'designation': 2151, 'clubbed': 1583, 'designer': 2153, 'selectively': 6534, 'headache': 3511, 'pretending': 5618, 'tuning': 7621, 'unneeded': 7781, 'belonging': 1029, 'symbian': 7216, 'prefix': 5587, 'module': 4705, 'bingo': 1070, 'buddy': 1234, 'goodly': 3348, 'serf': 6566, 'acquaintance': 412, 'centralize': 1412, 'informati': 3860, 'tied': 7417, 'bleeds': 1097, 'andy': 633, 'dad': 1999, 'customisation': 1980, 'merging': 4591, 'highlit': 3569, 'noticeafter': 4961, 'accountsnot': 399, 'answered': 657, 'christie': 1501, 'hutton': 3686, '582023': 264, 'dialpad': 2204, 'meanwhile': 4554, 'attended': 841, 'dialled': 2201, '11t': 46, 'protecting': 5721, 'pen': 5316, 'whith': 8179, 'infoon': 3858, 'etcllc': 2685, 'classifying': 1538, 'ussd': 7914, 'proactive': 5656, 'measure': 4555, 'cease': 1401, 'endorse': 2595, 'safest': 6395, 'merges': 4590, 'conta': 1788, 'costomisation': 1878, 'sim': 6706, 'composing': 1712, 'intergration': 3957, 'titled': 7452, 'scintilla': 6462, 'implicitly': 3756, 'voicemail': 8042, 'babymama': 919, 'harass': 3477, 'cordial': 1856, 'rectangle': 5946, 'vibration': 7991, 'answering': 658, 'qol': 5771, 'whomsoever': 8184, 'wassightly': 8096, 'largerm': 4201, 'telegram': 7291, 'viber': 7989, 'unsync': 7830, 'contactsprevent': 1795, 'storrage': 7044, 'dual': 2435, 'bloatware': 1107, 'alphabet': 586, 'nord': 4941, 'ce': 1400, 'additive': 449, 'mediocre': 4562, 'inevitable': 3845, 'redesign': 5958, 'illustration': 3727, 'pharmacy': 5378, 'avatar': 898, 'vein': 7959, 'socially': 6829, 'feasible': 2913, '53': 259, 'issueit': 4032, 'caller': 1319, 'hardpressed': 3483, '4x1': 243, 'seven': 6592, 'customerization': 1978, 'rly': 6315, 'ex': 2719, 'birthdaywork': 1077, 'dis': 2253, 'makin': 4469, 'therei': 7358, 'contactsit': 1794, 'everyonebut': 2709, 'emojisi': 2564, 'sothus': 6876, 'tru': 7601, 'ascertain': 791, 'customise': 1981, 'dialing': 2200, 'mm': 4684, 'huawei': 3658, 'topof': 7493, 'necessity': 4841, 'infinix': 3851, 'lake': 4185, 'katharine': 4116, 'hepburn': 3548, 'uber': 7659, 'rental': 6103, 'drivr': 2426, 'riding': 6295, 'sfo': 6601, 'catastrophe': 1381, 'worrying': 8264, 'renting': 6104, 'tipping': 7448, 'considerate': 1768, 'identified': 3706, 'euro': 2692, '27': 143, 'restores': 6217, 'impeccable': 3748, 'kindness': 4146, 'experienceride': 2787, 'timely': 7430, 'alley': 569, 'gpa': 3361, 'doe': 2351, 'extraordinary': 2835, 'ccount': 1398, 'oneself': 5074, 'professinal': 5679, 'convinient': 1835, 'appdont': 696, 'reasonfuture': 5879, 'welland': 8148, 'lastlyyou': 4207, 'andthey': 632, 'youbased': 8319, 'rural': 6374, 'antonio': 663, 'fallback': 2874, 'r140': 5799, 'r500': 5801, 'doordashuber': 2372, 'doordash': 2371, 'reassuring': 5881, 'donot': 2366, 'punctuality': 5746, 'oslo': 5161, 'rapido': 5829, 'stagnant': 6968, 'curtious': 1973, 'rand': 5823, '400rand': 211, '215': 119, 'seventhis': 6593, '103': 24, 'tipthis': 7449, 'unexceptable': 7717, '38': 195, 'friendlyhelpful': 3172, 'adjustment': 464, 'supply': 7169, 'gps': 3363, 'lengthy': 4261, 'stirred': 7027, 'upcost': 7850, '042023': 5, '092021': 11, 'whowhere': 8188, 'vega': 7957, 'amy': 618, 'charger': 1444, 'pamphlet': 5240, 'law': 4222, 'clayton': 1541, 'rider': 6292, '490': 233, 'courteous': 1898, 'helpfuli': 3541, 'grubhub': 3415, '300': 166, 'welcoming': 8146, 'faire': 2869, 'hollywood': 3606, 'tricky': 7577, 'reckon': 5916, 'committed': 1657, 'stepped': 7013, 'jacksonville': 4062, 'st': 6956, 'augustine': 855, 'florida': 3053, 'reserved': 6176, 'shuttle': 6679, 'trackable': 7521, 'unacceptably': 7675, 'driverbetter': 2423, 'dropoff': 2430, 'asterisk': 821, 'peacefully': 5309, 'rent': 6102, 'lease': 4246, 'shortage': 6646, 'compersion': 1684, 'prived': 5652, 'chauffeur': 1458, 'hospital': 3635, 'stre': 7055, 'personable': 5355, 'hair': 3450, 'cabauto': 1297, 'knowledgeable': 4157, 'helpsupport': 3545, 'disagree': 2259, 'generates': 3262, 'simplifies': 6714, 'stronger': 7074, 'surprisingly': 7186, 'communicated': 1662, 'contradiction': 1810, 'tin': 7443, 'biometric': 1072, 'csv': 1961, 'beneficial': 1032, 'appplatform': 724, 'impenetrable': 3750, 'forsure': 3119, 'conjunction': 1757, 'overwritten': 5216, 'protected': 5720, 'mfa': 4608, 'dimish': 2238, 'aceppting': 407, 'emergent': 2560, 'certificate': 1417, 'caution': 1395, 'eeoecially': 2515, 'authenticste': 867, 'object': 5001, 'singularityoffocus': 6724, 'array': 772, 'nested': 4866, 'exponentially': 2813, 'pws': 5767, 'andhmmm': 626, 'gate': 3242, 'logingov': 4377, 'skeptical': 6743, 'assured': 820, 'warranty': 8088, 'gut': 3438, 'cred': 1927, 'varies': 7945, 'skipped': 6749, 'authenticating': 863, 'authenicator': 859, 'rememberinput': 6078, 'homescreen': 3609, 'labelled': 4172, 'labelling': 4173, 'incorporating': 3812, 'clearer': 1552, 'coerced': 1600, 'indignant': 3833, 'sendreceive': 6546, 'timesaver': 7435, 'breach': 1193, 'migrate': 4621, 'auth': 858, 'recognition': 5919, 'disposable': 2308, 'favouritism': 2908, 'showy': 6672, '26': 139, 'backing': 928, 'azure': 917, 'oauth': 5000, 'insider': 3889, 'royal': 6357, 'toolshed': 7488, 'automaticallyoverall': 880, 'unrivalled': 7809, 'dashlane': 2016, 'approach': 730, 'dog': 2356, 'nonms': 4926, 'stepping': 7014, 'launcher': 4220, 'pleasantly': 5471, 'otps': 5167, 'definite': 2088, 'timed': 7427, 'polished': 5504, 'actor': 424, 'designfunction': 2154, 'passwordsdata': 5276, 'simultaneously': 6717, 'cope': 1848, 'bet': 1045, 'infinitely': 3850, 'authenticates': 862, 'comfortexperience': 1646, 'merely': 4587, 'rank': 5827, 'savior': 6425, 'thumbprint': 7404, 'facial': 2851, 'ha': 3441, 'whatapp': 8160, 'pia': 5396, 'piggy': 5412, 'backer': 926, 'reflection': 5991, 'understood': 7701, 'encouragement': 2586, 'corporation': 1861, 'enterprise': 2630, 'yield': 8317, 'net': 4867, 'lisa': 4317, 'schue': 6457, 'devicepc': 2192, 'autosync': 889, 'update07062023': 7852, 'honesty': 3614, 'petty': 5376, 'amazingly': 602, '032923': 4, 'widespread': 8193, 'migrating': 4623, 'securitycentric': 6513, 'confident': 1739, 'proved': 5724, 'minecraft': 4642, 'grip': 3400, 'appsseems': 744, 'authenticing': 866, 'helpdesk': 3538, 'stolen': 7030, 'tworks': 7646, 'resetup': 6180, 'posterity': 5545, 'competitor': 1691, 'finest': 2989, 'huh': 3661, 'bestthis': 1044, '65': 284, 'noone': 4939, 'practicability': 5562, '2famfa': 154, 'plugin': 5484, 'crossos': 1952, 'fluent': 3058, 'updation': 7861, 'imported': 3763, 'addedit': 440, 'unlocking': 7773, 'gaining': 3228, 'marketplace': 4512, 'additonally': 450, 'unusual': 7838, 'tagged': 7239, 'tagging': 7240, '10c': 28, 'chip': 1486, 'extract': 2831, 'briefly': 1206, 'copyright': 1854, 'because1': 1001, 'outofthebox': 5181, 'elivate': 2542, 'demonstrate': 2119, 'vital': 8038, 'entertained': 2632, 'appnow': 722, 'videosbuti': 8000, 'livingas': 4340, 'longso': 4390, 'optionso': 5128, 'webmail': 8128, 'multiemail': 4769, 'troubleshootingscheduling': 7598, 'doublechecking': 2378, 'receiptreply': 5895, 'easyintuitive': 2486, 'lifesaver': 4282, 'mailbox': 4451, 'fever': 2943, 'enlighten': 2620, 'chain': 1422, 'snoozed': 6822, 'sea': 6489, 'grey': 3395, 'gamail': 3233, 'undoutadly': 7709, 'versatility': 7974, 'overlook': 5199, 'thunderbird': 7405, '6ainferior': 289, 's7': 6383, 'introducing': 3982, 'featurrs': 2922, 'structured': 7077, 'personalising': 5357, 'jesus': 4074, 'electronic': 2533, 'gmails': 3320, 'candidly': 1340, 'incomprehensible': 3804, 'preformatted': 5588, 'favorable': 2905, 'posse': 5534, 'hunting': 3678, 'pasting': 5280, 'bizarrely': 1084, 'resyncing': 6235, 'servng': 6582, '32': 182, 'enhances': 2612, 'appservice': 742, 'hangout': 3466, 'sendreport': 6547, 'intern': 3959, '2year': 164, 'calculator': 1313, 'approximation': 740, 'decimal': 2061, 'sin3': 6718, 'tactile': 7236, 'sliding': 6765, 'lift': 4284, 'backspacing': 930, 'redesigned': 5959, 'cosmetic': 1872, 'mash': 4518, 'fatigue': 2899, 'restless': 6214, 'warmer': 8084, 'orangered': 5134, 'blessing': 1100, 'scientific': 6460, 'bracket': 1185, 'bubbly': 1230, 'embarrassed': 2553, 'disability': 2254, 'condensing': 1732, 'rearranging': 5875, 'equation': 2654, 'fractional': 3137, 'calculate': 1309, 'arithmetic': 762, 'prettier': 5620, 'echoing': 2494, 'hampered': 3456, 'regression': 6017, 'hinduarabic': 3583, 'numeral': 4988, 'preferably': 5583, 'righthand': 6298, 'omitted': 5065, 'functionally': 3209, 'iteration': 4045, 'useable': 7895, 'parenthesis': 5252, 'deg': 2093, 'rad': 5803, 'trigonometry': 7581, 'extreme': 2837, 'muscle': 4784, 'rekey': 6036, 'layoutlocation': 4227, 'sponsorship': 6936, 'consume': 1783, 'editcorrect': 2508, 'dominated': 2362, 'slid': 6762, 'lightening': 4286, 'subtracted': 7124, 'etcwhatever': 2687, 'performingwill': 5337, 'calculus': 1314, 'grader': 3371, 'r2': 5800, 'intentially': 3937, 'appealling': 699, 'currency': 1968, 'conversion': 1826, 'peopleand': 5324, 'thatthe': 7348, 'waay': 8052, 'mathematical': 4534, 'fourfunction': 3133, 'wear': 8121, 'overkill': 5194, 'desperatly': 2167, 'mimic': 4633, 'prehistoric': 5589, 'converter': 1829, 'vulgar': 8049, 'subtraction': 7125, 'multiplication': 4776, 'algebraic': 558, 'bean': 992, 'boat': 1131, 'opacity': 5091, 'fabtastic': 2845, 'kilometer': 4140, 'lb': 4231, 'unisable': 7757, 'consquently': 1777, 'lynch': 4440, 'twenty': 7637, 'n1n2n20': 4805, 'admire': 466, 'adorable': 470, 'dime': 2236, 'miniscule': 4654, 'floatable': 3048, 'resizeablesimilar': 6184, 'computation': 1717, 'sliced': 6760, 'breadand': 1195, 'esply': 2676, 'earl': 2469, 'nation': 4819, 'groundbreaking': 3407, 'setyoufree': 6591, 'reciprocal': 5912, 'divide': 2333, 'power1': 5555, 'exporting': 2815, 'md3': 4548, 'addsubtractmultiplydivide': 457, 'adapts': 434, 'formula': 3118, 'bemdas': 1030, 'exponent': 2812, 'multiplydivide': 4777, 'addsubtract': 456, '21024': 118, '2250000': 122, 'budgeting': 1236, 'dyslexia': 2464, 'mod': 4692, 'analysing': 621, 'onei': 5070, 'boundary': 1179, 'convertor': 1831, 'oral': 5132, 'xiaomis': 8296, 'optimised': 5118, 'table': 7231, 'performant': 5334}\n",
            "3107\n"
          ]
        }
      ],
      "source": [
        "filtered_comments = preprocess(comments)\n",
        "vectorizer = CountVectorizer()\n",
        "docs = np.array(filtered_comments)\n",
        "# Fit the bag-of-words model\n",
        "bag = vectorizer.fit_transform(docs)\n",
        "# Get unique words / tokens found in all the documents. The unique words / tokens represents the features\n",
        "print(vectorizer.get_feature_names_out())\n",
        "# Associate the indices with each unique word\n",
        "print(vectorizer.vocabulary_)\n",
        "# Print the numerical feature vector\n",
        "print(len(bag.toarray()))"
      ]
    },
    {
      "cell_type": "code",
      "execution_count": null,
      "metadata": {
        "id": "gb80mdH34heK"
      },
      "outputs": [],
      "source": [
        "X = bag.toarray()\n",
        "y = np.array(list(labelled_data['target']))\n",
        "\n",
        "X_train, X_test, y_train, y_test = train_test_split(X, y,test_size=0.3,random_state = 42)"
      ]
    },
    {
      "cell_type": "code",
      "execution_count": null,
      "metadata": {
        "id": "fIQCXQav4qQr"
      },
      "outputs": [],
      "source": [
        "clf = tree.DecisionTreeClassifier(criterion='entropy', splitter='random', max_depth=38,random_state = 35)\n",
        "clf = clf.fit(X_train,y_train)\n",
        "clf1 = tree.DecisionTreeClassifier(criterion='gini', splitter='best', max_depth=40)\n",
        "clf1 = clf1.fit(X_train,y_train)\n",
        "clf2 = tree.DecisionTreeClassifier()\n",
        "clf2 = clf2.fit(X_train,y_train)"
      ]
    },
    {
      "cell_type": "code",
      "source": [
        "import graphviz\n",
        "dot_data = tree.export_graphviz(clf2, out_file=None)\n",
        "graph = graphviz.Source(dot_data)\n",
        "graph.render(\"tree\")"
      ],
      "metadata": {
        "colab": {
          "base_uri": "https://localhost:8080/",
          "height": 35
        },
        "id": "D-sC3qlZXviU",
        "outputId": "397178b6-c421-43f7-b67e-5420c3d161af"
      },
      "execution_count": null,
      "outputs": [
        {
          "output_type": "execute_result",
          "data": {
            "text/plain": [
              "'tree.pdf'"
            ],
            "application/vnd.google.colaboratory.intrinsic+json": {
              "type": "string"
            }
          },
          "metadata": {},
          "execution_count": 85
        }
      ]
    },
    {
      "cell_type": "code",
      "execution_count": null,
      "metadata": {
        "colab": {
          "base_uri": "https://localhost:8080/"
        },
        "id": "_XcaJZQE4wJb",
        "outputId": "0a1b4bac-cfa2-4307-b391-c6a8d2691e69"
      },
      "outputs": [
        {
          "output_type": "stream",
          "name": "stdout",
          "text": [
            "[-1  1  1  1 -1  1  1  1  1 -1  1  1  1 -1  1  1 -1 -1  1 -1  1 -1 -1  1\n",
            "  1  1 -1 -1  1 -1 -1 -1  1  1 -1  1  1 -1  1  1  1  1  1 -1  1  1 -1  1\n",
            "  1 -1 -1  1  1  1 -1 -1  1 -1 -1  1  1 -1 -1 -1  1  1  1 -1  1  1  1 -1\n",
            "  1 -1 -1  1  1 -1  1  1  1 -1  1  1 -1 -1  1  1 -1 -1 -1 -1 -1  1  1  1\n",
            " -1  1  1  1  1 -1 -1  1  1  1 -1  1  1  1  1  1  1  1  1  1 -1 -1  1  1\n",
            "  1  1 -1 -1  1  1 -1  1  1 -1  1 -1  1  1 -1  1 -1  1  1  1 -1 -1  1  1\n",
            "  1  1  1 -1  1  1 -1 -1  1  1 -1  1  1 -1 -1 -1 -1  1  1  1  1 -1  1  1\n",
            " -1  1  1  1  1 -1  1  1  1  1  1  1 -1 -1  1  1 -1  1  1 -1 -1 -1  1 -1\n",
            " -1  1 -1  1 -1 -1 -1  1  1  1 -1 -1  1 -1  1  1  1 -1 -1  1 -1 -1 -1 -1\n",
            "  1  1  1  1  1  1  1  1 -1  1 -1  1 -1  1 -1 -1  1  1 -1  1 -1  1  1 -1\n",
            "  1  1  1  1 -1 -1  1 -1  1 -1 -1 -1  1  1  1  1  1  1  1  1 -1  1  1  1\n",
            "  1  1 -1  1 -1  1 -1  1  1  1  1 -1 -1  1  1  1 -1 -1 -1  1 -1  1  1  1\n",
            "  1 -1 -1  1 -1 -1 -1 -1 -1  1  1 -1  1 -1 -1  1 -1  1  1  1  1  1  1  1\n",
            "  1 -1 -1 -1 -1  1  1  1  1  1  1  1 -1 -1  1  1  1 -1 -1  1  1  1  1 -1\n",
            " -1  1  1 -1  1  1  1 -1 -1  1  1  1 -1 -1 -1  1  1 -1  1  1  1  1 -1 -1\n",
            " -1 -1  1  1  1 -1  1 -1 -1  1  1  1 -1  1  1 -1  1  1  1  1 -1 -1 -1 -1\n",
            "  1 -1 -1 -1  1  1 -1 -1  1  1 -1  1  1  1  1 -1  1 -1  1 -1 -1 -1  1  1\n",
            " -1 -1  1  1 -1  1 -1  1 -1  1  1  1  1  1  1  1  1  1  1  1  1 -1 -1  1\n",
            "  1 -1  1 -1  1  1  1  1  1 -1  1  1  1  1 -1 -1  1  1 -1  1  1 -1 -1  1\n",
            "  1  1 -1 -1 -1 -1  1 -1  1  1 -1 -1 -1 -1  1 -1 -1  1  1 -1  1  1 -1  1\n",
            "  1 -1  1  1 -1 -1  1 -1 -1  1  1 -1 -1 -1  1  1  1  1  1  1 -1  1  1 -1\n",
            " -1  1  1 -1  1  1 -1  1 -1 -1  1 -1 -1  1  1 -1 -1  1 -1  1  1  1  1  1\n",
            "  1  1 -1  1 -1 -1 -1  1  1  1 -1  1  1  1  1  1  1 -1 -1  1 -1  1 -1 -1\n",
            " -1  1 -1 -1 -1 -1  1  1 -1  1 -1  1  1  1 -1 -1  1  1 -1 -1 -1  1 -1  1\n",
            " -1  1 -1 -1  1 -1  1  1 -1  1  1  1  1  1  1 -1 -1  1 -1 -1  1  1  1 -1\n",
            " -1  1 -1  1 -1  1 -1 -1 -1  1 -1  1 -1  1  1  1  1  1  1 -1  1 -1 -1 -1\n",
            "  1  1  1  1  1  1 -1  1  1  1 -1 -1  1  1  1  1 -1 -1 -1  1 -1 -1  1 -1\n",
            " -1 -1  1 -1  1  1  1 -1 -1 -1 -1 -1 -1 -1 -1 -1  1  1  1  1  1  1 -1 -1\n",
            "  1  1 -1 -1 -1  1 -1 -1 -1  1  1  1  1 -1 -1 -1 -1 -1  1  1 -1 -1  1 -1\n",
            "  1  1  1 -1  1  1 -1  1  1 -1  1  1  1  1  1  1  1 -1 -1  1  1 -1  1  1\n",
            "  1 -1  1 -1  1  1  1  1  1 -1 -1 -1  1  1  1 -1  1  1 -1 -1  1  1 -1  1\n",
            "  1 -1  1 -1  1 -1 -1 -1  1  1 -1 -1 -1  1  1 -1  1 -1  1 -1  1 -1 -1  1\n",
            "  1  1 -1 -1  1 -1  1  1 -1  1 -1  1  1  1  1 -1  1  1  1  1 -1 -1 -1 -1\n",
            "  1 -1  1  1  1  1 -1 -1  1 -1  1  1  1  1 -1 -1  1 -1 -1 -1 -1 -1  1 -1\n",
            " -1 -1  1  1  1 -1  1 -1 -1  1  1  1  1 -1 -1  1  1  1 -1 -1  1  1  1 -1\n",
            " -1 -1  1  1 -1  1  1 -1  1  1 -1 -1 -1  1 -1 -1 -1 -1 -1  1  1 -1  1 -1\n",
            "  1 -1 -1  1 -1  1  1  1 -1  1 -1 -1  1  1 -1  1  1  1 -1 -1 -1 -1  1 -1\n",
            "  1 -1 -1  1 -1 -1 -1  1  1  1  1 -1 -1  1  1  1 -1  1  1 -1  1 -1  1  1\n",
            "  1 -1  1 -1  1  1 -1 -1  1  1  1 -1 -1  1 -1 -1  1  1  1  1 -1]\n",
            "Performance on test data:  0.7363344051446945\n",
            "[-1  1  1 -1 -1  1  1  1  1 -1  1  1  1 -1  1 -1  1 -1  1 -1 -1 -1 -1  1\n",
            "  1 -1 -1 -1  1 -1  1 -1  1 -1  1  1  1 -1 -1  1  1  1  1 -1 -1  1 -1  1\n",
            "  1 -1 -1  1  1  1 -1 -1 -1 -1 -1  1  1 -1 -1 -1  1  1 -1 -1  1  1 -1 -1\n",
            " -1 -1 -1 -1 -1  1  1  1 -1 -1  1  1 -1  1 -1 -1 -1 -1 -1 -1 -1  1  1  1\n",
            " -1 -1  1 -1  1 -1 -1  1 -1 -1 -1 -1 -1  1  1  1 -1  1  1  1 -1 -1 -1 -1\n",
            "  1 -1 -1  1 -1  1 -1  1  1 -1 -1 -1  1  1 -1 -1  1  1 -1  1 -1 -1  1 -1\n",
            "  1 -1 -1 -1  1  1 -1 -1  1  1 -1 -1 -1 -1 -1 -1 -1  1  1  1 -1 -1  1 -1\n",
            " -1  1  1  1  1 -1 -1 -1  1  1  1  1 -1 -1  1  1 -1  1  1 -1 -1 -1  1 -1\n",
            " -1  1 -1  1 -1 -1 -1  1 -1  1 -1 -1 -1 -1  1  1  1 -1  1 -1 -1 -1  1 -1\n",
            "  1  1  1  1  1 -1  1  1 -1  1 -1  1  1  1  1 -1 -1  1 -1  1 -1 -1 -1 -1\n",
            " -1  1  1 -1 -1 -1  1 -1  1 -1 -1 -1  1  1 -1  1  1 -1 -1  1 -1  1  1 -1\n",
            "  1  1 -1 -1  1 -1 -1 -1 -1  1 -1 -1  1  1  1 -1 -1 -1 -1  1 -1  1  1  1\n",
            "  1 -1 -1  1 -1 -1 -1 -1 -1 -1 -1 -1  1  1 -1  1 -1  1  1  1  1 -1  1 -1\n",
            "  1 -1 -1  1  1  1  1  1  1 -1 -1  1 -1 -1 -1  1  1 -1 -1 -1  1  1  1  1\n",
            " -1  1  1  1  1  1 -1 -1  1  1  1  1 -1 -1 -1  1  1 -1  1  1 -1  1 -1 -1\n",
            " -1  1  1 -1 -1 -1 -1 -1 -1 -1 -1  1 -1 -1  1 -1  1 -1  1  1 -1  1 -1 -1\n",
            " -1 -1 -1 -1  1  1 -1 -1  1  1 -1  1 -1  1  1 -1  1 -1  1 -1 -1 -1 -1  1\n",
            " -1 -1  1  1 -1 -1  1 -1 -1 -1  1  1  1 -1  1  1  1  1  1 -1  1 -1  1  1\n",
            "  1 -1  1 -1  1 -1 -1  1  1 -1  1 -1  1  1 -1 -1 -1 -1 -1  1 -1 -1 -1  1\n",
            "  1  1  1 -1 -1 -1 -1 -1 -1  1 -1 -1 -1 -1  1 -1 -1  1 -1 -1 -1 -1  1  1\n",
            " -1 -1 -1  1 -1 -1  1 -1 -1 -1  1 -1 -1  1 -1  1  1  1  1  1 -1 -1  1 -1\n",
            " -1 -1  1 -1  1 -1 -1  1 -1 -1  1 -1  1 -1 -1  1 -1  1  1 -1  1  1  1  1\n",
            "  1 -1 -1  1 -1 -1  1  1  1 -1 -1 -1  1  1 -1 -1  1 -1  1 -1  1 -1 -1 -1\n",
            " -1  1 -1 -1 -1 -1  1  1 -1  1  1 -1 -1  1 -1 -1  1 -1 -1 -1 -1  1 -1 -1\n",
            " -1  1 -1  1 -1 -1  1  1 -1  1  1  1  1  1  1 -1 -1  1 -1 -1  1 -1  1 -1\n",
            " -1  1  1  1 -1 -1 -1 -1 -1 -1  1  1 -1  1 -1 -1  1  1  1 -1  1 -1 -1 -1\n",
            "  1  1 -1 -1  1  1 -1  1 -1 -1  1 -1  1 -1 -1  1 -1  1 -1 -1 -1 -1  1 -1\n",
            "  1 -1 -1 -1  1 -1  1  1 -1 -1 -1 -1 -1  1 -1 -1  1  1  1  1  1  1 -1 -1\n",
            "  1 -1 -1 -1 -1  1 -1 -1 -1  1  1  1 -1 -1 -1 -1 -1 -1  1  1 -1  1  1  1\n",
            "  1  1 -1  1  1 -1 -1  1  1 -1  1  1  1  1  1 -1  1 -1 -1  1  1 -1  1  1\n",
            "  1 -1 -1 -1 -1 -1  1  1  1 -1 -1 -1  1 -1  1 -1  1 -1 -1 -1  1  1  1  1\n",
            "  1 -1  1 -1 -1 -1 -1  1 -1 -1 -1 -1  1  1 -1 -1  1 -1 -1 -1  1  1  1  1\n",
            "  1 -1 -1 -1  1 -1  1 -1 -1  1 -1  1 -1 -1  1 -1 -1  1  1 -1 -1 -1 -1 -1\n",
            "  1 -1 -1 -1  1  1  1 -1  1 -1  1  1  1 -1 -1 -1  1  1 -1 -1 -1 -1  1  1\n",
            " -1 -1  1 -1  1 -1  1 -1  1 -1  1  1 -1 -1 -1  1  1 -1 -1 -1 -1  1 -1 -1\n",
            " -1 -1  1  1 -1  1  1 -1  1 -1  1 -1  1  1 -1 -1 -1 -1 -1  1 -1 -1  1 -1\n",
            " -1 -1 -1 -1  1 -1  1  1 -1  1  1 -1  1  1  1 -1 -1 -1  1 -1 -1 -1  1 -1\n",
            " -1  1 -1  1 -1 -1 -1  1  1  1 -1 -1 -1 -1  1  1 -1  1  1 -1  1 -1 -1  1\n",
            " -1 -1  1  1 -1  1 -1 -1  1  1 -1 -1 -1  1  1 -1  1 -1  1  1 -1]\n",
            "Performance on test data:  0.7792068595927116\n",
            "[-1  1  1 -1 -1  1 -1  1  1 -1  1  1  1 -1  1 -1  1 -1 -1 -1  1 -1 -1  1\n",
            "  1  1 -1 -1  1 -1  1 -1  1  1 -1  1  1 -1 -1  1  1  1  1 -1 -1  1  1  1\n",
            "  1 -1 -1  1  1  1 -1 -1 -1 -1 -1  1  1 -1 -1 -1  1  1 -1 -1  1  1 -1 -1\n",
            " -1 -1 -1 -1 -1  1  1  1 -1 -1  1  1 -1  1 -1 -1  1 -1 -1 -1 -1  1 -1  1\n",
            " -1 -1  1 -1  1 -1 -1  1 -1 -1 -1 -1 -1  1  1  1 -1  1  1  1 -1 -1  1 -1\n",
            " -1 -1  1  1 -1  1 -1  1  1 -1 -1 -1  1  1 -1 -1  1  1 -1  1 -1 -1  1 -1\n",
            "  1 -1 -1  1  1  1 -1  1  1  1 -1 -1 -1 -1 -1 -1 -1  1  1  1 -1 -1  1 -1\n",
            " -1  1 -1  1  1 -1 -1  1  1  1  1  1 -1 -1  1  1 -1  1  1 -1 -1 -1  1 -1\n",
            " -1  1 -1  1 -1 -1 -1  1 -1  1 -1  1 -1 -1  1  1  1 -1  1  1 -1 -1  1 -1\n",
            "  1  1  1  1  1 -1  1  1 -1  1  1  1  1  1  1 -1 -1  1 -1  1 -1  1 -1 -1\n",
            " -1  1  1 -1 -1 -1  1 -1  1 -1 -1 -1  1  1 -1  1  1  1 -1  1 -1  1  1  1\n",
            "  1  1  1 -1  1 -1  1 -1 -1  1 -1 -1  1  1  1 -1  1 -1 -1  1 -1  1  1  1\n",
            "  1 -1 -1 -1 -1 -1 -1 -1 -1 -1 -1 -1  1 -1  1  1  1  1  1  1  1 -1  1 -1\n",
            "  1 -1 -1  1  1  1  1  1  1 -1  1  1  1 -1 -1  1  1 -1 -1 -1  1  1  1  1\n",
            " -1  1  1  1  1  1 -1 -1  1  1  1  1 -1 -1 -1  1  1 -1  1  1  1  1 -1 -1\n",
            " -1  1  1 -1 -1 -1 -1 -1 -1  1  1  1 -1 -1  1 -1 -1  1  1  1 -1  1 -1 -1\n",
            " -1 -1 -1 -1  1  1 -1 -1  1  1 -1  1 -1  1  1 -1 -1 -1  1 -1 -1 -1  1  1\n",
            " -1 -1  1  1 -1 -1  1 -1 -1 -1  1  1  1 -1  1  1  1  1  1  1  1 -1  1  1\n",
            "  1 -1  1 -1  1 -1 -1  1  1 -1 -1 -1  1  1 -1 -1 -1 -1 -1  1 -1 -1  1  1\n",
            "  1  1  1 -1 -1 -1  1 -1 -1  1 -1 -1 -1 -1  1 -1 -1  1 -1 -1 -1 -1  1  1\n",
            " -1  1 -1  1 -1 -1  1 -1 -1  1  1 -1 -1 -1 -1  1  1  1  1  1 -1  1  1 -1\n",
            " -1 -1 -1 -1  1  1 -1  1 -1 -1  1 -1  1 -1 -1  1 -1  1 -1 -1  1  1  1  1\n",
            "  1  1 -1  1 -1 -1  1 -1  1 -1 -1 -1  1  1 -1 -1  1 -1  1 -1 -1  1 -1 -1\n",
            " -1  1 -1 -1 -1 -1  1  1 -1  1  1 -1 -1  1 -1 -1  1 -1 -1 -1 -1  1  1 -1\n",
            " -1  1 -1  1 -1 -1  1  1  1  1  1  1  1  1  1 -1 -1  1 -1 -1  1 -1  1 -1\n",
            " -1  1  1  1 -1 -1 -1 -1 -1 -1  1  1 -1 -1 -1 -1  1  1  1 -1  1 -1  1 -1\n",
            "  1  1  1 -1  1  1 -1  1  1  1  1 -1  1 -1  1 -1 -1  1 -1 -1 -1 -1  1 -1\n",
            "  1 -1  1 -1  1 -1  1  1 -1 -1 -1 -1 -1  1  1 -1  1  1  1  1  1  1 -1 -1\n",
            "  1 -1 -1 -1 -1  1 -1 -1 -1  1 -1  1 -1 -1 -1  1 -1 -1  1  1 -1  1  1  1\n",
            "  1  1 -1  1  1 -1  1  1  1  1  1  1  1  1  1 -1  1 -1 -1  1  1 -1  1  1\n",
            "  1 -1 -1 -1  1 -1  1  1  1 -1 -1 -1  1 -1 -1 -1  1 -1 -1 -1  1  1  1  1\n",
            "  1 -1  1 -1  1 -1 -1  1  1 -1 -1 -1  1  1 -1 -1  1 -1 -1 -1  1  1  1  1\n",
            "  1 -1 -1 -1  1 -1  1 -1 -1  1 -1  1 -1 -1  1 -1 -1  1  1 -1 -1 -1 -1 -1\n",
            "  1 -1 -1 -1  1  1  1 -1  1 -1  1  1  1 -1 -1 -1  1  1 -1 -1 -1 -1  1  1\n",
            " -1 -1  1 -1  1 -1  1 -1  1 -1  1  1 -1 -1 -1  1  1 -1 -1  1  1  1  1 -1\n",
            " -1 -1  1  1 -1 -1  1 -1  1 -1  1 -1  1  1 -1 -1 -1 -1 -1  1 -1 -1  1 -1\n",
            " -1 -1 -1 -1  1  1  1  1 -1  1  1 -1  1  1  1 -1  1 -1  1  1 -1 -1  1 -1\n",
            " -1  1 -1  1 -1 -1 -1  1  1  1  1 -1 -1 -1  1  1 -1  1  1 -1  1 -1 -1  1\n",
            " -1 -1  1  1 -1  1 -1 -1  1  1 -1 -1 -1  1  1  1  1 -1 -1  1 -1]\n",
            "Performance on test data:  0.7727759914255091\n"
          ]
        }
      ],
      "source": [
        "print(clf.predict(X_test))\n",
        "print(\"Performance on test data: \", clf.score(X_test, y_test))\n",
        "print(clf1.predict(X_test))\n",
        "print(\"Performance on test data: \", clf1.score(X_test, y_test))\n",
        "print(clf2.predict(X_test))\n",
        "print(\"Performance on test data: \", clf2.score(X_test, y_test))"
      ]
    },
    {
      "cell_type": "markdown",
      "source": [
        "Testing on Novel data"
      ],
      "metadata": {
        "id": "SwuGEDAhI0d2"
      }
    },
    {
      "cell_type": "code",
      "source": [
        "raw_text = [\"This application is remarkablly nice I like the interface and frequent updates that they give is very useful\",\"Worst application that I have ever used \",\"this application has lots of issues with the interface they to fix it asap\"]\n",
        "def classify(raw_text):\n",
        "  text = preprocess(raw_text)\n",
        "  text =  vectorizer.transform(text).toarray()\n",
        "  output = clf2.predict(text)\n",
        "  for x in range(0, len(output)):\n",
        "    if output[x] == 1:\n",
        "      print(raw_text[x],\" -->  Positive\",)\n",
        "    elif output[x] == -1:\n",
        "      print(raw_text[x],\" -->  Negative\",)\n",
        "    elif output[x] == 0:\n",
        "      print(raw_text[x],\" -->  Bug\",)\n",
        "classify(raw_text)\n",
        "x = []\n",
        "x.append(input(\"Enter your review : \"))\n",
        "classify(x)\n"
      ],
      "metadata": {
        "colab": {
          "base_uri": "https://localhost:8080/"
        },
        "id": "zeEP_w2bIzsX",
        "outputId": "924a436d-7174-41a3-b0e8-3c249907cc0b"
      },
      "execution_count": null,
      "outputs": [
        {
          "output_type": "stream",
          "name": "stdout",
          "text": [
            "This application is remarkablly nice I like the interface and frequent updates that they give is very useful  -->  Positive\n",
            "Worst application that I have ever used   -->  Negative\n",
            "this application has lots of issues with the interface they to fix it asap  -->  Bug\n",
            "Enter your review : I am facing lot of problems in my current os version try to fix this asap my version is android  oreo. please fix this issue asap\n",
            "I am facing lot of problems in my current os version try to fix this asap my version is android  oreo. please fix this issue asap  -->  Bug\n"
          ]
        }
      ]
    },
    {
      "cell_type": "markdown",
      "metadata": {
        "id": "tbsaz3n43ndz"
      },
      "source": [
        "Decision Tree using TFIDF vectorizer"
      ]
    },
    {
      "cell_type": "code",
      "execution_count": null,
      "metadata": {
        "colab": {
          "base_uri": "https://localhost:8080/"
        },
        "id": "C7sLyiBs3koN",
        "outputId": "348a4b5a-6a32-4989-f920-72514f108a71"
      },
      "outputs": [
        {
          "output_type": "stream",
          "name": "stdout",
          "text": [
            "              precision    recall  f1-score   support\n",
            "\n",
            "          -1       0.77      0.82      0.79       335\n",
            "           1       0.77      0.71      0.74       287\n",
            "\n",
            "    accuracy                           0.77       622\n",
            "   macro avg       0.77      0.77      0.77       622\n",
            "weighted avg       0.77      0.77      0.77       622\n",
            "\n",
            "              precision    recall  f1-score   support\n",
            "\n",
            "          -1       0.80      0.70      0.75       335\n",
            "           1       0.69      0.79      0.74       287\n",
            "\n",
            "    accuracy                           0.74       622\n",
            "   macro avg       0.75      0.75      0.74       622\n",
            "weighted avg       0.75      0.74      0.74       622\n",
            "\n",
            "Performance on test data:  0.770096463022508\n",
            "Performance on test data:  0.7427652733118971\n"
          ]
        }
      ],
      "source": [
        "# Read the data into a pandas DataFrame\n",
        "data = pd.read_csv('Final_data_PN.csv')\n",
        "data = data.dropna()\n",
        "\n",
        "# Split the data into features and target\n",
        "X = data['comment']\n",
        "y = data['target']\n",
        "\n",
        "# Split the data into training and testing sets\n",
        "X_train, X_test, y_train, y_test = train_test_split(X, y, test_size=0.2, random_state=40)\n",
        "\n",
        "# Create a TF-IDF vectorizer\n",
        "vectorizer = TfidfVectorizer()\n",
        "\n",
        "# Fit and transform the training data\n",
        "X_train_tfidf = vectorizer.fit_transform(X_train)\n",
        "\n",
        "# Transform the testing data\n",
        "X_test_tfidf = vectorizer.transform(X_test)\n",
        "\n",
        "\n",
        "# Create a decision tree classifier\n",
        "classifier = DecisionTreeClassifier(criterion='entropy', splitter='random',max_depth = 38,random_state=35)\n",
        "\n",
        "# Train the classifier\n",
        "classifier.fit(X_train_tfidf, y_train)\n",
        "\n",
        "classifier1 = DecisionTreeClassifier()\n",
        "classifier1.fit(X_train_tfidf, y_train)\n",
        "\n",
        "# Predict on the testing data\n",
        "y_pred = classifier.predict(X_test_tfidf)\n",
        "y_pred1 = classifier1.predict(X_test_tfidf)\n",
        "\n",
        "# Evaluate the model\n",
        "report = classification_report(y_test, y_pred)\n",
        "print(report)\n",
        "report = classification_report(y_test, y_pred1)\n",
        "print(report)\n",
        "print(\"Performance on test data: \", classifier.score(X_test_tfidf, y_test))\n",
        "print(\"Performance on test data: \", classifier1.score(X_test_tfidf, y_test))"
      ]
    },
    {
      "cell_type": "code",
      "source": [
        "raw_text = [\"This application is remarkablly nice I like the interface and frequent updates that they give is very useful\",\"Worst application that I have ever used\",\"this application has lots of issues with the interface they to fix it asap\"]\n",
        "def classify(raw_text):\n",
        "  text = preprocess(raw_text)\n",
        "  text =  vectorizer.transform(text).toarray()\n",
        "  output = classifier1.predict(text)\n",
        "  for x in range(0, len(output)):\n",
        "    if output[x] == 1:\n",
        "      print(raw_text[x],\" -->  Positive\",)\n",
        "    elif output[x] == -1:\n",
        "      print(raw_text[x],\" -->  Negative\",)\n",
        "    elif output[x] == 0:\n",
        "      print(raw_text[x],\" -->  Bug\",)\n",
        "classify(raw_text)\n",
        "x = []\n",
        "x.append(input(\"Enter your review : \"))\n",
        "classify(x)\n"
      ],
      "metadata": {
        "colab": {
          "base_uri": "https://localhost:8080/"
        },
        "id": "NhbVKbmdVtdI",
        "outputId": "9cbf312f-1541-43e2-87e0-a94bded607da"
      },
      "execution_count": null,
      "outputs": [
        {
          "output_type": "stream",
          "name": "stdout",
          "text": [
            "This application is remarkablly nice I like the interface and frequent updates that they give is very useful  -->  Positive\n",
            "Worst application that I have ever used  -->  Negative\n",
            "this application has lots of issues with the interface they to fix it asap  -->  Negative\n",
            "Enter your review : I am facing lot of problems in my current os version try to fix this asap my version is android  oreo. please fix this issue asap\n",
            "I am facing lot of problems in my current os version try to fix this asap my version is android  oreo. please fix this issue asap  -->  Negative\n"
          ]
        }
      ]
    },
    {
      "cell_type": "markdown",
      "metadata": {
        "id": "bau50nKa39hn"
      },
      "source": [
        "Decision tree using WordtoVec"
      ]
    },
    {
      "cell_type": "code",
      "execution_count": null,
      "metadata": {
        "id": "MY9Ranog32_X"
      },
      "outputs": [],
      "source": [
        "from gensim.models import Word2Vec\n",
        "\n",
        "# Load your dataset\n",
        "data = pd.read_csv('Final_data_PN.csv')\n",
        "\n",
        "# Preprocess the dataset (tokenization)\n",
        "tokenized_data = [str(doc).split() for doc in preprocess(data['comment'])]\n",
        "\n",
        "# Train Word2Vec model\n",
        "model = Word2Vec(tokenized_data, min_count=1, window=5, workers=4)\n",
        "\n",
        "# Vectorize the comments in the dataset\n",
        "vectorized_data = [np.mean([model.wv[word] for word in doc if word in model.wv] or [np.zeros(model.vector_size)], axis=0)\n",
        "                   for doc in tokenized_data]\n",
        "\n",
        "# Concatenate the vectorized data with the target column\n",
        "vectorized_data = np.vstack(vectorized_data)\n",
        "vectorized_data = np.hstack((vectorized_data, data['target'].values.reshape(-1, 1)))\n",
        "\n",
        "# Split the data into training and testing sets\n",
        "X = vectorized_data[:, :-1]\n",
        "y = vectorized_data[:, -1]\n",
        "X_train, X_test, y_train, y_test = train_test_split(X, y, test_size=0.2, random_state=42)\n"
      ]
    },
    {
      "cell_type": "code",
      "execution_count": null,
      "metadata": {
        "colab": {
          "base_uri": "https://localhost:8080/"
        },
        "id": "YXPs6SKI4C7P",
        "outputId": "0fcee6f7-6d6f-446f-fd86-d5b0f8edb584"
      },
      "outputs": [
        {
          "output_type": "stream",
          "name": "stdout",
          "text": [
            "              precision    recall  f1-score   support\n",
            "\n",
            "        -1.0       0.67      0.68      0.68       332\n",
            "         1.0       0.63      0.61      0.62       290\n",
            "\n",
            "    accuracy                           0.65       622\n",
            "   macro avg       0.65      0.65      0.65       622\n",
            "weighted avg       0.65      0.65      0.65       622\n",
            "\n",
            "Performance on test data:  0.6511254019292605\n"
          ]
        }
      ],
      "source": [
        "# Train a decision tree classifier\n",
        "classifier = DecisionTreeClassifier(criterion='entropy', splitter='random',max_depth = 38,random_state=35)\n",
        "classifier.fit(X_train, y_train)\n",
        "\n",
        "# Make predictions on the test set\n",
        "y_pred = classifier.predict(X_test)\n",
        "\n",
        "# Evaluate the classifier\n",
        "print(classification_report(y_test, y_pred))\n",
        "print(\"Performance on test data: \", classifier.score(X_test, y_test))\n"
      ]
    },
    {
      "cell_type": "markdown",
      "metadata": {
        "id": "1jU7UBSa7aWV"
      },
      "source": [
        "Using BERT"
      ]
    },
    {
      "cell_type": "code",
      "execution_count": null,
      "metadata": {
        "id": "o1bmK48v7HJC"
      },
      "outputs": [],
      "source": [
        "# Load the dataset\n",
        "data = pd.read_csv('Final_data.csv')\n",
        "\n",
        "# Split the dataset into training and testing sets\n",
        "train_data, test_data, train_labels, test_labels = train_test_split(\n",
        "    preprocess(data['comment']), data['target'], test_size=0.2, random_state=42\n",
        ")\n"
      ]
    },
    {
      "cell_type": "code",
      "execution_count": null,
      "metadata": {
        "id": "6JFb1ine7J4_",
        "colab": {
          "base_uri": "https://localhost:8080/",
          "height": 217,
          "referenced_widgets": [
            "3730fd293526449691dbb0fc8b5edb7e",
            "091067d6697541a9aff05a632202cfaa",
            "1454c0a3eab246f3a2849aa563af2d89",
            "bdd0fdc89b694aa2bbbdd1cce860f042",
            "5f0087fcece448b8b1808efe1c81bb28",
            "53395fa36a284d71ab5e37092184d04d",
            "0613a5030a6c4038aac35f179bb1a421",
            "db1162509ad94ae8b249eea2271d3a2e",
            "c005108b5ff94c8185b3968f6d5cc126",
            "4254549da9b649eb9774766fc9dde9f2",
            "b60574cd7ae8410ea0b58dbfefb1a644",
            "1195fba915d448fa8bfe319954ff19a8",
            "d77d411d47034fc1a7c998e54c427bbb",
            "40e3cbb04e3243ecaa6e78501fb4d2f6",
            "290af967e58a4ec586b0dc1da877eb49",
            "869cd6d5bd6a4b7dba138d3eebf8173f",
            "becb7a8acce8434db41c04ff4ad0eae9",
            "a685ed3ab53c479e8d7f1310a6954d53",
            "09cd473ee5a74af3bd988996b8ebdf65",
            "53bb6cb7d61c439aa6ddcf2bd4c4d78d",
            "d8e0df38ee5f4dd7bfe5ee11715eaea9",
            "affe990ba08c400f8f27873159039ced",
            "db9a840d19a543afad8e34417075559b",
            "37459ffc68534d24add7267f106848d5",
            "bea479fd55b3461abc5faca1567639de",
            "9a734734d858486c95b84bb5225ad1b2",
            "f4cb9b5e1e9c459a8454feeaf66bb07d",
            "a6612496e520449394460dd9f2d5a679",
            "4e57ee77e3584b13ae171e68f07db4e6",
            "c97ed455abb24e5a9d4d9c69dc34291e",
            "6053adb6900d4addb8af347df187ccf1",
            "a44acff64c434f218c777673b40980ce",
            "2d1851282b6b4668822b1b795393e076",
            "1b42eb5a0cd049ebad5a7e4a0ada7dd5",
            "f5c1fbf924144fcdb59db5b8f2c6d6f4",
            "5d543988df7744aaad14d7fc5e5cd5d0",
            "024d9c3031ec48a08a32de01260706df",
            "c6b6b1836f9c4590a5fa13bbb3890509",
            "64f191c2b3244ae79cb29560dd12c968",
            "1eac0c0494624e3ab387598a40b878b6",
            "9c5afb4ce99945d084b9b9a2faeff0cd",
            "7bd52a21afbe4e9593b823b002b194aa",
            "3ed9af98ccbd428fa0908ca2809eabe3",
            "81813b383723463685435166b179ec5d"
          ]
        },
        "outputId": "3bdca23c-0098-49d9-bb6f-8fdce6327ac6"
      },
      "outputs": [
        {
          "output_type": "display_data",
          "data": {
            "text/plain": [
              "Downloading (…)solve/main/vocab.txt: 0.00B [00:00, ?B/s]"
            ],
            "application/vnd.jupyter.widget-view+json": {
              "version_major": 2,
              "version_minor": 0,
              "model_id": "3730fd293526449691dbb0fc8b5edb7e"
            }
          },
          "metadata": {}
        },
        {
          "output_type": "display_data",
          "data": {
            "text/plain": [
              "Downloading (…)okenizer_config.json:   0%|          | 0.00/28.0 [00:00<?, ?B/s]"
            ],
            "application/vnd.jupyter.widget-view+json": {
              "version_major": 2,
              "version_minor": 0,
              "model_id": "1195fba915d448fa8bfe319954ff19a8"
            }
          },
          "metadata": {}
        },
        {
          "output_type": "display_data",
          "data": {
            "text/plain": [
              "Downloading (…)lve/main/config.json:   0%|          | 0.00/570 [00:00<?, ?B/s]"
            ],
            "application/vnd.jupyter.widget-view+json": {
              "version_major": 2,
              "version_minor": 0,
              "model_id": "db9a840d19a543afad8e34417075559b"
            }
          },
          "metadata": {}
        },
        {
          "output_type": "display_data",
          "data": {
            "text/plain": [
              "Downloading model.safetensors:   0%|          | 0.00/440M [00:00<?, ?B/s]"
            ],
            "application/vnd.jupyter.widget-view+json": {
              "version_major": 2,
              "version_minor": 0,
              "model_id": "1b42eb5a0cd049ebad5a7e4a0ada7dd5"
            }
          },
          "metadata": {}
        },
        {
          "output_type": "stream",
          "name": "stderr",
          "text": [
            "Some weights of the model checkpoint at bert-base-uncased were not used when initializing BertModel: ['cls.seq_relationship.weight', 'cls.predictions.transform.LayerNorm.weight', 'cls.predictions.transform.LayerNorm.bias', 'cls.predictions.transform.dense.bias', 'cls.predictions.bias', 'cls.predictions.transform.dense.weight', 'cls.seq_relationship.bias']\n",
            "- This IS expected if you are initializing BertModel from the checkpoint of a model trained on another task or with another architecture (e.g. initializing a BertForSequenceClassification model from a BertForPreTraining model).\n",
            "- This IS NOT expected if you are initializing BertModel from the checkpoint of a model that you expect to be exactly identical (initializing a BertForSequenceClassification model from a BertForSequenceClassification model).\n"
          ]
        }
      ],
      "source": [
        "# Load the BERT tokenizer\n",
        "tokenizer = BertTokenizer.from_pretrained('bert-base-uncased')\n",
        "\n",
        "# Load the BERT model\n",
        "model = BertModel.from_pretrained('bert-base-uncased')"
      ]
    },
    {
      "cell_type": "code",
      "execution_count": null,
      "metadata": {
        "id": "qauAqqpS7LX7"
      },
      "outputs": [],
      "source": [
        "import torch\n",
        "def vectorize_text(text):\n",
        "    # Tokenize the text\n",
        "    tokens = tokenizer.encode(text, add_special_tokens=True)\n",
        "\n",
        "    # Convert tokenized input to tensors\n",
        "    input_ids = torch.tensor(tokens).unsqueeze(0)\n",
        "\n",
        "    # Forward pass through the BERT model\n",
        "    outputs = model(input_ids)\n",
        "\n",
        "    # Extract the pooled output (CLS token)\n",
        "    pooled_output = outputs.pooler_output\n",
        "\n",
        "    return pooled_output.detach().numpy()\n",
        "\n",
        "# Vectorize the training and testing data\n",
        "train_vectors = [vectorize_text(text) for text in train_data]\n",
        "test_vectors = [vectorize_text(text) for text in test_data]"
      ]
    },
    {
      "cell_type": "code",
      "execution_count": null,
      "metadata": {
        "id": "W9LZyFRl7Oi6",
        "colab": {
          "base_uri": "https://localhost:8080/",
          "height": 92
        },
        "outputId": "36a22748-7c84-49a9-d91d-c55cbc356c13"
      },
      "outputs": [
        {
          "output_type": "execute_result",
          "data": {
            "text/plain": [
              "DecisionTreeClassifier(criterion='entropy', max_depth=32, random_state=42,\n",
              "                       splitter='random')"
            ],
            "text/html": [
              "<style>#sk-container-id-1 {color: black;background-color: white;}#sk-container-id-1 pre{padding: 0;}#sk-container-id-1 div.sk-toggleable {background-color: white;}#sk-container-id-1 label.sk-toggleable__label {cursor: pointer;display: block;width: 100%;margin-bottom: 0;padding: 0.3em;box-sizing: border-box;text-align: center;}#sk-container-id-1 label.sk-toggleable__label-arrow:before {content: \"▸\";float: left;margin-right: 0.25em;color: #696969;}#sk-container-id-1 label.sk-toggleable__label-arrow:hover:before {color: black;}#sk-container-id-1 div.sk-estimator:hover label.sk-toggleable__label-arrow:before {color: black;}#sk-container-id-1 div.sk-toggleable__content {max-height: 0;max-width: 0;overflow: hidden;text-align: left;background-color: #f0f8ff;}#sk-container-id-1 div.sk-toggleable__content pre {margin: 0.2em;color: black;border-radius: 0.25em;background-color: #f0f8ff;}#sk-container-id-1 input.sk-toggleable__control:checked~div.sk-toggleable__content {max-height: 200px;max-width: 100%;overflow: auto;}#sk-container-id-1 input.sk-toggleable__control:checked~label.sk-toggleable__label-arrow:before {content: \"▾\";}#sk-container-id-1 div.sk-estimator input.sk-toggleable__control:checked~label.sk-toggleable__label {background-color: #d4ebff;}#sk-container-id-1 div.sk-label input.sk-toggleable__control:checked~label.sk-toggleable__label {background-color: #d4ebff;}#sk-container-id-1 input.sk-hidden--visually {border: 0;clip: rect(1px 1px 1px 1px);clip: rect(1px, 1px, 1px, 1px);height: 1px;margin: -1px;overflow: hidden;padding: 0;position: absolute;width: 1px;}#sk-container-id-1 div.sk-estimator {font-family: monospace;background-color: #f0f8ff;border: 1px dotted black;border-radius: 0.25em;box-sizing: border-box;margin-bottom: 0.5em;}#sk-container-id-1 div.sk-estimator:hover {background-color: #d4ebff;}#sk-container-id-1 div.sk-parallel-item::after {content: \"\";width: 100%;border-bottom: 1px solid gray;flex-grow: 1;}#sk-container-id-1 div.sk-label:hover label.sk-toggleable__label {background-color: #d4ebff;}#sk-container-id-1 div.sk-serial::before {content: \"\";position: absolute;border-left: 1px solid gray;box-sizing: border-box;top: 0;bottom: 0;left: 50%;z-index: 0;}#sk-container-id-1 div.sk-serial {display: flex;flex-direction: column;align-items: center;background-color: white;padding-right: 0.2em;padding-left: 0.2em;position: relative;}#sk-container-id-1 div.sk-item {position: relative;z-index: 1;}#sk-container-id-1 div.sk-parallel {display: flex;align-items: stretch;justify-content: center;background-color: white;position: relative;}#sk-container-id-1 div.sk-item::before, #sk-container-id-1 div.sk-parallel-item::before {content: \"\";position: absolute;border-left: 1px solid gray;box-sizing: border-box;top: 0;bottom: 0;left: 50%;z-index: -1;}#sk-container-id-1 div.sk-parallel-item {display: flex;flex-direction: column;z-index: 1;position: relative;background-color: white;}#sk-container-id-1 div.sk-parallel-item:first-child::after {align-self: flex-end;width: 50%;}#sk-container-id-1 div.sk-parallel-item:last-child::after {align-self: flex-start;width: 50%;}#sk-container-id-1 div.sk-parallel-item:only-child::after {width: 0;}#sk-container-id-1 div.sk-dashed-wrapped {border: 1px dashed gray;margin: 0 0.4em 0.5em 0.4em;box-sizing: border-box;padding-bottom: 0.4em;background-color: white;}#sk-container-id-1 div.sk-label label {font-family: monospace;font-weight: bold;display: inline-block;line-height: 1.2em;}#sk-container-id-1 div.sk-label-container {text-align: center;}#sk-container-id-1 div.sk-container {/* jupyter's `normalize.less` sets `[hidden] { display: none; }` but bootstrap.min.css set `[hidden] { display: none !important; }` so we also need the `!important` here to be able to override the default hidden behavior on the sphinx rendered scikit-learn.org. See: https://github.com/scikit-learn/scikit-learn/issues/21755 */display: inline-block !important;position: relative;}#sk-container-id-1 div.sk-text-repr-fallback {display: none;}</style><div id=\"sk-container-id-1\" class=\"sk-top-container\"><div class=\"sk-text-repr-fallback\"><pre>DecisionTreeClassifier(criterion=&#x27;entropy&#x27;, max_depth=32, random_state=42,\n",
              "                       splitter=&#x27;random&#x27;)</pre><b>In a Jupyter environment, please rerun this cell to show the HTML representation or trust the notebook. <br />On GitHub, the HTML representation is unable to render, please try loading this page with nbviewer.org.</b></div><div class=\"sk-container\" hidden><div class=\"sk-item\"><div class=\"sk-estimator sk-toggleable\"><input class=\"sk-toggleable__control sk-hidden--visually\" id=\"sk-estimator-id-1\" type=\"checkbox\" checked><label for=\"sk-estimator-id-1\" class=\"sk-toggleable__label sk-toggleable__label-arrow\">DecisionTreeClassifier</label><div class=\"sk-toggleable__content\"><pre>DecisionTreeClassifier(criterion=&#x27;entropy&#x27;, max_depth=32, random_state=42,\n",
              "                       splitter=&#x27;random&#x27;)</pre></div></div></div></div></div>"
            ]
          },
          "metadata": {},
          "execution_count": 83
        }
      ],
      "source": [
        "train_vectors = np.reshape(train_vectors, (len(train_vectors), -1))\n",
        "test_vectors = np.reshape(test_vectors, (len(test_vectors), -1))\n",
        "\n",
        "# Create the decision tree classifier\n",
        "classifier = DecisionTreeClassifier(criterion='entropy', splitter='random',max_depth = 32,random_state=42)\n",
        "\n",
        "# Train the classifier\n",
        "\n",
        "\n",
        "classifier.fit(train_vectors, train_labels)"
      ]
    },
    {
      "cell_type": "code",
      "execution_count": null,
      "metadata": {
        "id": "9j3V1DHT7TVG",
        "colab": {
          "base_uri": "https://localhost:8080/"
        },
        "outputId": "fad15b6a-1b7f-4afd-e223-9fdedb173fd9"
      },
      "outputs": [
        {
          "output_type": "stream",
          "name": "stdout",
          "text": [
            "              precision    recall  f1-score   support\n",
            "\n",
            "          -1       0.51      0.52      0.51       234\n",
            "           0       0.31      0.25      0.28       141\n",
            "           1       0.50      0.56      0.53       225\n",
            "\n",
            "    accuracy                           0.47       600\n",
            "   macro avg       0.44      0.44      0.44       600\n",
            "weighted avg       0.46      0.47      0.46       600\n",
            "\n"
          ]
        }
      ],
      "source": [
        "# Make predictions on the testing data\n",
        "predictions = classifier.predict(test_vectors)\n",
        "\n",
        "# Print classification report\n",
        "print(classification_report(test_labels, predictions))"
      ]
    },
    {
      "cell_type": "markdown",
      "source": [
        "K-nearest neighbour approach"
      ],
      "metadata": {
        "id": "pKJTu2QbGrJ2"
      }
    },
    {
      "cell_type": "code",
      "execution_count": null,
      "metadata": {
        "colab": {
          "base_uri": "https://localhost:8080/"
        },
        "id": "5On3ZFUWDnEN",
        "outputId": "8f5ba14e-11e3-41c4-abb1-7e0be3c1696c"
      },
      "outputs": [
        {
          "output_type": "stream",
          "name": "stdout",
          "text": [
            "Accuracy: 0.8295819935691319\n"
          ]
        }
      ],
      "source": [
        "from sklearn.neighbors import KNeighborsClassifier\n",
        "from sklearn.metrics import accuracy_score\n",
        "\n",
        "# Read the data into a pandas DataFrame\n",
        "data = pd.read_csv('Final_data_PN.csv')\n",
        "data = data.dropna()\n",
        "\n",
        "# Split the data into features and target\n",
        "X = preprocess(data['comment'])\n",
        "y = data['target']\n",
        "\n",
        "# Split the data into training and testing sets\n",
        "X_train, X_test, y_train, y_test = train_test_split(X, y, test_size=0.3, random_state=40)\n",
        "\n",
        "# Create a TF-IDF vectorizer\n",
        "vectorizer = TfidfVectorizer()\n",
        "\n",
        "# Fit and transform the training data\n",
        "X_train_tfidf = vectorizer.fit_transform(X_train)\n",
        "\n",
        "# Transform the testing data\n",
        "X_test_tfidf = vectorizer.transform(X_test)\n",
        "\n",
        "# Convert the target labels to numerical values\n",
        "y_train_num = np.array(y_train)\n",
        "y_test_num = np.array(y_test)\n",
        "\n",
        "\n",
        "# Create and train the KNN classifier\n",
        "knn = KNeighborsClassifier(n_neighbors=12)\n",
        "knn.fit(X_train_tfidf, y_train_num)\n",
        "\n",
        "# Predict the labels for the test data\n",
        "y_pred = knn.predict(X_test_tfidf)\n",
        "\n",
        "# Calculate the accuracy of the model\n",
        "accuracy = accuracy_score(y_test_num, y_pred)\n",
        "print(\"Accuracy:\", accuracy)\n"
      ]
    },
    {
      "cell_type": "code",
      "source": [
        "raw_text = [\"This application is remarkablly nice I like the interface and frequent updates that they give is very useful\",\"Worst application that I have ever used\",\"this application has lots of issues and glitches with the interface they to fix it asap\"]\n",
        "def classify(raw_text):\n",
        "  text = preprocess(raw_text)\n",
        "  text =  vectorizer.transform(text).toarray()\n",
        "  output = knn.predict(text)\n",
        "  for x in range(0, len(output)):\n",
        "    if output[x] == 1:\n",
        "      print(raw_text[x],\" -->  Positive\",)\n",
        "    elif output[x] == -1:\n",
        "      print(raw_text[x],\" -->  Negative\",)\n",
        "    elif output[x] == 0:\n",
        "      print(raw_text[x],\" -->  Bug\",)\n",
        "classify(raw_text)\n",
        "x = []\n",
        "x.append(input(\"Enter your review : \"))\n",
        "classify(x)"
      ],
      "metadata": {
        "colab": {
          "base_uri": "https://localhost:8080/"
        },
        "id": "xkH6phq9c_WM",
        "outputId": "c2cd7e38-8a31-4930-cace-b28f4ba29602"
      },
      "execution_count": null,
      "outputs": [
        {
          "output_type": "stream",
          "name": "stdout",
          "text": [
            "This application is remarkablly nice I like the interface and frequent updates that they give is very useful  -->  Positive\n",
            "Worst application that I have ever used  -->  Negative\n",
            "this application has lots of issues and glitches with the interface they to fix it asap  -->  Bug\n",
            "Enter your review :  I am facing lot of problems in my current os version try to fix this asap my version is android  oreo. please fix this issue asap\n",
            " I am facing lot of problems in my current os version try to fix this asap my version is android  oreo. please fix this issue asap  -->  Bug\n"
          ]
        }
      ]
    },
    {
      "cell_type": "code",
      "execution_count": null,
      "metadata": {
        "colab": {
          "base_uri": "https://localhost:8080/",
          "height": 564
        },
        "id": "2QKFiIy_Jh1G",
        "outputId": "e50887a1-ae72-455f-812c-cc27a96e6230"
      },
      "outputs": [
        {
          "output_type": "display_data",
          "data": {
            "text/plain": [
              "<Figure size 800x600 with 2 Axes>"
            ],
            "image/png": "[encoded data removed]"
          },
          "metadata": {}
        }
      ],
      "source": [
        "import matplotlib.pyplot as plt\n",
        "from sklearn.decomposition import PCA\n",
        "\n",
        "# Apply PCA to reduce the data to two dimensions\n",
        "pca = PCA(n_components=2)\n",
        "X_train_pca = pca.fit_transform(X_train_tfidf.toarray())\n",
        "\n",
        "# Create a scatter plot of the reduced data\n",
        "plt.figure(figsize=(8, 6))\n",
        "plt.scatter(X_train_pca[:, 0], X_train_pca[:, 1], c=y_train_num, cmap='viridis')\n",
        "plt.xlabel('Principal Component 1')\n",
        "plt.ylabel('Principal Component 2')\n",
        "plt.title('KNN Clustering - PCA')\n",
        "plt.colorbar()\n",
        "plt.show()"
      ]
    }
  ],
  "metadata": {
    "colab": {
      "provenance": [],
      "include_colab_link": true
    },
    "kernelspec": {
      "display_name": "Python 3",
      "name": "python3"
    },
    "language_info": {
      "name": "python"
    },
    "widgets": {
      "application/vnd.jupyter.widget-state+json": {
        "3730fd293526449691dbb0fc8b5edb7e": {
          "model_module": "@jupyter-widgets/controls",
          "model_name": "HBoxModel",
          "model_module_version": "1.5.0",
          "state": {
            "_dom_classes": [],
            "_model_module": "@jupyter-widgets/controls",
            "_model_module_version": "1.5.0",
            "_model_name": "HBoxModel",
            "_view_count": null,
            "_view_module": "@jupyter-widgets/controls",
            "_view_module_version": "1.5.0",
            "_view_name": "HBoxView",
            "box_style": "",
            "children": [
              "IPY_MODEL_091067d6697541a9aff05a632202cfaa",
              "IPY_MODEL_1454c0a3eab246f3a2849aa563af2d89",
              "IPY_MODEL_bdd0fdc89b694aa2bbbdd1cce860f042"
            ],
            "layout": "IPY_MODEL_5f0087fcece448b8b1808efe1c81bb28"
          }
        },
        "091067d6697541a9aff05a632202cfaa": {
          "model_module": "@jupyter-widgets/controls",
          "model_name": "HTMLModel",
          "model_module_version": "1.5.0",
          "state": {
            "_dom_classes": [],
            "_model_module": "@jupyter-widgets/controls",
            "_model_module_version": "1.5.0",
            "_model_name": "HTMLModel",
            "_view_count": null,
            "_view_module": "@jupyter-widgets/controls",
            "_view_module_version": "1.5.0",
            "_view_name": "HTMLView",
            "description": "",
            "description_tooltip": null,
            "layout": "IPY_MODEL_53395fa36a284d71ab5e37092184d04d",
            "placeholder": "​",
            "style": "IPY_MODEL_0613a5030a6c4038aac35f179bb1a421",
            "value": "Downloading (…)solve/main/vocab.txt: "
          }
        },
        "1454c0a3eab246f3a2849aa563af2d89": {
          "model_module": "@jupyter-widgets/controls",
          "model_name": "FloatProgressModel",
          "model_module_version": "1.5.0",
          "state": {
            "_dom_classes": [],
            "_model_module": "@jupyter-widgets/controls",
            "_model_module_version": "1.5.0",
            "_model_name": "FloatProgressModel",
            "_view_count": null,
            "_view_module": "@jupyter-widgets/controls",
            "_view_module_version": "1.5.0",
            "_view_name": "ProgressView",
            "bar_style": "success",
            "description": "",
            "description_tooltip": null,
            "layout": "IPY_MODEL_db1162509ad94ae8b249eea2271d3a2e",
            "max": 1,
            "min": 0,
            "orientation": "horizontal",
            "style": "IPY_MODEL_c005108b5ff94c8185b3968f6d5cc126",
            "value": 1
          }
        },
        "bdd0fdc89b694aa2bbbdd1cce860f042": {
          "model_module": "@jupyter-widgets/controls",
          "model_name": "HTMLModel",
          "model_module_version": "1.5.0",
          "state": {
            "_dom_classes": [],
            "_model_module": "@jupyter-widgets/controls",
            "_model_module_version": "1.5.0",
            "_model_name": "HTMLModel",
            "_view_count": null,
            "_view_module": "@jupyter-widgets/controls",
            "_view_module_version": "1.5.0",
            "_view_name": "HTMLView",
            "description": "",
            "description_tooltip": null,
            "layout": "IPY_MODEL_4254549da9b649eb9774766fc9dde9f2",
            "placeholder": "​",
            "style": "IPY_MODEL_b60574cd7ae8410ea0b58dbfefb1a644",
            "value": " 232k/? [00:00&lt;00:00, 3.26MB/s]"
          }
        },
        "5f0087fcece448b8b1808efe1c81bb28": {
          "model_module": "@jupyter-widgets/base",
          "model_name": "LayoutModel",
          "model_module_version": "1.2.0",
          "state": {
            "_model_module": "@jupyter-widgets/base",
            "_model_module_version": "1.2.0",
            "_model_name": "LayoutModel",
            "_view_count": null,
            "_view_module": "@jupyter-widgets/base",
            "_view_module_version": "1.2.0",
            "_view_name": "LayoutView",
            "align_content": null,
            "align_items": null,
            "align_self": null,
            "border": null,
            "bottom": null,
            "display": null,
            "flex": null,
            "flex_flow": null,
            "grid_area": null,
            "grid_auto_columns": null,
            "grid_auto_flow": null,
            "grid_auto_rows": null,
            "grid_column": null,
            "grid_gap": null,
            "grid_row": null,
            "grid_template_areas": null,
            "grid_template_columns": null,
            "grid_template_rows": null,
            "height": null,
            "justify_content": null,
            "justify_items": null,
            "left": null,
            "margin": null,
            "max_height": null,
            "max_width": null,
            "min_height": null,
            "min_width": null,
            "object_fit": null,
            "object_position": null,
            "order": null,
            "overflow": null,
            "overflow_x": null,
            "overflow_y": null,
            "padding": null,
            "right": null,
            "top": null,
            "visibility": null,
            "width": null
          }
        },
        "53395fa36a284d71ab5e37092184d04d": {
          "model_module": "@jupyter-widgets/base",
          "model_name": "LayoutModel",
          "model_module_version": "1.2.0",
          "state": {
            "_model_module": "@jupyter-widgets/base",
            "_model_module_version": "1.2.0",
            "_model_name": "LayoutModel",
            "_view_count": null,
            "_view_module": "@jupyter-widgets/base",
            "_view_module_version": "1.2.0",
            "_view_name": "LayoutView",
            "align_content": null,
            "align_items": null,
            "align_self": null,
            "border": null,
            "bottom": null,
            "display": null,
            "flex": null,
            "flex_flow": null,
            "grid_area": null,
            "grid_auto_columns": null,
            "grid_auto_flow": null,
            "grid_auto_rows": null,
            "grid_column": null,
            "grid_gap": null,
            "grid_row": null,
            "grid_template_areas": null,
            "grid_template_columns": null,
            "grid_template_rows": null,
            "height": null,
            "justify_content": null,
            "justify_items": null,
            "left": null,
            "margin": null,
            "max_height": null,
            "max_width": null,
            "min_height": null,
            "min_width": null,
            "object_fit": null,
            "object_position": null,
            "order": null,
            "overflow": null,
            "overflow_x": null,
            "overflow_y": null,
            "padding": null,
            "right": null,
            "top": null,
            "visibility": null,
            "width": null
          }
        },
        "0613a5030a6c4038aac35f179bb1a421": {
          "model_module": "@jupyter-widgets/controls",
          "model_name": "DescriptionStyleModel",
          "model_module_version": "1.5.0",
          "state": {
            "_model_module": "@jupyter-widgets/controls",
            "_model_module_version": "1.5.0",
            "_model_name": "DescriptionStyleModel",
            "_view_count": null,
            "_view_module": "@jupyter-widgets/base",
            "_view_module_version": "1.2.0",
            "_view_name": "StyleView",
            "description_width": ""
          }
        },
        "db1162509ad94ae8b249eea2271d3a2e": {
          "model_module": "@jupyter-widgets/base",
          "model_name": "LayoutModel",
          "model_module_version": "1.2.0",
          "state": {
            "_model_module": "@jupyter-widgets/base",
            "_model_module_version": "1.2.0",
            "_model_name": "LayoutModel",
            "_view_count": null,
            "_view_module": "@jupyter-widgets/base",
            "_view_module_version": "1.2.0",
            "_view_name": "LayoutView",
            "align_content": null,
            "align_items": null,
            "align_self": null,
            "border": null,
            "bottom": null,
            "display": null,
            "flex": null,
            "flex_flow": null,
            "grid_area": null,
            "grid_auto_columns": null,
            "grid_auto_flow": null,
            "grid_auto_rows": null,
            "grid_column": null,
            "grid_gap": null,
            "grid_row": null,
            "grid_template_areas": null,
            "grid_template_columns": null,
            "grid_template_rows": null,
            "height": null,
            "justify_content": null,
            "justify_items": null,
            "left": null,
            "margin": null,
            "max_height": null,
            "max_width": null,
            "min_height": null,
            "min_width": null,
            "object_fit": null,
            "object_position": null,
            "order": null,
            "overflow": null,
            "overflow_x": null,
            "overflow_y": null,
            "padding": null,
            "right": null,
            "top": null,
            "visibility": null,
            "width": "20px"
          }
        },
        "c005108b5ff94c8185b3968f6d5cc126": {
          "model_module": "@jupyter-widgets/controls",
          "model_name": "ProgressStyleModel",
          "model_module_version": "1.5.0",
          "state": {
            "_model_module": "@jupyter-widgets/controls",
            "_model_module_version": "1.5.0",
            "_model_name": "ProgressStyleModel",
            "_view_count": null,
            "_view_module": "@jupyter-widgets/base",
            "_view_module_version": "1.2.0",
            "_view_name": "StyleView",
            "bar_color": null,
            "description_width": ""
          }
        },
        "4254549da9b649eb9774766fc9dde9f2": {
          "model_module": "@jupyter-widgets/base",
          "model_name": "LayoutModel",
          "model_module_version": "1.2.0",
          "state": {
            "_model_module": "@jupyter-widgets/base",
            "_model_module_version": "1.2.0",
            "_model_name": "LayoutModel",
            "_view_count": null,
            "_view_module": "@jupyter-widgets/base",
            "_view_module_version": "1.2.0",
            "_view_name": "LayoutView",
            "align_content": null,
            "align_items": null,
            "align_self": null,
            "border": null,
            "bottom": null,
            "display": null,
            "flex": null,
            "flex_flow": null,
            "grid_area": null,
            "grid_auto_columns": null,
            "grid_auto_flow": null,
            "grid_auto_rows": null,
            "grid_column": null,
            "grid_gap": null,
            "grid_row": null,
            "grid_template_areas": null,
            "grid_template_columns": null,
            "grid_template_rows": null,
            "height": null,
            "justify_content": null,
            "justify_items": null,
            "left": null,
            "margin": null,
            "max_height": null,
            "max_width": null,
            "min_height": null,
            "min_width": null,
            "object_fit": null,
            "object_position": null,
            "order": null,
            "overflow": null,
            "overflow_x": null,
            "overflow_y": null,
            "padding": null,
            "right": null,
            "top": null,
            "visibility": null,
            "width": null
          }
        },
        "b60574cd7ae8410ea0b58dbfefb1a644": {
          "model_module": "@jupyter-widgets/controls",
          "model_name": "DescriptionStyleModel",
          "model_module_version": "1.5.0",
          "state": {
            "_model_module": "@jupyter-widgets/controls",
            "_model_module_version": "1.5.0",
            "_model_name": "DescriptionStyleModel",
            "_view_count": null,
            "_view_module": "@jupyter-widgets/base",
            "_view_module_version": "1.2.0",
            "_view_name": "StyleView",
            "description_width": ""
          }
        },
        "1195fba915d448fa8bfe319954ff19a8": {
          "model_module": "@jupyter-widgets/controls",
          "model_name": "HBoxModel",
          "model_module_version": "1.5.0",
          "state": {
            "_dom_classes": [],
            "_model_module": "@jupyter-widgets/controls",
            "_model_module_version": "1.5.0",
            "_model_name": "HBoxModel",
            "_view_count": null,
            "_view_module": "@jupyter-widgets/controls",
            "_view_module_version": "1.5.0",
            "_view_name": "HBoxView",
            "box_style": "",
            "children": [
              "IPY_MODEL_d77d411d47034fc1a7c998e54c427bbb",
              "IPY_MODEL_40e3cbb04e3243ecaa6e78501fb4d2f6",
              "IPY_MODEL_290af967e58a4ec586b0dc1da877eb49"
            ],
            "layout": "IPY_MODEL_869cd6d5bd6a4b7dba138d3eebf8173f"
          }
        },
        "d77d411d47034fc1a7c998e54c427bbb": {
          "model_module": "@jupyter-widgets/controls",
          "model_name": "HTMLModel",
          "model_module_version": "1.5.0",
          "state": {
            "_dom_classes": [],
            "_model_module": "@jupyter-widgets/controls",
            "_model_module_version": "1.5.0",
            "_model_name": "HTMLModel",
            "_view_count": null,
            "_view_module": "@jupyter-widgets/controls",
            "_view_module_version": "1.5.0",
            "_view_name": "HTMLView",
            "description": "",
            "description_tooltip": null,
            "layout": "IPY_MODEL_becb7a8acce8434db41c04ff4ad0eae9",
            "placeholder": "​",
            "style": "IPY_MODEL_a685ed3ab53c479e8d7f1310a6954d53",
            "value": "Downloading (…)okenizer_config.json: 100%"
          }
        },
        "40e3cbb04e3243ecaa6e78501fb4d2f6": {
          "model_module": "@jupyter-widgets/controls",
          "model_name": "FloatProgressModel",
          "model_module_version": "1.5.0",
          "state": {
            "_dom_classes": [],
            "_model_module": "@jupyter-widgets/controls",
            "_model_module_version": "1.5.0",
            "_model_name": "FloatProgressModel",
            "_view_count": null,
            "_view_module": "@jupyter-widgets/controls",
            "_view_module_version": "1.5.0",
            "_view_name": "ProgressView",
            "bar_style": "success",
            "description": "",
            "description_tooltip": null,
            "layout": "IPY_MODEL_09cd473ee5a74af3bd988996b8ebdf65",
            "max": 28,
            "min": 0,
            "orientation": "horizontal",
            "style": "IPY_MODEL_53bb6cb7d61c439aa6ddcf2bd4c4d78d",
            "value": 28
          }
        },
        "290af967e58a4ec586b0dc1da877eb49": {
          "model_module": "@jupyter-widgets/controls",
          "model_name": "HTMLModel",
          "model_module_version": "1.5.0",
          "state": {
            "_dom_classes": [],
            "_model_module": "@jupyter-widgets/controls",
            "_model_module_version": "1.5.0",
            "_model_name": "HTMLModel",
            "_view_count": null,
            "_view_module": "@jupyter-widgets/controls",
            "_view_module_version": "1.5.0",
            "_view_name": "HTMLView",
            "description": "",
            "description_tooltip": null,
            "layout": "IPY_MODEL_d8e0df38ee5f4dd7bfe5ee11715eaea9",
            "placeholder": "​",
            "style": "IPY_MODEL_affe990ba08c400f8f27873159039ced",
            "value": " 28.0/28.0 [00:00&lt;00:00, 860B/s]"
          }
        },
        "869cd6d5bd6a4b7dba138d3eebf8173f": {
          "model_module": "@jupyter-widgets/base",
          "model_name": "LayoutModel",
          "model_module_version": "1.2.0",
          "state": {
            "_model_module": "@jupyter-widgets/base",
            "_model_module_version": "1.2.0",
            "_model_name": "LayoutModel",
            "_view_count": null,
            "_view_module": "@jupyter-widgets/base",
            "_view_module_version": "1.2.0",
            "_view_name": "LayoutView",
            "align_content": null,
            "align_items": null,
            "align_self": null,
            "border": null,
            "bottom": null,
            "display": null,
            "flex": null,
            "flex_flow": null,
            "grid_area": null,
            "grid_auto_columns": null,
            "grid_auto_flow": null,
            "grid_auto_rows": null,
            "grid_column": null,
            "grid_gap": null,
            "grid_row": null,
            "grid_template_areas": null,
            "grid_template_columns": null,
            "grid_template_rows": null,
            "height": null,
            "justify_content": null,
            "justify_items": null,
            "left": null,
            "margin": null,
            "max_height": null,
            "max_width": null,
            "min_height": null,
            "min_width": null,
            "object_fit": null,
            "object_position": null,
            "order": null,
            "overflow": null,
            "overflow_x": null,
            "overflow_y": null,
            "padding": null,
            "right": null,
            "top": null,
            "visibility": null,
            "width": null
          }
        },
        "becb7a8acce8434db41c04ff4ad0eae9": {
          "model_module": "@jupyter-widgets/base",
          "model_name": "LayoutModel",
          "model_module_version": "1.2.0",
          "state": {
            "_model_module": "@jupyter-widgets/base",
            "_model_module_version": "1.2.0",
            "_model_name": "LayoutModel",
            "_view_count": null,
            "_view_module": "@jupyter-widgets/base",
            "_view_module_version": "1.2.0",
            "_view_name": "LayoutView",
            "align_content": null,
            "align_items": null,
            "align_self": null,
            "border": null,
            "bottom": null,
            "display": null,
            "flex": null,
            "flex_flow": null,
            "grid_area": null,
            "grid_auto_columns": null,
            "grid_auto_flow": null,
            "grid_auto_rows": null,
            "grid_column": null,
            "grid_gap": null,
            "grid_row": null,
            "grid_template_areas": null,
            "grid_template_columns": null,
            "grid_template_rows": null,
            "height": null,
            "justify_content": null,
            "justify_items": null,
            "left": null,
            "margin": null,
            "max_height": null,
            "max_width": null,
            "min_height": null,
            "min_width": null,
            "object_fit": null,
            "object_position": null,
            "order": null,
            "overflow": null,
            "overflow_x": null,
            "overflow_y": null,
            "padding": null,
            "right": null,
            "top": null,
            "visibility": null,
            "width": null
          }
        },
        "a685ed3ab53c479e8d7f1310a6954d53": {
          "model_module": "@jupyter-widgets/controls",
          "model_name": "DescriptionStyleModel",
          "model_module_version": "1.5.0",
          "state": {
            "_model_module": "@jupyter-widgets/controls",
            "_model_module_version": "1.5.0",
            "_model_name": "DescriptionStyleModel",
            "_view_count": null,
            "_view_module": "@jupyter-widgets/base",
            "_view_module_version": "1.2.0",
            "_view_name": "StyleView",
            "description_width": ""
          }
        },
        "09cd473ee5a74af3bd988996b8ebdf65": {
          "model_module": "@jupyter-widgets/base",
          "model_name": "LayoutModel",
          "model_module_version": "1.2.0",
          "state": {
            "_model_module": "@jupyter-widgets/base",
            "_model_module_version": "1.2.0",
            "_model_name": "LayoutModel",
            "_view_count": null,
            "_view_module": "@jupyter-widgets/base",
            "_view_module_version": "1.2.0",
            "_view_name": "LayoutView",
            "align_content": null,
            "align_items": null,
            "align_self": null,
            "border": null,
            "bottom": null,
            "display": null,
            "flex": null,
            "flex_flow": null,
            "grid_area": null,
            "grid_auto_columns": null,
            "grid_auto_flow": null,
            "grid_auto_rows": null,
            "grid_column": null,
            "grid_gap": null,
            "grid_row": null,
            "grid_template_areas": null,
            "grid_template_columns": null,
            "grid_template_rows": null,
            "height": null,
            "justify_content": null,
            "justify_items": null,
            "left": null,
            "margin": null,
            "max_height": null,
            "max_width": null,
            "min_height": null,
            "min_width": null,
            "object_fit": null,
            "object_position": null,
            "order": null,
            "overflow": null,
            "overflow_x": null,
            "overflow_y": null,
            "padding": null,
            "right": null,
            "top": null,
            "visibility": null,
            "width": null
          }
        },
        "53bb6cb7d61c439aa6ddcf2bd4c4d78d": {
          "model_module": "@jupyter-widgets/controls",
          "model_name": "ProgressStyleModel",
          "model_module_version": "1.5.0",
          "state": {
            "_model_module": "@jupyter-widgets/controls",
            "_model_module_version": "1.5.0",
            "_model_name": "ProgressStyleModel",
            "_view_count": null,
            "_view_module": "@jupyter-widgets/base",
            "_view_module_version": "1.2.0",
            "_view_name": "StyleView",
            "bar_color": null,
            "description_width": ""
          }
        },
        "d8e0df38ee5f4dd7bfe5ee11715eaea9": {
          "model_module": "@jupyter-widgets/base",
          "model_name": "LayoutModel",
          "model_module_version": "1.2.0",
          "state": {
            "_model_module": "@jupyter-widgets/base",
            "_model_module_version": "1.2.0",
            "_model_name": "LayoutModel",
            "_view_count": null,
            "_view_module": "@jupyter-widgets/base",
            "_view_module_version": "1.2.0",
            "_view_name": "LayoutView",
            "align_content": null,
            "align_items": null,
            "align_self": null,
            "border": null,
            "bottom": null,
            "display": null,
            "flex": null,
            "flex_flow": null,
            "grid_area": null,
            "grid_auto_columns": null,
            "grid_auto_flow": null,
            "grid_auto_rows": null,
            "grid_column": null,
            "grid_gap": null,
            "grid_row": null,
            "grid_template_areas": null,
            "grid_template_columns": null,
            "grid_template_rows": null,
            "height": null,
            "justify_content": null,
            "justify_items": null,
            "left": null,
            "margin": null,
            "max_height": null,
            "max_width": null,
            "min_height": null,
            "min_width": null,
            "object_fit": null,
            "object_position": null,
            "order": null,
            "overflow": null,
            "overflow_x": null,
            "overflow_y": null,
            "padding": null,
            "right": null,
            "top": null,
            "visibility": null,
            "width": null
          }
        },
        "affe990ba08c400f8f27873159039ced": {
          "model_module": "@jupyter-widgets/controls",
          "model_name": "DescriptionStyleModel",
          "model_module_version": "1.5.0",
          "state": {
            "_model_module": "@jupyter-widgets/controls",
            "_model_module_version": "1.5.0",
            "_model_name": "DescriptionStyleModel",
            "_view_count": null,
            "_view_module": "@jupyter-widgets/base",
            "_view_module_version": "1.2.0",
            "_view_name": "StyleView",
            "description_width": ""
          }
        },
        "db9a840d19a543afad8e34417075559b": {
          "model_module": "@jupyter-widgets/controls",
          "model_name": "HBoxModel",
          "model_module_version": "1.5.0",
          "state": {
            "_dom_classes": [],
            "_model_module": "@jupyter-widgets/controls",
            "_model_module_version": "1.5.0",
            "_model_name": "HBoxModel",
            "_view_count": null,
            "_view_module": "@jupyter-widgets/controls",
            "_view_module_version": "1.5.0",
            "_view_name": "HBoxView",
            "box_style": "",
            "children": [
              "IPY_MODEL_37459ffc68534d24add7267f106848d5",
              "IPY_MODEL_bea479fd55b3461abc5faca1567639de",
              "IPY_MODEL_9a734734d858486c95b84bb5225ad1b2"
            ],
            "layout": "IPY_MODEL_f4cb9b5e1e9c459a8454feeaf66bb07d"
          }
        },
        "37459ffc68534d24add7267f106848d5": {
          "model_module": "@jupyter-widgets/controls",
          "model_name": "HTMLModel",
          "model_module_version": "1.5.0",
          "state": {
            "_dom_classes": [],
            "_model_module": "@jupyter-widgets/controls",
            "_model_module_version": "1.5.0",
            "_model_name": "HTMLModel",
            "_view_count": null,
            "_view_module": "@jupyter-widgets/controls",
            "_view_module_version": "1.5.0",
            "_view_name": "HTMLView",
            "description": "",
            "description_tooltip": null,
            "layout": "IPY_MODEL_a6612496e520449394460dd9f2d5a679",
            "placeholder": "​",
            "style": "IPY_MODEL_4e57ee77e3584b13ae171e68f07db4e6",
            "value": "Downloading (…)lve/main/config.json: 100%"
          }
        },
        "bea479fd55b3461abc5faca1567639de": {
          "model_module": "@jupyter-widgets/controls",
          "model_name": "FloatProgressModel",
          "model_module_version": "1.5.0",
          "state": {
            "_dom_classes": [],
            "_model_module": "@jupyter-widgets/controls",
            "_model_module_version": "1.5.0",
            "_model_name": "FloatProgressModel",
            "_view_count": null,
            "_view_module": "@jupyter-widgets/controls",
            "_view_module_version": "1.5.0",
            "_view_name": "ProgressView",
            "bar_style": "success",
            "description": "",
            "description_tooltip": null,
            "layout": "IPY_MODEL_c97ed455abb24e5a9d4d9c69dc34291e",
            "max": 570,
            "min": 0,
            "orientation": "horizontal",
            "style": "IPY_MODEL_6053adb6900d4addb8af347df187ccf1",
            "value": 570
          }
        },
        "9a734734d858486c95b84bb5225ad1b2": {
          "model_module": "@jupyter-widgets/controls",
          "model_name": "HTMLModel",
          "model_module_version": "1.5.0",
          "state": {
            "_dom_classes": [],
            "_model_module": "@jupyter-widgets/controls",
            "_model_module_version": "1.5.0",
            "_model_name": "HTMLModel",
            "_view_count": null,
            "_view_module": "@jupyter-widgets/controls",
            "_view_module_version": "1.5.0",
            "_view_name": "HTMLView",
            "description": "",
            "description_tooltip": null,
            "layout": "IPY_MODEL_a44acff64c434f218c777673b40980ce",
            "placeholder": "​",
            "style": "IPY_MODEL_2d1851282b6b4668822b1b795393e076",
            "value": " 570/570 [00:00&lt;00:00, 31.4kB/s]"
          }
        },
        "f4cb9b5e1e9c459a8454feeaf66bb07d": {
          "model_module": "@jupyter-widgets/base",
          "model_name": "LayoutModel",
          "model_module_version": "1.2.0",
          "state": {
            "_model_module": "@jupyter-widgets/base",
            "_model_module_version": "1.2.0",
            "_model_name": "LayoutModel",
            "_view_count": null,
            "_view_module": "@jupyter-widgets/base",
            "_view_module_version": "1.2.0",
            "_view_name": "LayoutView",
            "align_content": null,
            "align_items": null,
            "align_self": null,
            "border": null,
            "bottom": null,
            "display": null,
            "flex": null,
            "flex_flow": null,
            "grid_area": null,
            "grid_auto_columns": null,
            "grid_auto_flow": null,
            "grid_auto_rows": null,
            "grid_column": null,
            "grid_gap": null,
            "grid_row": null,
            "grid_template_areas": null,
            "grid_template_columns": null,
            "grid_template_rows": null,
            "height": null,
            "justify_content": null,
            "justify_items": null,
            "left": null,
            "margin": null,
            "max_height": null,
            "max_width": null,
            "min_height": null,
            "min_width": null,
            "object_fit": null,
            "object_position": null,
            "order": null,
            "overflow": null,
            "overflow_x": null,
            "overflow_y": null,
            "padding": null,
            "right": null,
            "top": null,
            "visibility": null,
            "width": null
          }
        },
        "a6612496e520449394460dd9f2d5a679": {
          "model_module": "@jupyter-widgets/base",
          "model_name": "LayoutModel",
          "model_module_version": "1.2.0",
          "state": {
            "_model_module": "@jupyter-widgets/base",
            "_model_module_version": "1.2.0",
            "_model_name": "LayoutModel",
            "_view_count": null,
            "_view_module": "@jupyter-widgets/base",
            "_view_module_version": "1.2.0",
            "_view_name": "LayoutView",
            "align_content": null,
            "align_items": null,
            "align_self": null,
            "border": null,
            "bottom": null,
            "display": null,
            "flex": null,
            "flex_flow": null,
            "grid_area": null,
            "grid_auto_columns": null,
            "grid_auto_flow": null,
            "grid_auto_rows": null,
            "grid_column": null,
            "grid_gap": null,
            "grid_row": null,
            "grid_template_areas": null,
            "grid_template_columns": null,
            "grid_template_rows": null,
            "height": null,
            "justify_content": null,
            "justify_items": null,
            "left": null,
            "margin": null,
            "max_height": null,
            "max_width": null,
            "min_height": null,
            "min_width": null,
            "object_fit": null,
            "object_position": null,
            "order": null,
            "overflow": null,
            "overflow_x": null,
            "overflow_y": null,
            "padding": null,
            "right": null,
            "top": null,
            "visibility": null,
            "width": null
          }
        },
        "4e57ee77e3584b13ae171e68f07db4e6": {
          "model_module": "@jupyter-widgets/controls",
          "model_name": "DescriptionStyleModel",
          "model_module_version": "1.5.0",
          "state": {
            "_model_module": "@jupyter-widgets/controls",
            "_model_module_version": "1.5.0",
            "_model_name": "DescriptionStyleModel",
            "_view_count": null,
            "_view_module": "@jupyter-widgets/base",
            "_view_module_version": "1.2.0",
            "_view_name": "StyleView",
            "description_width": ""
          }
        },
        "c97ed455abb24e5a9d4d9c69dc34291e": {
          "model_module": "@jupyter-widgets/base",
          "model_name": "LayoutModel",
          "model_module_version": "1.2.0",
          "state": {
            "_model_module": "@jupyter-widgets/base",
            "_model_module_version": "1.2.0",
            "_model_name": "LayoutModel",
            "_view_count": null,
            "_view_module": "@jupyter-widgets/base",
            "_view_module_version": "1.2.0",
            "_view_name": "LayoutView",
            "align_content": null,
            "align_items": null,
            "align_self": null,
            "border": null,
            "bottom": null,
            "display": null,
            "flex": null,
            "flex_flow": null,
            "grid_area": null,
            "grid_auto_columns": null,
            "grid_auto_flow": null,
            "grid_auto_rows": null,
            "grid_column": null,
            "grid_gap": null,
            "grid_row": null,
            "grid_template_areas": null,
            "grid_template_columns": null,
            "grid_template_rows": null,
            "height": null,
            "justify_content": null,
            "justify_items": null,
            "left": null,
            "margin": null,
            "max_height": null,
            "max_width": null,
            "min_height": null,
            "min_width": null,
            "object_fit": null,
            "object_position": null,
            "order": null,
            "overflow": null,
            "overflow_x": null,
            "overflow_y": null,
            "padding": null,
            "right": null,
            "top": null,
            "visibility": null,
            "width": null
          }
        },
        "6053adb6900d4addb8af347df187ccf1": {
          "model_module": "@jupyter-widgets/controls",
          "model_name": "ProgressStyleModel",
          "model_module_version": "1.5.0",
          "state": {
            "_model_module": "@jupyter-widgets/controls",
            "_model_module_version": "1.5.0",
            "_model_name": "ProgressStyleModel",
            "_view_count": null,
            "_view_module": "@jupyter-widgets/base",
            "_view_module_version": "1.2.0",
            "_view_name": "StyleView",
            "bar_color": null,
            "description_width": ""
          }
        },
        "a44acff64c434f218c777673b40980ce": {
          "model_module": "@jupyter-widgets/base",
          "model_name": "LayoutModel",
          "model_module_version": "1.2.0",
          "state": {
            "_model_module": "@jupyter-widgets/base",
            "_model_module_version": "1.2.0",
            "_model_name": "LayoutModel",
            "_view_count": null,
            "_view_module": "@jupyter-widgets/base",
            "_view_module_version": "1.2.0",
            "_view_name": "LayoutView",
            "align_content": null,
            "align_items": null,
            "align_self": null,
            "border": null,
            "bottom": null,
            "display": null,
            "flex": null,
            "flex_flow": null,
            "grid_area": null,
            "grid_auto_columns": null,
            "grid_auto_flow": null,
            "grid_auto_rows": null,
            "grid_column": null,
            "grid_gap": null,
            "grid_row": null,
            "grid_template_areas": null,
            "grid_template_columns": null,
            "grid_template_rows": null,
            "height": null,
            "justify_content": null,
            "justify_items": null,
            "left": null,
            "margin": null,
            "max_height": null,
            "max_width": null,
            "min_height": null,
            "min_width": null,
            "object_fit": null,
            "object_position": null,
            "order": null,
            "overflow": null,
            "overflow_x": null,
            "overflow_y": null,
            "padding": null,
            "right": null,
            "top": null,
            "visibility": null,
            "width": null
          }
        },
        "2d1851282b6b4668822b1b795393e076": {
          "model_module": "@jupyter-widgets/controls",
          "model_name": "DescriptionStyleModel",
          "model_module_version": "1.5.0",
          "state": {
            "_model_module": "@jupyter-widgets/controls",
            "_model_module_version": "1.5.0",
            "_model_name": "DescriptionStyleModel",
            "_view_count": null,
            "_view_module": "@jupyter-widgets/base",
            "_view_module_version": "1.2.0",
            "_view_name": "StyleView",
            "description_width": ""
          }
        },
        "1b42eb5a0cd049ebad5a7e4a0ada7dd5": {
          "model_module": "@jupyter-widgets/controls",
          "model_name": "HBoxModel",
          "model_module_version": "1.5.0",
          "state": {
            "_dom_classes": [],
            "_model_module": "@jupyter-widgets/controls",
            "_model_module_version": "1.5.0",
            "_model_name": "HBoxModel",
            "_view_count": null,
            "_view_module": "@jupyter-widgets/controls",
            "_view_module_version": "1.5.0",
            "_view_name": "HBoxView",
            "box_style": "",
            "children": [
              "IPY_MODEL_f5c1fbf924144fcdb59db5b8f2c6d6f4",
              "IPY_MODEL_5d543988df7744aaad14d7fc5e5cd5d0",
              "IPY_MODEL_024d9c3031ec48a08a32de01260706df"
            ],
            "layout": "IPY_MODEL_c6b6b1836f9c4590a5fa13bbb3890509"
          }
        },
        "f5c1fbf924144fcdb59db5b8f2c6d6f4": {
          "model_module": "@jupyter-widgets/controls",
          "model_name": "HTMLModel",
          "model_module_version": "1.5.0",
          "state": {
            "_dom_classes": [],
            "_model_module": "@jupyter-widgets/controls",
            "_model_module_version": "1.5.0",
            "_model_name": "HTMLModel",
            "_view_count": null,
            "_view_module": "@jupyter-widgets/controls",
            "_view_module_version": "1.5.0",
            "_view_name": "HTMLView",
            "description": "",
            "description_tooltip": null,
            "layout": "IPY_MODEL_64f191c2b3244ae79cb29560dd12c968",
            "placeholder": "​",
            "style": "IPY_MODEL_1eac0c0494624e3ab387598a40b878b6",
            "value": "Downloading model.safetensors: 100%"
          }
        },
        "5d543988df7744aaad14d7fc5e5cd5d0": {
          "model_module": "@jupyter-widgets/controls",
          "model_name": "FloatProgressModel",
          "model_module_version": "1.5.0",
          "state": {
            "_dom_classes": [],
            "_model_module": "@jupyter-widgets/controls",
            "_model_module_version": "1.5.0",
            "_model_name": "FloatProgressModel",
            "_view_count": null,
            "_view_module": "@jupyter-widgets/controls",
            "_view_module_version": "1.5.0",
            "_view_name": "ProgressView",
            "bar_style": "success",
            "description": "",
            "description_tooltip": null,
            "layout": "IPY_MODEL_9c5afb4ce99945d084b9b9a2faeff0cd",
            "max": 440449768,
            "min": 0,
            "orientation": "horizontal",
            "style": "IPY_MODEL_7bd52a21afbe4e9593b823b002b194aa",
            "value": 440449768
          }
        },
        "024d9c3031ec48a08a32de01260706df": {
          "model_module": "@jupyter-widgets/controls",
          "model_name": "HTMLModel",
          "model_module_version": "1.5.0",
          "state": {
            "_dom_classes": [],
            "_model_module": "@jupyter-widgets/controls",
            "_model_module_version": "1.5.0",
            "_model_name": "HTMLModel",
            "_view_count": null,
            "_view_module": "@jupyter-widgets/controls",
            "_view_module_version": "1.5.0",
            "_view_name": "HTMLView",
            "description": "",
            "description_tooltip": null,
            "layout": "IPY_MODEL_3ed9af98ccbd428fa0908ca2809eabe3",
            "placeholder": "​",
            "style": "IPY_MODEL_81813b383723463685435166b179ec5d",
            "value": " 440M/440M [00:06&lt;00:00, 90.5MB/s]"
          }
        },
        "c6b6b1836f9c4590a5fa13bbb3890509": {
          "model_module": "@jupyter-widgets/base",
          "model_name": "LayoutModel",
          "model_module_version": "1.2.0",
          "state": {
            "_model_module": "@jupyter-widgets/base",
            "_model_module_version": "1.2.0",
            "_model_name": "LayoutModel",
            "_view_count": null,
            "_view_module": "@jupyter-widgets/base",
            "_view_module_version": "1.2.0",
            "_view_name": "LayoutView",
            "align_content": null,
            "align_items": null,
            "align_self": null,
            "border": null,
            "bottom": null,
            "display": null,
            "flex": null,
            "flex_flow": null,
            "grid_area": null,
            "grid_auto_columns": null,
            "grid_auto_flow": null,
            "grid_auto_rows": null,
            "grid_column": null,
            "grid_gap": null,
            "grid_row": null,
            "grid_template_areas": null,
            "grid_template_columns": null,
            "grid_template_rows": null,
            "height": null,
            "justify_content": null,
            "justify_items": null,
            "left": null,
            "margin": null,
            "max_height": null,
            "max_width": null,
            "min_height": null,
            "min_width": null,
            "object_fit": null,
            "object_position": null,
            "order": null,
            "overflow": null,
            "overflow_x": null,
            "overflow_y": null,
            "padding": null,
            "right": null,
            "top": null,
            "visibility": null,
            "width": null
          }
        },
        "64f191c2b3244ae79cb29560dd12c968": {
          "model_module": "@jupyter-widgets/base",
          "model_name": "LayoutModel",
          "model_module_version": "1.2.0",
          "state": {
            "_model_module": "@jupyter-widgets/base",
            "_model_module_version": "1.2.0",
            "_model_name": "LayoutModel",
            "_view_count": null,
            "_view_module": "@jupyter-widgets/base",
            "_view_module_version": "1.2.0",
            "_view_name": "LayoutView",
            "align_content": null,
            "align_items": null,
            "align_self": null,
            "border": null,
            "bottom": null,
            "display": null,
            "flex": null,
            "flex_flow": null,
            "grid_area": null,
            "grid_auto_columns": null,
            "grid_auto_flow": null,
            "grid_auto_rows": null,
            "grid_column": null,
            "grid_gap": null,
            "grid_row": null,
            "grid_template_areas": null,
            "grid_template_columns": null,
            "grid_template_rows": null,
            "height": null,
            "justify_content": null,
            "justify_items": null,
            "left": null,
            "margin": null,
            "max_height": null,
            "max_width": null,
            "min_height": null,
            "min_width": null,
            "object_fit": null,
            "object_position": null,
            "order": null,
            "overflow": null,
            "overflow_x": null,
            "overflow_y": null,
            "padding": null,
            "right": null,
            "top": null,
            "visibility": null,
            "width": null
          }
        },
        "1eac0c0494624e3ab387598a40b878b6": {
          "model_module": "@jupyter-widgets/controls",
          "model_name": "DescriptionStyleModel",
          "model_module_version": "1.5.0",
          "state": {
            "_model_module": "@jupyter-widgets/controls",
            "_model_module_version": "1.5.0",
            "_model_name": "DescriptionStyleModel",
            "_view_count": null,
            "_view_module": "@jupyter-widgets/base",
            "_view_module_version": "1.2.0",
            "_view_name": "StyleView",
            "description_width": ""
          }
        },
        "9c5afb4ce99945d084b9b9a2faeff0cd": {
          "model_module": "@jupyter-widgets/base",
          "model_name": "LayoutModel",
          "model_module_version": "1.2.0",
          "state": {
            "_model_module": "@jupyter-widgets/base",
            "_model_module_version": "1.2.0",
            "_model_name": "LayoutModel",
            "_view_count": null,
            "_view_module": "@jupyter-widgets/base",
            "_view_module_version": "1.2.0",
            "_view_name": "LayoutView",
            "align_content": null,
            "align_items": null,
            "align_self": null,
            "border": null,
            "bottom": null,
            "display": null,
            "flex": null,
            "flex_flow": null,
            "grid_area": null,
            "grid_auto_columns": null,
            "grid_auto_flow": null,
            "grid_auto_rows": null,
            "grid_column": null,
            "grid_gap": null,
            "grid_row": null,
            "grid_template_areas": null,
            "grid_template_columns": null,
            "grid_template_rows": null,
            "height": null,
            "justify_content": null,
            "justify_items": null,
            "left": null,
            "margin": null,
            "max_height": null,
            "max_width": null,
            "min_height": null,
            "min_width": null,
            "object_fit": null,
            "object_position": null,
            "order": null,
            "overflow": null,
            "overflow_x": null,
            "overflow_y": null,
            "padding": null,
            "right": null,
            "top": null,
            "visibility": null,
            "width": null
          }
        },
        "7bd52a21afbe4e9593b823b002b194aa": {
          "model_module": "@jupyter-widgets/controls",
          "model_name": "ProgressStyleModel",
          "model_module_version": "1.5.0",
          "state": {
            "_model_module": "@jupyter-widgets/controls",
            "_model_module_version": "1.5.0",
            "_model_name": "ProgressStyleModel",
            "_view_count": null,
            "_view_module": "@jupyter-widgets/base",
            "_view_module_version": "1.2.0",
            "_view_name": "StyleView",
            "bar_color": null,
            "description_width": ""
          }
        },
        "3ed9af98ccbd428fa0908ca2809eabe3": {
          "model_module": "@jupyter-widgets/base",
          "model_name": "LayoutModel",
          "model_module_version": "1.2.0",
          "state": {
            "_model_module": "@jupyter-widgets/base",
            "_model_module_version": "1.2.0",
            "_model_name": "LayoutModel",
            "_view_count": null,
            "_view_module": "@jupyter-widgets/base",
            "_view_module_version": "1.2.0",
            "_view_name": "LayoutView",
            "align_content": null,
            "align_items": null,
            "align_self": null,
            "border": null,
            "bottom": null,
            "display": null,
            "flex": null,
            "flex_flow": null,
            "grid_area": null,
            "grid_auto_columns": null,
            "grid_auto_flow": null,
            "grid_auto_rows": null,
            "grid_column": null,
            "grid_gap": null,
            "grid_row": null,
            "grid_template_areas": null,
            "grid_template_columns": null,
            "grid_template_rows": null,
            "height": null,
            "justify_content": null,
            "justify_items": null,
            "left": null,
            "margin": null,
            "max_height": null,
            "max_width": null,
            "min_height": null,
            "min_width": null,
            "object_fit": null,
            "object_position": null,
            "order": null,
            "overflow": null,
            "overflow_x": null,
            "overflow_y": null,
            "padding": null,
            "right": null,
            "top": null,
            "visibility": null,
            "width": null
          }
        },
        "81813b383723463685435166b179ec5d": {
          "model_module": "@jupyter-widgets/controls",
          "model_name": "DescriptionStyleModel",
          "model_module_version": "1.5.0",
          "state": {
            "_model_module": "@jupyter-widgets/controls",
            "_model_module_version": "1.5.0",
            "_model_name": "DescriptionStyleModel",
            "_view_count": null,
            "_view_module": "@jupyter-widgets/base",
            "_view_module_version": "1.2.0",
            "_view_name": "StyleView",
            "description_width": ""
          }
        }
      }
    }
  },
  "nbformat": 4,
  "nbformat_minor": 0
}